{
 "cells": [
  {
   "cell_type": "markdown",
   "id": "87fac469-667b-481e-9592-2f5bf53e094b",
   "metadata": {},
   "source": [
    "# "
   ]
  },
  {
   "cell_type": "code",
   "execution_count": 3,
   "id": "afef51d3-f150-4c39-a932-9f65bd8a626e",
   "metadata": {},
   "outputs": [],
   "source": [
    "L = [1,2,3]\n",
    "L.append('c')"
   ]
  },
  {
   "cell_type": "code",
   "execution_count": 7,
   "id": "03f8bd2c-6afa-43c8-95f5-5bb8e598f437",
   "metadata": {},
   "outputs": [
    {
     "ename": "AttributeError",
     "evalue": "'str' object has no attribute 'append'",
     "output_type": "error",
     "traceback": [
      "\u001b[0;31m---------------------------------------------------------------------------\u001b[0m",
      "\u001b[0;31mAttributeError\u001b[0m                            Traceback (most recent call last)",
      "Cell \u001b[0;32mIn[7], line 2\u001b[0m\n\u001b[1;32m      1\u001b[0m s \u001b[38;5;241m=\u001b[39m\u001b[38;5;124m\"\u001b[39m\u001b[38;5;124mHello\u001b[39m\u001b[38;5;124m\"\u001b[39m\n\u001b[0;32m----> 2\u001b[0m \u001b[43ms\u001b[49m\u001b[38;5;241;43m.\u001b[39;49m\u001b[43mappend\u001b[49m(\u001b[38;5;124m'\u001b[39m\u001b[38;5;124mc\u001b[39m\u001b[38;5;124m'\u001b[39m)\n",
      "\u001b[0;31mAttributeError\u001b[0m: 'str' object has no attribute 'append'"
     ]
    }
   ],
   "source": [
    "s =\"Hello\"\n",
    "s.append('c   ')"
   ]
  },
  {
   "cell_type": "code",
   "execution_count": 6,
   "id": "f42eb635-37c1-405b-8f5d-44142f90b33d",
   "metadata": {},
   "outputs": [
    {
     "data": {
      "text/plain": [
       "'Hello'"
      ]
     },
     "execution_count": 6,
     "metadata": {},
     "output_type": "execute_result"
    }
   ],
   "source": [
    "s"
   ]
  },
  {
   "cell_type": "code",
   "execution_count": 15,
   "id": "22575b6d-8568-4b74-9307-cf8e09aec79f",
   "metadata": {},
   "outputs": [
    {
     "ename": "TypeError",
     "evalue": "insert expected 2 arguments, got 1",
     "output_type": "error",
     "traceback": [
      "\u001b[0;31m---------------------------------------------------------------------------\u001b[0m",
      "\u001b[0;31mTypeError\u001b[0m                                 Traceback (most recent call last)",
      "Cell \u001b[0;32mIn[15], line 2\u001b[0m\n\u001b[1;32m      1\u001b[0m L \u001b[38;5;241m=\u001b[39m \u001b[38;5;28mlist\u001b[39m()\n\u001b[0;32m----> 2\u001b[0m \u001b[43mL\u001b[49m\u001b[38;5;241;43m.\u001b[39;49m\u001b[43minsert\u001b[49m\u001b[43m(\u001b[49m\u001b[43m[\u001b[49m\u001b[38;5;241;43m1\u001b[39;49m\u001b[43m,\u001b[49m\u001b[38;5;241;43m23\u001b[39;49m\u001b[43m,\u001b[49m\u001b[38;5;241;43m23\u001b[39;49m\u001b[43m,\u001b[49m\u001b[38;5;241;43m2\u001b[39;49m\u001b[43m,\u001b[49m\u001b[38;5;241;43m3\u001b[39;49m\u001b[43m]\u001b[49m\u001b[43m)\u001b[49m\n",
      "\u001b[0;31mTypeError\u001b[0m: insert expected 2 arguments, got 1"
     ]
    }
   ],
   "source": [
    "L = list()\n",
    "L.insert([1,23,23,2,3])"
   ]
  },
  {
   "cell_type": "code",
   "execution_count": 1,
   "id": "de636624-f179-4800-b80e-9250d6464b43",
   "metadata": {},
   "outputs": [],
   "source": [
    "# 2 types of classes -> list and userdefined classes\n",
    "class Atm:\n",
    "    # data required in the atm machine\n",
    "    # Atm pin and bank balance\n",
    "\n",
    "    # creating 2 variables inside a class\n",
    "\n",
    "    # creating constructor (The constructor) : \n",
    "    # rules : whenever you want to create a variable inside a class -> create it inside the constructor\n",
    "    # rule 2 : add `self. before its name`\n",
    "    def __init__(self):\n",
    "        self.pin = ''\n",
    "        self.balance = 0\n",
    "        print('runs always')\n",
    "        self.menu()\n",
    "\n",
    "    # Facts that no one will talk about -> you write 10,000 lines of code inside class it does not run\n",
    "    # unless and util an object is created\n",
    "    # same like class(course) if no student enrolls (no use of course)\n",
    "\n",
    "\n",
    "    #Funtionalities in ATM\n",
    "\n",
    "    # first creating a menu\n",
    "    def menu(self) : \n",
    "        user_input = input('''\n",
    "        Hi how can i help you ? \n",
    "        1. Press 1 to create pin \n",
    "        2. Press 2 to change pin\n",
    "        3. press 3 to check balance\n",
    "        4. press 4 to withdraw\n",
    "        5. Anything else to exit''')\n",
    "        if user_input == '1':\n",
    "            self.create_pin()\n",
    "            # create pin\n",
    "        elif user_input == '2':\n",
    "            # change pin\n",
    "            self.change_pin()\n",
    "        elif user_input == '3':\n",
    "            # check balance\n",
    "            self.check_balance()\n",
    "        elif user_input == '4':\n",
    "            # withdraw money\n",
    "            self.withdraw_money()\n",
    "        else : \n",
    "            exit() # this stops the python-kernel itself\n",
    "\n",
    "\n",
    "    def create_pin(self):\n",
    "        user_pin = input('Enter your pin')\n",
    "        self.pin = user_pin\n",
    "\n",
    "        user_balance = int(input(\"enter your balance\"))\n",
    "\n",
    "        print(\"your pin is created successfully :\\n  New pin is : \",user_pin)\n",
    "        self.menu()\n",
    "    def change_pin(self):\n",
    "        prev_pin = input(\"Enter your existing pin\")\n",
    "        if prev_pin == self.pin : \n",
    "            new_pin = int(input(\"Enter the new pin : \"))\n",
    "            self.pin = new_pin\n",
    "            print(\"Pin changed successfully\")\n",
    "            self.menu()\n",
    "        else:\n",
    "            print(\"Wrong pin entered\")\n",
    "            self.menu()\n",
    "    def check_balance(self):\n",
    "        print(\" Your current Account Balance is  : \", self.balance)\n",
    "        self.menu()\n",
    "    def exit(self):\n",
    "        print(\"Thank you for visiting\")\n",
    "\n",
    "    def withdraw_money(self):\n",
    "        pin_check = input(\"Enter you pin to continue\")\n",
    "        if self.pin == pin_check:\n",
    "            withdraw_money = int(input(\"Enter the amount to be withdrawn from you account\"))\n",
    "            if withdraw_money <= self.balance : \n",
    "                remaining_balance = self.balance - withdraw_money\n",
    "                self.balance = withdraw_money\n",
    "                print(\"Successfully withdrawn : \",withdraw_balance ,\"\\n Current balance is :  \",self.remaining_balance)\n",
    "            else :\n",
    "                print(\"Insufficient  balance\")\n",
    "        else:\n",
    "            print(\"Incorrect Pin\")\n",
    "        self.menu()\n",
    "                \n",
    "        \n",
    "\n",
    "    # constructor is just like a funtion but a special funtion \n",
    "    # superpower is that the code inside it, to run the code inside it you dont need to run the funtion or call the funtion explicitely\n",
    "    # As soon as the object is created the code inside the constructior is run -> jitne baar object banega uthne baar constructor call hoga\n",
    "    # you have to smarty use this behviour -> contructor ke aandar se call the `menu` function eg - atm mai card insert karne par he menu \n",
    "    # aagya\n",
    "    #\n",
    "    \n",
    "        "
   ]
  },
  {
   "cell_type": "code",
   "execution_count": 2,
   "id": "57f4ad19-8055-4e31-8b63-d3569b8c3c15",
   "metadata": {},
   "outputs": [
    {
     "name": "stdout",
     "output_type": "stream",
     "text": [
      "runs always\n"
     ]
    },
    {
     "name": "stdin",
     "output_type": "stream",
     "text": [
      "\n",
      "        Hi how can i help you ? \n",
      "        1. Press 1 to create pin \n",
      "        2. Press 2 to change pin\n",
      "        3. press 3 to check balance\n",
      "        4. press 4 to withdraw\n",
      "        5. Anything else to exit 5\n"
     ]
    }
   ],
   "source": [
    "# creating object of the class\n",
    "Abhishek = Atm()"
   ]
  },
  {
   "cell_type": "code",
   "execution_count": 1,
   "id": "5fa6419d-f917-4b5b-b846-f999bc77c685",
   "metadata": {},
   "outputs": [],
   "source": []
  },
  {
   "cell_type": "code",
   "execution_count": 1,
   "id": "95897081-b4a1-491a-b613-7f3d242548e9",
   "metadata": {},
   "outputs": [],
   "source": [
    "# Methods vs Function : \n",
    "# Class ke aandar ke funtion ko `method` bulate hain\n",
    "# Funtion agar class ke aandar implemented hain, that is called method\n",
    "# function agar -> outside of class `independently` implemented hain that is called ` functions `\n",
    "\n",
    "# Class Digagram : looks like a box \n",
    "# In the top there is the : class name, below are the two partitions \n",
    "# in the second layer all the classe's -> data/variables/attributes are there < eg : pin and balance >\n",
    "# In the last layer are the methods -> withdraw,... < constructors come here > \n",
    "\n",
    "# You also add signs(+ and -) -> + means public and - means private -> that thing is not visible outside the class\n",
    "\n",
    "# * ScreenShot (1) exists"
   ]
  },
  {
   "cell_type": "code",
   "execution_count": null,
   "id": "7fdbc69a-ce54-40be-97d7-dae42ecfbe73",
   "metadata": {},
   "outputs": [],
   "source": []
  },
  {
   "cell_type": "code",
   "execution_count": 5,
   "id": "2024bf82-cc16-4708-b19f-eda211eee668",
   "metadata": {},
   "outputs": [],
   "source": [
    "# Magic Methods or Dunder methods\n",
    "# Magic Method 1 -> The __init()__ method\n",
    "# Magic methods have special power, which looks like this (_ _name_ _) \n",
    "#eg : __init__ < constructor, which is also a magic method -> which has the super poer that you dont need to call it, as the object is created it is called by default>\n",
    "\n",
    "#Magic methods in Python are the special methods that start and end with the double underscores. They are also called dunder methods. \n",
    "#Magic methods are not meant to be invoked directly by you, but the invocation happens internally from the class on a certain action.\n",
    "\n",
    "# There are more than 50 magic methods in python"
   ]
  },
  {
   "cell_type": "code",
   "execution_count": 7,
   "id": "8b65e35d-f9c0-49ca-8be9-6afadf1fbe4f",
   "metadata": {},
   "outputs": [],
   "source": [
    "# Interview question : What is a constructor ?\n",
    "# In one line -> A constructor is a method defined inside a class, it a special method. With a special power -> dont need to call explicitely\n",
    "# Aithomatically triggers as the object is created\n",
    "# -> But what is the advantage ? \n",
    "# AS the constructor is the code block is automatically trigerred what is the benifit -> \n",
    "# Eg Bank -> To run the withdraw funtion, check balance funtion, change pin,... All these controls are with USER not programmer\n",
    "# But only the constructor code control is with PROGRAMMER -> CONFIGURATION RELATED CODE eg : pin set, bank balance fetch, etc...\n",
    "# -> CONFIGURATION RELATED CODE eg : code for conneting the ola application to internet, the database etc... configuration related < without asking the user>\n",
    "\n",
    "# if GOD is the Programmer\n",
    "# Earth is the class\n",
    "# Assuming we humans are the object\n",
    "# What does the constructor code contains ? -> DEATH is inside the constructor\n",
    "# as soon as the human is born there is only one guarentee that this human will die < DEATH>\n",
    "\n",
    "\n",
    "# In Python constructor is wirteen as : \n",
    "'''\n",
    "class ATM\n",
    "\n",
    "def __init__(self): # This is the constructor - cannot be renamed - can there be only one contructor\n",
    "'''\n",
    "\n"
   ]
  },
  {
   "cell_type": "code",
   "execution_count": 9,
   "id": "18bd6523-fbcf-42df-9368-e58d1d730691",
   "metadata": {},
   "outputs": [],
   "source": [
    "# What is `self` in constructor or default parameter in the funtions of the class\n",
    "# also in the variables inside the contructors, self.pin ,....\n",
    "# aslo whenever you call a method inside the class, you do : self.withdraw(),...\n",
    "\n",
    "# Before learning GOLDEN RULE OF OOP : (class -> rules -> attributes and methods and objects), Golden rules says that,\n",
    "# class ke aandar ke methods and attributes can be accessed by its class's object only.\n",
    "# therefore the rules says that -> apke class ke aandar ke rules can `only` and `sirf`  be accessed by the objects\n",
    "\n",
    "# Therefore check balance method cannt call withdraw by itelsef ie., one method of same class cannot call another method of same class\n",
    "# Therefore i have to take help of `self` to do it -> SINCE EVERY THING IS `OBJECT` IN PYTHON -> SELF IS ALSO A OBJECT"
   ]
  },
  {
   "cell_type": "code",
   "execution_count": 10,
   "id": "d413db65-82f7-4b37-addb-786dfb253104",
   "metadata": {},
   "outputs": [],
   "source": [
    "# one small code to determine what self is : "
   ]
  },
  {
   "cell_type": "code",
   "execution_count": 13,
   "id": "333e226c-c313-49bd-9110-b830c35b695e",
   "metadata": {},
   "outputs": [],
   "source": [
    "class test:\n",
    "    def __init__(self):\n",
    "        print(id(self))"
   ]
  },
  {
   "cell_type": "code",
   "execution_count": 16,
   "id": "a4c91579-ed93-47bd-bf5c-9ddb9900282b",
   "metadata": {},
   "outputs": [
    {
     "name": "stdout",
     "output_type": "stream",
     "text": [
      "4397654992\n",
      "4397659664\n"
     ]
    }
   ],
   "source": [
    "a  = test()\n",
    "b = test()"
   ]
  },
  {
   "cell_type": "code",
   "execution_count": 18,
   "id": "f83b147a-48a0-402b-947a-fb636f5f578b",
   "metadata": {},
   "outputs": [
    {
     "data": {
      "text/plain": [
       "(4397654992, 4397659664)"
      ]
     },
     "execution_count": 18,
     "metadata": {},
     "output_type": "execute_result"
    }
   ],
   "source": [
    "id(a),id(b)\n"
   ]
  },
  {
   "cell_type": "code",
   "execution_count": 22,
   "id": "d332d511-1326-4333-9aa4-dd8a2951d2f4",
   "metadata": {},
   "outputs": [],
   "source": [
    "# as you can see both have the same location the id and self have same location\n",
    "# that is they point to same memory address\n",
    "\n",
    "# this means that self is nothing but self\n",
    "\n",
    "# but why is it named under self in class, why does it exists : \n",
    "# 1. to talk with other methods : \n",
    "# class ke cheezo sirf class ka object access kr skta hain - correct - not even uska own funtion\n",
    "# but when the 2 funtion of same class want to talk -> \n",
    "# constructor -> class ke object `self` ko bolega -> aur `self` uss object ko bolega\n",
    "\n",
    "# and variable ke aage iss liye `self` hain because, since classe's method cannot be accessed by another therefore unke variables bhi nah ho skte\n",
    "# that is why methods ke aandar wale attributes/variable bhi self ko use karte hain"
   ]
  },
  {
   "cell_type": "code",
   "execution_count": 23,
   "id": "3b1395e5-a0ee-4c0a-b4ea-6f38fd223f8d",
   "metadata": {},
   "outputs": [],
   "source": [
    "# ALso: \n",
    "# object.method_name() karne se object itself is passed as an argument to the method\n",
    "# 2 points : \n",
    "# 1. to eastablish communication between the classes\n",
    "# 2. Self is nothing but the current object\n",
    "# `self` is not the complusion you can also use `any syntax` it is just a convention\n",
    "# self can be called as instance of the class"
   ]
  },
  {
   "cell_type": "code",
   "execution_count": null,
   "id": "fa928eb1-146c-40b1-b37d-1926dd75db9d",
   "metadata": {},
   "outputs": [],
   "source": []
  },
  {
   "cell_type": "code",
   "execution_count": 74,
   "id": "68879094-6bcd-446f-810a-a459c29c618c",
   "metadata": {},
   "outputs": [],
   "source": [
    "# Building our own data type called `fractions`\n",
    "class fraction :\n",
    "    #parameterized constructor\n",
    "    def __init__(self,x,y):\n",
    "        self.num = x\n",
    "        self.den = y\n",
    "        self.result = x/y\n",
    "    def __str__(self):\n",
    "        ## whenever you do a print(object) -> python will by deafult go inside the class an call the `__str__` function\n",
    "        return f'{self.num}/{self.den}'\n",
    "    def __add__(self,other) : \n",
    "        #is autmoatically trigerred if 2 objects of this same class gets a `+` operation\n",
    "        # self, others beacuse this assumes 2 objects are being added, so here self and other both will have one num and one den each\n",
    "        denominator = self.den * other.den\n",
    "        numerator = (self.num * other.den) + (self.den * other.num)\n",
    "        print(f'{numerator}/{denominator}')\n",
    "        return numerator/denominator\n",
    "\n",
    "    #def __sub__(self,other) : ######\n",
    "    #def __mul__(self,other):\n",
    "    #def __trueduv__(self,other) : \n",
    "\n",
    "    def convert_to_div(self): # non-magic funtions/methods\n",
    "        return self.num/self.den\n",
    "        \n",
    "\n",
    "\n",
    "    \n",
    "\n",
    "        \n",
    "        \n",
    "        "
   ]
  },
  {
   "cell_type": "code",
   "execution_count": 75,
   "id": "217a4f30-6672-41d9-8470-82fcdc9ad409",
   "metadata": {},
   "outputs": [],
   "source": [
    "\n",
    "a = fraction(10,2)\n",
    "b = fraction(12,2)\n",
    "c = fraction(12,1)"
   ]
  },
  {
   "cell_type": "code",
   "execution_count": 76,
   "id": "492c4d34-8c1a-455a-ba9d-721573ff585f",
   "metadata": {},
   "outputs": [
    {
     "name": "stdout",
     "output_type": "stream",
     "text": [
      "10/2\n"
     ]
    }
   ],
   "source": [
    "print(a) # at this points -> python tells that i really dont know how your object looks like\n",
    "# This is all what i know"
   ]
  },
  {
   "cell_type": "code",
   "execution_count": 77,
   "id": "d93a12ac-3215-426f-ae6e-5318de7980c5",
   "metadata": {},
   "outputs": [
    {
     "name": "stdout",
     "output_type": "stream",
     "text": [
      "44/4\n"
     ]
    },
    {
     "data": {
      "text/plain": [
       "11.0"
      ]
     },
     "execution_count": 77,
     "metadata": {},
     "output_type": "execute_result"
    }
   ],
   "source": [
    "a+b"
   ]
  },
  {
   "cell_type": "code",
   "execution_count": 79,
   "id": "e17a19c7-9a1f-44fc-83e9-19434f2fdab9",
   "metadata": {},
   "outputs": [
    {
     "data": {
      "text/plain": [
       "5.0"
      ]
     },
     "execution_count": 79,
     "metadata": {},
     "output_type": "execute_result"
    }
   ],
   "source": [
    "a.convert_to_div() # when i do this the object a itself is passed to the method `convert_to_div()` as a\n",
    "# parameter because of the `self` in the definition"
   ]
  },
  {
   "cell_type": "code",
   "execution_count": 84,
   "id": "89cda51b-0892-4b45-a1fc-22c2f50c676f",
   "metadata": {},
   "outputs": [],
   "source": [
    "class Person : \n",
    "    def __init__(self,name_i,country_i):\n",
    "        self.name = name_i\n",
    "        self.country = country_i\n",
    "    def greet(self):\n",
    "        if self.country == \"india\":\n",
    "            print(\"Namaste \\n\",self.name)\n",
    "        else : \n",
    "            print(\"Hello \\n\",self.name)"
   ]
  },
  {
   "cell_type": "code",
   "execution_count": 85,
   "id": "2105807b-61c6-4f5a-bdaf-7307ddf9b0d2",
   "metadata": {},
   "outputs": [],
   "source": [
    "p1 = Person(\"Abhishek\",\"India\")"
   ]
  },
  {
   "cell_type": "code",
   "execution_count": 86,
   "id": "fddb6713-31ed-419f-9120-2cd9a19bbda3",
   "metadata": {},
   "outputs": [],
   "source": [
    "# Attribution creation from outside the class\n",
    "# but the `new` attribute is only being created for the particular object that created it\n",
    "p1.gender = \"Male\""
   ]
  },
  {
   "cell_type": "code",
   "execution_count": 90,
   "id": "f1d56765-cb60-4dc6-a046-43a56d4b1fbe",
   "metadata": {},
   "outputs": [
    {
     "data": {
      "text/plain": [
       "'Male'"
      ]
     },
     "execution_count": 90,
     "metadata": {},
     "output_type": "execute_result"
    }
   ],
   "source": [
    "p1.gender "
   ]
  },
  {
   "cell_type": "code",
   "execution_count": 88,
   "id": "4bb1a49f-3ccd-414a-9a6f-a0b3d3594035",
   "metadata": {},
   "outputs": [],
   "source": [
    "p2 = Person(\"A\",\"B\")"
   ]
  },
  {
   "cell_type": "code",
   "execution_count": 91,
   "id": "b5f7c08c-99dc-4f52-af55-5eda6cb00bc2",
   "metadata": {},
   "outputs": [],
   "source": [
    "# but the `new` attribute is only being created for the particular object that created it\n",
    "#p2.gender"
   ]
  },
  {
   "cell_type": "code",
   "execution_count": null,
   "id": "8ba8cd34-846e-419d-8003-54979a1a3425",
   "metadata": {},
   "outputs": [],
   "source": []
  },
  {
   "cell_type": "code",
   "execution_count": 93,
   "id": "236b16fc-b845-41bb-92ec-b4b3f319c13b",
   "metadata": {},
   "outputs": [],
   "source": [
    "### Reference Variables\n",
    "    # Reference variables hold the objects\n",
    "    # We can create objects without reference variables as well\n",
    "    # An object can have multiple refernce variables\n",
    "    # Assigning a new reference vairable to an existing object does not create a new object"
   ]
  },
  {
   "cell_type": "code",
   "execution_count": 94,
   "id": "0d3044a5-8483-4060-9680-70d03b7efc2d",
   "metadata": {},
   "outputs": [],
   "source": [
    "class Person : \n",
    "    def __init__(self,name_i,country_i):\n",
    "        self.name = name_i\n",
    "        self.country = country_i\n",
    "    def greet(self):\n",
    "        if self.country == \"india\":\n",
    "            print(\"Namaste \\n\",self.name)\n",
    "        else : \n",
    "            print(\"Hello \\n\",self.name)"
   ]
  },
  {
   "cell_type": "code",
   "execution_count": 97,
   "id": "67c873da-34aa-46d1-a2c1-d7a873334d71",
   "metadata": {},
   "outputs": [
    {
     "name": "stdout",
     "output_type": "stream",
     "text": [
      "Abhishek\n",
      "Abhishek\n"
     ]
    }
   ],
   "source": [
    "# p = Person()\n",
    "# Person() -> object aaise bhi create hoga\n",
    "\n",
    "# when you do `p = Person()` : Person() ko call karne se ek object baana aur hum usko refer kar rahe hain `p` se\n",
    "# p is just a variable name that contains the memory location of the object\n",
    "# p is not the object- > it just is a refernce of the object -> that stores the location/address/reference of the object\n",
    "\n",
    "#p = Person()\n",
    "#q = p   -> here q is also pointing to the same location\n",
    "# Moral : Ek he object ko bana ke we can give it to multiple refernce variables\n",
    "\n",
    "# p is not an object p tho refernce variable hain object ka, jo object ka location store karta hain\n",
    "\n",
    "print(p1.name)\n",
    "p2 = p1\n",
    "print(p2.name)\n",
    "\n",
    "# Since both the reference variable point to same object"
   ]
  },
  {
   "cell_type": "code",
   "execution_count": 113,
   "id": "322f7bbe-c617-4056-8550-60e4fb47670a",
   "metadata": {},
   "outputs": [],
   "source": [
    "class Person:\n",
    "    def __init__(self,name,gender):\n",
    "        self.name = name\n",
    "        self.gender = gender\n",
    "def greet(person):\n",
    "    print(person.name)\n",
    "    p1 = Person('anjkit',\"male\")\n",
    "    return p1\n",
    "        "
   ]
  },
  {
   "cell_type": "code",
   "execution_count": 115,
   "id": "a7dcad0f-37f3-4407-9c20-39505d537795",
   "metadata": {},
   "outputs": [
    {
     "name": "stdout",
     "output_type": "stream",
     "text": [
      "Abhishek\n",
      "anjkit\n"
     ]
    }
   ],
   "source": [
    "p = Person(\"Abhishek\",\"Singh\")\n",
    "p1 = greet(p) # You can pass class ka object as an input to the function\n",
    "print(p1.name)\n",
    "\n",
    "# The reverse is also true, a function can return a object also."
   ]
  },
  {
   "cell_type": "code",
   "execution_count": 116,
   "id": "de185257-0f8a-4eed-a4c0-e114629c07b5",
   "metadata": {},
   "outputs": [
    {
     "name": "stdout",
     "output_type": "stream",
     "text": [
      "4404152400\n",
      "Abhishek\n",
      "4404152400\n"
     ]
    }
   ],
   "source": [
    "class Person:\n",
    "    def __init__(self,name,gender):\n",
    "        self.name = name\n",
    "        self.gender = gender\n",
    "def greet(person):\n",
    "    print(id(person)) # here you dont pass the object but only the address of the object - reference\n",
    "    print(person.name)\n",
    "    p1 = Person('anjkit',\"male\")\n",
    "    return p1\n",
    "\n",
    "p = Person(\"Abhishek\",\"Singh\")\n",
    "p1 = greet(p)\n",
    "print(id(p))"
   ]
  },
  {
   "cell_type": "code",
   "execution_count": 117,
   "id": "24c02dc1-43dc-46e8-a24d-f208bda98465",
   "metadata": {},
   "outputs": [],
   "source": [
    "# write this code : "
   ]
  },
  {
   "cell_type": "code",
   "execution_count": 124,
   "id": "c5e1cbcc-1e26-4af0-9957-99d05c6024cc",
   "metadata": {},
   "outputs": [
    {
     "name": "stdout",
     "output_type": "stream",
     "text": [
      "4404116112\n",
      "Abhishek\n",
      "4404116112\n",
      "4404116112\n",
      "Changed Name\n",
      "4404116112\n"
     ]
    }
   ],
   "source": [
    "class Person:\n",
    "    def __init__(self,name,gender):\n",
    "        self.name = name\n",
    "        self.gender = gender\n",
    "def greet(person):\n",
    "    print(id(person)) # here you dont pass the object but only the address of the object - reference\n",
    "    print(person.name)\n",
    "    person.name =\"Changed Name\"\n",
    "p = Person(\"Abhishek\",\"Singh\")\n",
    "greet(p)\n",
    "print(id(p))\n",
    "greet(p) \n",
    "print(id(p)) # After you create an object then send that same object in the funtion and then make changes in the object inside the funtion\n",
    "# then also the object location/adress does not change since -> objects in python is muttable -> \n",
    "# ussi jagah mai rakh ke changes ho pa raha hain"
   ]
  },
  {
   "cell_type": "code",
   "execution_count": null,
   "id": "3561c5a0-f511-4afc-bae8-2f5f2f5f2330",
   "metadata": {},
   "outputs": [],
   "source": []
  },
  {
   "cell_type": "code",
   "execution_count": 125,
   "id": "a431e794-4584-481a-8540-86f6d149e583",
   "metadata": {},
   "outputs": [],
   "source": [
    "# Encapusaltion : \n",
    "\n",
    "# What is instance variable ? -> ek aaisa variable <special vairable> jiska value, for different objects is different (pin,accno,balance,name,gender,...)\n",
    "\n",
    "# ATM class refernce :\n",
    "# story till now : bahar se jr programmer can change the value of what is inside your code <instance variable value> which can lead to \n",
    "# code faatna  eg : \"hehe\" in onj.balance = \"herhe\" -> withdraw() -> \"ehehe\" - 1000 -> Error"
   ]
  },
  {
   "cell_type": "code",
   "execution_count": 126,
   "id": "cecc3d69-b5ce-47d5-89d4-9eda8d47e455",
   "metadata": {},
   "outputs": [],
   "source": [
    "# Therefore to avoid this situation -> private keyword -> (double__underscore) -> `__balance` -> private balance\n",
    "# class ke aandar ke instance variable will not be visible\n",
    "# When you change any instance variable from public (balance) -> private(__balance) -> its name in the memory beomes _classname__balance\n",
    "# => ` _Atm__balance`\n",
    "\n",
    "# and when someone write : obj.__balance = \"wew\" # a new variable `__balance` is created\n",
    "\n",
    "# Nothing is private in python then, why ? -> because python is `Gentleman's programming langage` -> in stack overflow\n",
    "# if your sr. programmer writes `__` <double underscore> then its a gentlemans's aggrement that you dont touch that\n",
    "\n",
    "\n",
    "# NOTE : methods can also be private ~ def __menu()"
   ]
  },
  {
   "cell_type": "code",
   "execution_count": 128,
   "id": "05984c58-3ef5-42ea-a97d-a3ebd0295d81",
   "metadata": {},
   "outputs": [],
   "source": [
    "# Best practise : \n",
    "# 1. Always keep your class instance variables private"
   ]
  },
  {
   "cell_type": "code",
   "execution_count": 129,
   "id": "09c7dbfe-dd10-45c4-b857-b681e7658d53",
   "metadata": {},
   "outputs": [],
   "source": [
    "# You have to change the data of the private method outside the class, but without removing it privatee's status : "
   ]
  },
  {
   "cell_type": "code",
   "execution_count": 132,
   "id": "0257ab68-12dd-478d-99ba-12473c0a9b44",
   "metadata": {},
   "outputs": [],
   "source": [
    "# For everydata tha you have there are 2 mehtods : 1. getter and 2. Setter\n",
    "class Atm1 : \n",
    "    def __init__(self):\n",
    "        self.pin =' '\n",
    "        self.balance = 0\n",
    "    def get_balance(self):\n",
    "        return self.__balance    # Getter method\n",
    "    def set_balance(self,new_value):\n",
    "        if type(new_value)== int : \n",
    "            self.__balance = new_value # Setter method\n",
    "        else : \n",
    "            print(\"Logic Error\")"
   ]
  },
  {
   "cell_type": "code",
   "execution_count": 133,
   "id": "4eed87da-2df9-43c7-8ceb-41e1c9177676",
   "metadata": {},
   "outputs": [],
   "source": [
    "# Encapulation -> ek data attribute aur 2 methods -> getter and setter\n",
    "# ek private attricbute but uski zarurat hoti hain tho bahar se safely usko apne rules be modify karna\n",
    "# Encapsulatin terms comes from -> multiple power <2 methods of one instance variable that is private> mixed together in one class <capsule>"
   ]
  },
  {
   "cell_type": "code",
   "execution_count": null,
   "id": "18d8fdf9-f11f-41ac-b545-b2c50cf7b31a",
   "metadata": {},
   "outputs": [],
   "source": []
  },
  {
   "cell_type": "code",
   "execution_count": 134,
   "id": "cc494231-81de-4a2f-9fc6-bdcd20d89989",
   "metadata": {},
   "outputs": [],
   "source": [
    "# Collections of Objects"
   ]
  },
  {
   "cell_type": "code",
   "execution_count": 144,
   "id": "637c8aed-7e68-4f94-b001-e9c5f998fa32",
   "metadata": {},
   "outputs": [],
   "source": [
    "class Person : \n",
    "\n",
    "    def __init__(self,name,gender):\n",
    "        self.name = name\n",
    "        self.gender = gender\n",
    "    def __str__(self):\n",
    "       return(\"Object here\")\n",
    "\n",
    "p1 = Person('nitish','male')\n",
    "p2 = Person('nitish','male')\n",
    "p3 = Person('nitish','male')\n",
    "p4 = Person('nitish','male')"
   ]
  },
  {
   "cell_type": "code",
   "execution_count": 148,
   "id": "d4d2c6d4-ff47-4389-93bb-e6d47b933fe5",
   "metadata": {},
   "outputs": [],
   "source": [
    "l = [p1,p2,p3,p4]"
   ]
  },
  {
   "cell_type": "code",
   "execution_count": 149,
   "id": "1736f757-2b5c-4054-ba05-47882d836163",
   "metadata": {},
   "outputs": [
    {
     "name": "stdout",
     "output_type": "stream",
     "text": [
      "nitish male\n",
      "nitish male\n",
      "nitish male\n",
      "nitish male\n"
     ]
    }
   ],
   "source": [
    "for i in l:\n",
    "    print(i.name,i.gender)"
   ]
  },
  {
   "cell_type": "code",
   "execution_count": 152,
   "id": "1c47520e-03e2-409e-99a3-33b0b042d484",
   "metadata": {},
   "outputs": [],
   "source": [
    "d = {\"p1\":p1} # can be used in dictionaries as well"
   ]
  },
  {
   "cell_type": "code",
   "execution_count": 153,
   "id": "3883ebaa-779e-4184-b682-046abd71e206",
   "metadata": {},
   "outputs": [
    {
     "data": {
      "text/plain": [
       "'nitish'"
      ]
     },
     "execution_count": 153,
     "metadata": {},
     "output_type": "execute_result"
    }
   ],
   "source": [
    "d[\"p1\"].name"
   ]
  },
  {
   "cell_type": "code",
   "execution_count": null,
   "id": "ea0f586a-0781-41dd-b47d-1f15d2d3c001",
   "metadata": {},
   "outputs": [],
   "source": []
  },
  {
   "cell_type": "code",
   "execution_count": 172,
   "id": "219f7501-fa6b-40d3-85e4-107447a37607",
   "metadata": {},
   "outputs": [],
   "source": [
    "# Static keyword\n",
    "\n",
    "# Implementing a counter in `ATM` class : \n",
    "class atm:\n",
    "    __counter = 1\n",
    "    def __init__(self):\n",
    "        self.id = atm.__counter\n",
    "        atm.__counter+=1"
   ]
  },
  {
   "cell_type": "code",
   "execution_count": 173,
   "id": "8ef06198-4423-4a68-8475-e707536b9a4e",
   "metadata": {},
   "outputs": [],
   "source": [
    "p1 = atm()"
   ]
  },
  {
   "cell_type": "code",
   "execution_count": 174,
   "id": "1e8486ba-e4d3-4290-b2d3-84d7f9e0bf47",
   "metadata": {},
   "outputs": [],
   "source": [
    "p2 = atm()"
   ]
  },
  {
   "cell_type": "code",
   "execution_count": 175,
   "id": "b7e7ddcc-8839-405c-9861-880a3c5d4dca",
   "metadata": {},
   "outputs": [],
   "source": [
    "p3 = atm()"
   ]
  },
  {
   "cell_type": "code",
   "execution_count": 176,
   "id": "3f770169-6ce0-47ce-98f0-6828d69812c9",
   "metadata": {},
   "outputs": [
    {
     "data": {
      "text/plain": [
       "(1, 2, 3)"
      ]
     },
     "execution_count": 176,
     "metadata": {},
     "output_type": "execute_result"
    }
   ],
   "source": [
    "p1.id , p2.id, p3.id \n",
    "# Finally : using an isntance variable you cannot implement a counter\n",
    "# teeno jo id hain voh -> independent hai\n",
    "# you want the to talk to each other\n",
    "\n",
    "# Note static variable ka value har variable ke liye same hoga\n",
    "# @Interview question : 1. INSTANCE VARIABLE ka value har object ke liye aalag aalag hota hai\n",
    "# 2. static variable ka value -> har object ke liye same hota hai\n",
    "# 3. static variable -> belongs to class 4. INstance variable belong to an object\n",
    "# 5. static variariable is defined under the class over all the mothods and constructor\n",
    "#6. Whenever you use static variable you deifin/use it with the class name `atm.counter` \n",
    "# 7. using instance variable, we use object name `self.counter`"
   ]
  },
  {
   "cell_type": "code",
   "execution_count": 196,
   "id": "3b80807c-69bb-4871-9105-667186c6b79f",
   "metadata": {},
   "outputs": [],
   "source": [
    "# to make static variables private\n",
    "class atm:\n",
    "    __counter = 1\n",
    "    def __init__(self):\n",
    "        self.id = atm.__counter\n",
    "        atm.__counter+=1\n",
    "        \n",
    "    @staticmethod  # static method decorator\n",
    "    def get_counter(): # utility funtions - they dont need creation of objects\n",
    "        return atm.__counter"
   ]
  },
  {
   "cell_type": "code",
   "execution_count": 197,
   "id": "1ed14f67-42da-4c23-b828-0479593a1d48",
   "metadata": {},
   "outputs": [],
   "source": [
    "p1 = atm()"
   ]
  },
  {
   "cell_type": "code",
   "execution_count": 199,
   "id": "bdafdb01-10f5-4bc2-9795-1b604961e054",
   "metadata": {},
   "outputs": [
    {
     "data": {
      "text/plain": [
       "2"
      ]
     },
     "execution_count": 199,
     "metadata": {},
     "output_type": "execute_result"
    }
   ],
   "source": [
    "atm.get_counter()"
   ]
  },
  {
   "cell_type": "code",
   "execution_count": 200,
   "id": "e8accc32-9a3d-491e-b68f-58d443c4b289",
   "metadata": {},
   "outputs": [],
   "source": [
    "# So there are 2 types of methods : \n",
    "# Normal Methods and Static methods\n",
    "# static methods - you dont need object creation to access those methods\n",
    "# static methods -> classname.method can help you access those"
   ]
  },
  {
   "cell_type": "code",
   "execution_count": null,
   "id": "a87a0063-5f83-48cd-88f3-f37ca09e2210",
   "metadata": {},
   "outputs": [],
   "source": []
  },
  {
   "cell_type": "code",
   "execution_count": 1,
   "id": "f0e9c292-5d48-4b36-99c3-cd9b17c302ea",
   "metadata": {},
   "outputs": [],
   "source": [
    "# OOP part 3"
   ]
  },
  {
   "cell_type": "code",
   "execution_count": 2,
   "id": "d606f209-1667-432c-b2ea-f431c0c0b9c6",
   "metadata": {},
   "outputs": [],
   "source": [
    "# Class Relations - when you have diff classes how do they related with each other\n",
    "# Things going to learn : "
   ]
  },
  {
   "cell_type": "code",
   "execution_count": 4,
   "id": "0660840c-998a-4625-9825-39e3d620a699",
   "metadata": {},
   "outputs": [],
   "source": [
    "# 1. Aggregation  - has a relationship. One class owns the another class.\n",
    "# eg 2 classes -> Customer, Address class. \n",
    "# Therefore we can say that Customer owns the Address class\n",
    "# Code : "
   ]
  },
  {
   "cell_type": "code",
   "execution_count": 11,
   "id": "209be6fc-ded0-451d-8f84-525b2aa97904",
   "metadata": {},
   "outputs": [
    {
     "name": "stdout",
     "output_type": "stream",
     "text": [
      "Mumbai Abhi Male\n"
     ]
    }
   ],
   "source": [
    "class Customer : \n",
    "    def __init__(self,name,gender,address):\n",
    "        self.name = name\n",
    "        self.gender = gender\n",
    "        self.address = address\n",
    "\n",
    "    def print_add(self):\n",
    "        print(self.address.city, self.name, self.gender)\n",
    "class Address : \n",
    "    def __init__(self,city):\n",
    "        self.city = city\n",
    "\n",
    "#cust = Customer(\"Abh\",\"Male\",<had to pass address also, but the address should be an object>)\n",
    "\n",
    "# Therefore we have to create `Address` object first \n",
    "\n",
    "add1 = Address('Mumbai')\n",
    "cust = Customer('Abhi',\"Male\",add1)\n",
    "cust.print_add()\n",
    "\n",
    "# Note -> you cannot access the private variables in the aggregated classes\n",
    "# Esentially the owned class cannot access the variables of the class it owns\n",
    "# To access the private variable you have to set a `getter` funtion inside the \n",
    "# private variable's class and call that funtion to print the same.\n",
    "\n",
    "# But `self.address._Address__city` would still work if self.__city"
   ]
  },
  {
   "cell_type": "code",
   "execution_count": null,
   "id": "114fc79d-45f9-4ce2-a7e5-a7263e65fe8f",
   "metadata": {},
   "outputs": [],
   "source": []
  },
  {
   "cell_type": "code",
   "execution_count": 16,
   "id": "bb7dd556-6a72-4cc7-9028-ecbc51c82c39",
   "metadata": {},
   "outputs": [
    {
     "name": "stdout",
     "output_type": "stream",
     "text": [
      "Mumbai Abhi Male\n",
      "we Abh2 Male\n"
     ]
    }
   ],
   "source": [
    "class Customer : \n",
    "    def __init__(self,name,gender,address):\n",
    "        self.name = name\n",
    "        self.gender = gender\n",
    "        self.address = address\n",
    "\n",
    "    def print_add(self):\n",
    "        print(self.address.city, self.name, self.gender)\n",
    "\n",
    "    def edit_profile(self,new_name,new_city):\n",
    "        self.name = new_name\n",
    "        self.address.change_city(new_city)\n",
    "class Address : \n",
    "    def __init__(self,city):\n",
    "        self.city = city\n",
    "    def change_city(self,new_city):\n",
    "        self.city = new_city\n",
    "\n",
    "#cust = Customer(\"Abh\",\"Male\",<had to pass address also, but the address should be an object>)\n",
    "\n",
    "# Therefore we have to create `Address` object first \n",
    "\n",
    "add1 = Address('Mumbai')\n",
    "cust = Customer('Abhi',\"Male\",add1)\n",
    "cust.print_add()\n",
    "cust.edit_profile(\"Abh2\",\"we\")\n",
    "cust.print_add()"
   ]
  },
  {
   "cell_type": "code",
   "execution_count": 17,
   "id": "a9934478-650a-44cf-8fb4-7a641362cac6",
   "metadata": {},
   "outputs": [],
   "source": [
    "# Learning from the above code: \n",
    "#  IMPORTANT  : `Address ko edit karne ka jo saara code hain voh `Address` mai he  method baana ke karna hoga -> Customer funtion le aanadar se `method` funtion ko call karna hoga `\n",
    "# Beacuse Address se related saara kaam, address funtion mai he hona chahiye\n",
    "# And then you can call that method from the `owner` funtion \n",
    "# You have to deligate"
   ]
  },
  {
   "cell_type": "code",
   "execution_count": 2,
   "id": "c53d75c0-fb31-44ec-9871-f002825063e8",
   "metadata": {},
   "outputs": [],
   "source": [
    "# you can access private attribute when performing aggregation \n",
    "# Even if cutomer class has adress attribute, it does not mean that address's private \n",
    "# attribute can be access by the customer class : \n",
    "\n",
    "\n",
    "# since if i do self.address.__city its no longer accessible \n",
    "# since from private variable we know that city has become -> _Customer__city\n",
    "# but the unethical practise of self.address_Classname__private variable name still works to access\n",
    "#self.address._Address.__city\n",
    "#self.object._ClassName.__privateVariable \n",
    "# Therfore you have to use getter setter methods\n",
    "class Customer:\n",
    "    def __init__(self, name, gender, address):\n",
    "        self.name = name\n",
    "        self.gender = gender\n",
    "        self.address = address\n",
    "\n",
    "    def print_address(self):\n",
    "        print(self.address.get_city(), self.address.pin, self.address.state)\n",
    "\n",
    "class Address:\n",
    "    def __init__(self, city, pin, state):\n",
    "        self.__city = city\n",
    "        self.pin = pin\n",
    "        self.state = state\n",
    "\n",
    "    def get_city(self):\n",
    "        return self.__city\n",
    "\n",
    "# Creating an Address object\n",
    "add1 = Address('gurgaon', 122011, 'haryana')\n",
    "\n",
    "# Creating a Customer object\n",
    "cust = Customer('nitish', 'male', add1)\n",
    "\n",
    "\n"
   ]
  },
  {
   "cell_type": "code",
   "execution_count": null,
   "id": "4fcae325-6822-4a02-bd9b-8a25be1e6b07",
   "metadata": {},
   "outputs": [],
   "source": [
    "# Aggreagation basically means when two classes have `has a` relationship\n",
    "# Customer `has a` Address\n",
    "# in Technical terms, When creating main class object : \n",
    "# You also pass the object of second class as input\n",
    "\n",
    "\n",
    "# add1 = Address('Mumbai')\n",
    "# cust = Customer('Abhi',\"Male\",add1)\n",
    "\n",
    "#add1 -> second class\n",
    "# cust -> owner class"
   ]
  },
  {
   "cell_type": "code",
   "execution_count": 18,
   "id": "6bb68039-008c-4e07-8bba-4dbe76779975",
   "metadata": {},
   "outputs": [],
   "source": [
    "# Class Diagram\n",
    "# `-` represents that they are private variables and cannot be access outdside of the class\n",
    "# `+` are public variables\n",
    "\n",
    "# Class variables written above the line and,\n",
    "# class methods are written below the line\n",
    "# The `diamond` in the digram shows that aggregation is being performed\n",
    "\n",
    "# Also new thing : when you create a class in real world\n",
    "# Every variable is set to private -> common programming practise in oop\n",
    "\n",
    "\n",
    "\n",
    "######## Digram to be drawn in desktop"
   ]
  },
  {
   "cell_type": "code",
   "execution_count": null,
   "id": "7b585059-56e4-44f0-962a-3c28256af4db",
   "metadata": {},
   "outputs": [],
   "source": []
  },
  {
   "cell_type": "code",
   "execution_count": 20,
   "id": "143aec1d-4722-42d1-8b4d-14d2f471a881",
   "metadata": {},
   "outputs": [],
   "source": [
    "# Inheritance\n",
    "\n",
    "# Inheritance is not a software concept -> its a real world concept applied in software\n",
    "\n",
    "# Job bhi baap ka hain voh beta ka hain - due to nature\n",
    "# In society and also in biology\n",
    "\n",
    "# parent class and child class\n",
    "# child class ka object can access : \n",
    "    # parent class ka methods\n",
    "    # parent class ka data \n",
    "# Biggest benifit of interitance : CODE REUSEABILITY  <DRY PRINCIPLE>\n",
    "\n",
    "######## Diagram to be drawn in desktop\n",
    "\n",
    "\n",
    "# Diagram data : \n",
    "    # instead of diving the code into 2 classes : students and instructors and then adding login, register, enroll,... methods\n",
    "    # we create a third parent class as : `users` which will have login and resiter methods which users and instructors can inherit\n",
    "    # And then further user can have : enroll and review and\n",
    "    # instructor can have :  create and reply"
   ]
  },
  {
   "cell_type": "code",
   "execution_count": 97,
   "id": "f7ae7e06-68ab-4910-bb77-8256de0501a3",
   "metadata": {},
   "outputs": [],
   "source": [
    "# Example \n",
    "class User: # parent class\n",
    "    def __init__(self):\n",
    "        self.name = \"Abhishek\"\n",
    "\n",
    "    def login(self):\n",
    "        print(\"login for \",self.name)\n",
    "\n",
    "class Student(User): \n",
    "    # chid class\n",
    "    \n",
    "    def __init__(self):\n",
    "        self.rollno = 100\n",
    "\n",
    "    def enroll(self):\n",
    "        print(\"enrolled into the course\")\n",
    "\n",
    "u = User()\n",
    "s = Student()\n",
    "    "
   ]
  },
  {
   "cell_type": "code",
   "execution_count": 98,
   "id": "7feab5b5-3dc2-45dd-b630-ae1084ac4da1",
   "metadata": {},
   "outputs": [
    {
     "ename": "AttributeError",
     "evalue": "'Student' object has no attribute 'name'",
     "output_type": "error",
     "traceback": [
      "\u001b[0;31m---------------------------------------------------------------------------\u001b[0m",
      "\u001b[0;31mAttributeError\u001b[0m                            Traceback (most recent call last)",
      "Cell \u001b[0;32mIn[98], line 1\u001b[0m\n\u001b[0;32m----> 1\u001b[0m \u001b[43ms\u001b[49m\u001b[38;5;241;43m.\u001b[39;49m\u001b[43mname\u001b[49m \u001b[38;5;66;03m# here method overriding occured\u001b[39;00m\n\u001b[1;32m      2\u001b[0m \u001b[38;5;66;03m# IF child class has a constructor then that is executed, else the parent class constructor is executed.\u001b[39;00m\n\u001b[1;32m      3\u001b[0m \u001b[38;5;66;03m# If both the child and the parent class has constructor then, the child class constructor is execute by its object\u001b[39;00m\n\u001b[1;32m      4\u001b[0m \u001b[38;5;66;03m# And in no instance the Parent class constructor is executed now\u001b[39;00m\n",
      "\u001b[0;31mAttributeError\u001b[0m: 'Student' object has no attribute 'name'"
     ]
    }
   ],
   "source": [
    "s.name # here method overriding occured\n",
    "# IF child class has a constructor then that is executed, else the parent class constructor is executed.\n",
    "# If both the child and the parent class has constructor then, the child class constructor is execute by its object\n",
    "# And in no instance the Parent class constructor is executed now"
   ]
  },
  {
   "cell_type": "code",
   "execution_count": 9,
   "id": "86c268b7-e130-40f5-b57a-7ba7acd86d1c",
   "metadata": {},
   "outputs": [
    {
     "name": "stdout",
     "output_type": "stream",
     "text": [
      "Abhishek\n"
     ]
    }
   ],
   "source": [
    "# Example \n",
    "class User: # parent class\n",
    "    def __init__(self):\n",
    "        self.name = \"Abhishek\"\n",
    "\n",
    "    def login(self):\n",
    "        print(\"login for \",self.name)\n",
    "\n",
    "class Student(User): \n",
    "    # chid class\n",
    "    \n",
    "\n",
    "\n",
    "    def enroll(self):\n",
    "        print(\"enrolled into the course\")\n",
    "\n",
    "a = User()\n",
    "f = Student()\n",
    "print(f.name)"
   ]
  },
  {
   "cell_type": "code",
   "execution_count": 10,
   "id": "acd860b5-3d14-477c-9012-5b2ec858a85d",
   "metadata": {},
   "outputs": [],
   "source": [
    "# NOTE  :\n",
    "# What all things are inherited, when a child class inherits a parent class\n",
    "# Following are the things that a child class can inherit\n",
    "# 1. Constructors\n",
    "# 2. Non Private Attribute\n",
    "# 3. Non Private Methods"
   ]
  },
  {
   "cell_type": "code",
   "execution_count": 11,
   "id": "ff18eca9-fbb5-4e6b-9266-1919f8270028",
   "metadata": {},
   "outputs": [],
   "source": [
    "# Inheritance class diagram\n",
    "# in desktop\n",
    "# the arrow head is towards the parent class"
   ]
  },
  {
   "cell_type": "code",
   "execution_count": 24,
   "id": "beea1cd2-1c64-4959-8701-f6706005a70e",
   "metadata": {},
   "outputs": [],
   "source": [
    "# Child cannot access private members of the class\n",
    "\n",
    "class Phone:\n",
    "    def __init__(self,company,price):\n",
    "        self.company = company\n",
    "        self.__price = price\n",
    "    def show(self):\n",
    "        print(self.__price)\n",
    "class Sm(Phone):\n",
    "    pass"
   ]
  },
  {
   "cell_type": "code",
   "execution_count": 25,
   "id": "935c7d3d-51c9-439e-b8f9-14c030d2d945",
   "metadata": {},
   "outputs": [],
   "source": [
    "op = Sm(\"wewe\",23)"
   ]
  },
  {
   "cell_type": "code",
   "execution_count": 26,
   "id": "63c0eb20-8b22-4e31-b538-96d3a6033584",
   "metadata": {},
   "outputs": [
    {
     "data": {
      "text/plain": [
       "'wewe'"
      ]
     },
     "execution_count": 26,
     "metadata": {},
     "output_type": "execute_result"
    }
   ],
   "source": [
    "op.company"
   ]
  },
  {
   "cell_type": "code",
   "execution_count": 27,
   "id": "88900c08-9390-4c97-aa37-9cfb2781f49c",
   "metadata": {},
   "outputs": [
    {
     "ename": "AttributeError",
     "evalue": "'Sm' object has no attribute '__price'",
     "output_type": "error",
     "traceback": [
      "\u001b[0;31m---------------------------------------------------------------------------\u001b[0m",
      "\u001b[0;31mAttributeError\u001b[0m                            Traceback (most recent call last)",
      "Cell \u001b[0;32mIn[27], line 1\u001b[0m\n\u001b[0;32m----> 1\u001b[0m \u001b[43mop\u001b[49m\u001b[38;5;241;43m.\u001b[39;49m\u001b[43m__price\u001b[49m\n",
      "\u001b[0;31mAttributeError\u001b[0m: 'Sm' object has no attribute '__price'"
     ]
    }
   ],
   "source": [
    "op.__price"
   ]
  },
  {
   "cell_type": "code",
   "execution_count": 29,
   "id": "72605f85-8e65-4a67-8fdf-f77660836d65",
   "metadata": {},
   "outputs": [
    {
     "name": "stdout",
     "output_type": "stream",
     "text": [
      "23\n"
     ]
    }
   ],
   "source": [
    "op.show() "
   ]
  },
  {
   "cell_type": "code",
   "execution_count": 45,
   "id": "f3af6d63-93a0-4c96-bf67-67818d855384",
   "metadata": {},
   "outputs": [],
   "source": [
    "class A:\n",
    "    def __init__(self):\n",
    "        self.var=23\n",
    "    def p(self,var):\n",
    "        # self.var is differnet from vat in the parameter\n",
    "        print(self.var)"
   ]
  },
  {
   "cell_type": "code",
   "execution_count": 46,
   "id": "0400f284-ae57-4758-a6a1-8df9e6058be8",
   "metadata": {},
   "outputs": [],
   "source": [
    "asd = A()"
   ]
  },
  {
   "cell_type": "code",
   "execution_count": 48,
   "id": "45c54205-e803-4ff0-be2d-613948330d8c",
   "metadata": {},
   "outputs": [
    {
     "name": "stdout",
     "output_type": "stream",
     "text": [
      "23\n"
     ]
    }
   ],
   "source": [
    "asd.p(223)"
   ]
  },
  {
   "cell_type": "markdown",
   "id": "0415d73f-7647-4593-99e6-2d7d7878b8c4",
   "metadata": {},
   "source": [
    "#### Code to be Noted in the TextBook -> \n",
    "self.var is an instance variable and is part of the class instance (object). It is defined in the __init__ method and is accessible throughout the class methods using the self keyword.\n",
    "The var in the method p(self, var) is a parameter of the method. It is a local variable and exists only within the scope of the p method. This parameter is separate from the instance variable self.var"
   ]
  },
  {
   "cell_type": "code",
   "execution_count": 49,
   "id": "03a02f49-117a-4d91-871d-1ec18b2303ea",
   "metadata": {},
   "outputs": [],
   "source": [
    "# Method Overriding -> Constructor overiding is also same\n",
    "# Child cannot access private members of the class\n",
    "\n",
    "class Phone:\n",
    "    def __init__(self,company,price):\n",
    "        self.company = company\n",
    "        self.price = price\n",
    "    def show(self):\n",
    "        print(self.price)\n",
    "class Sm(Phone):\n",
    "    def show(self):\n",
    "        print(self.price+10)"
   ]
  },
  {
   "cell_type": "code",
   "execution_count": 51,
   "id": "63bdd27c-8774-45ab-bb67-97f15cd3a1f2",
   "metadata": {},
   "outputs": [
    {
     "name": "stdout",
     "output_type": "stream",
     "text": [
      "20\n"
     ]
    }
   ],
   "source": [
    "sm = Sm(\"Apple\",10)\n",
    "sm.show()"
   ]
  },
  {
   "cell_type": "code",
   "execution_count": 52,
   "id": "916a78f1-f3e5-4e78-a85f-af76195a26e2",
   "metadata": {},
   "outputs": [],
   "source": [
    "# Philosphy : \n",
    "# If child (you) class wants to persue a career(method) A (inside method = a) and parent wants you to \n",
    "# persue career (same method) B (inside same method but diff funtion B) -> THen what will you do ? \n",
    "\n",
    "# in OOP the child choice is preferred."
   ]
  },
  {
   "cell_type": "markdown",
   "id": "e24b57ff-f0e6-47c5-b2b1-5e35f38a04d2",
   "metadata": {},
   "source": [
    "\n",
    "### Double click it to open and then write\n",
    "Method Overriding and Overloading in Java:\n",
    "1. Method Overriding:\n",
    "\n",
    "In Java, method overriding occurs when a subclass provides a specific implementation for a method that is already defined in its superclass.\n",
    "\n",
    "Example:\n",
    "\n",
    "java\n",
    "Copy code\n",
    "class Animal {\n",
    "    void makeSound() {\n",
    "        System.out.println(\"Generic Animal Sound\");\n",
    "    }\n",
    "}\n",
    "\n",
    "class Cat extends Animal {\n",
    "    @Override\n",
    "    void makeSound() {\n",
    "        System.out.println(\"Meow\");\n",
    "    }\n",
    "}\n",
    "\n",
    "public class Main {\n",
    "    public static void main(String[] args) {\n",
    "        Animal animal = new Cat(); // Polymorphism\n",
    "        animal.makeSound(); // Calls overridden method in Cat\n",
    "    }\n",
    "}\n",
    "2. Method Overloading:\n",
    "\n",
    "Method overloading in Java happens when a class has two or more methods with the same name but different parameters.\n",
    "\n",
    "Example:\n",
    "\n",
    "java\n",
    "Copy code\n",
    "class Calculator {\n",
    "    int add(int a, int b) {\n",
    "        return a + b;\n",
    "    }\n",
    "\n",
    "    double add(double a, double b) {\n",
    "        return a + b;\n",
    "    }\n",
    "}\n",
    "\n",
    "public class Main {\n",
    "    public static void main(String[] args) {\n",
    "        Calculator calculator = new Calculator();\n",
    "        System.out.println(calculator.add(5, 3));      // Calls int version\n",
    "        System.out.println(calculator.add(2.5, 3.5));  // Calls double version\n",
    "    }\n",
    "}\n",
    "Philosophical Explanation:\n",
    "Method Overriding:\n",
    "\n",
    "Consider the philosophy of specialization. Just as a student may specialize in a particular subject while inheriting general knowledge from various disciplines, a subclass specializes in a particular behavior while inheriting from its superclass. Method overriding is like taking a principle and adapting it to fit a specific context.\n",
    "\n",
    "Method Overloading:\n",
    "\n",
    "Think of method overloading as a form of diversity. Just as a person can communicate through words or actions, method overloading allows a class to perform a similar task using different input parameters. It's about embracing the richness of options to accomplish a similar goal.\n",
    "\n",
    "5 Interesting Facts:\n",
    "Flexibility and Readability:\n",
    "Overloading provides flexibility by allowing methods with the same name but different parameter types, enhancing code readability.\n",
    "Evolutionary Principle:\n",
    "Overriding is like the evolution of behavior. A subclass can refine or completely change the behavior inherited from its superclass.\n",
    "Polymorphism in Overriding:\n",
    "Overriding demonstrates polymorphism, where a reference variable of a superclass can refer to an object of its subclass, enabling dynamic method invocation.\n",
    "Compile-Time vs. Run-Time:\n",
    "Overloading is resolved at compile-time based on the method signature, while overriding is resolved at runtime based on the actual type of the object.\n",
    "Design Principle:\n",
    "Overriding and overloading align with the principles of Object-Oriented Design (OOD) by promoting code reuse, encapsulation, and abstraction.\n",
    "In summary, method overriding and overloading in Java embody the principles of specialization, diversity, flexibility, and evolutionary adaptation, contributing to the elegance and power of object-oriented programming."
   ]
  },
  {
   "cell_type": "code",
   "execution_count": 76,
   "id": "7b1913bf-0026-40b9-9943-1b3da818c9a1",
   "metadata": {},
   "outputs": [
    {
     "name": "stdout",
     "output_type": "stream",
     "text": [
      "20\n",
      "10\n"
     ]
    }
   ],
   "source": [
    "### Super keyword\n",
    "\n",
    "\n",
    "# Using superkeyword you can call parent class attributes and methods\n",
    "\n",
    "class Phone:\n",
    "    def __init__(self,company,price):\n",
    "        self.company = company\n",
    "        self.price = price\n",
    "    def show(self):\n",
    "        print(self.price)\n",
    "class Sm(Phone):\n",
    "    def show(self):\n",
    "        print(self.price+10)\n",
    "        # Syntax to call parent ka buy method\n",
    "        super().show()\n",
    "sm = Sm(\"Apple\",10)\n",
    "sm.show()"
   ]
  },
  {
   "cell_type": "code",
   "execution_count": 77,
   "id": "f5c83e47-d6ff-4443-9f05-87c7f4cadf5e",
   "metadata": {},
   "outputs": [
    {
     "name": "stdout",
     "output_type": "stream",
     "text": [
      "INSIDE CHILD CONC\n",
      "INSIDE PARENT CONC\n",
      "INSIDE CHILD CONC\n"
     ]
    }
   ],
   "source": [
    "# SUper is a way to access parent ke methodds\n",
    "\n",
    "class Phone:\n",
    "    def __init__(self,price,brand,camera):\n",
    "        print(\"INSIDE PARENT CONC\")\n",
    "        self.price = price\n",
    "        self.brand = brand\n",
    "        self.camera = camera\n",
    "    def p(self):\n",
    "        print(self.brand)\n",
    "class SmartPhone(Phone):\n",
    "    def __init__(self,price,brand,camera,os,ram):\n",
    "        print(\"INSIDE CHILD CONC\")\n",
    "        super().__init__(price,brand,camera) # since phone atlarge have all these attributes there fore passing these to the parent class\n",
    "        self.os=os\n",
    "        self.ram = ram # and os and ram are towards the smartphone therefore keeping them here\n",
    "        print(\"INSIDE CHILD CONC\")\n",
    "\n",
    "s = SmartPhone(100,\"Apple\",1,\"IOS\",12)\n",
    "\n",
    "\n",
    "# segration is the key here\n",
    "# both concr calling is here\n",
    "\n",
    "        "
   ]
  },
  {
   "cell_type": "code",
   "execution_count": 78,
   "id": "c66ef8df-d0d1-41b4-8f17-164d1a41e4b8",
   "metadata": {},
   "outputs": [
    {
     "ename": "AttributeError",
     "evalue": "'SmartPhone' object has no attribute 'super'",
     "output_type": "error",
     "traceback": [
      "\u001b[0;31m---------------------------------------------------------------------------\u001b[0m",
      "\u001b[0;31mAttributeError\u001b[0m                            Traceback (most recent call last)",
      "Cell \u001b[0;32mIn[78], line 2\u001b[0m\n\u001b[1;32m      1\u001b[0m \u001b[38;5;66;03m# can you use super outside the class\u001b[39;00m\n\u001b[0;32m----> 2\u001b[0m \u001b[43ms\u001b[49m\u001b[38;5;241;43m.\u001b[39;49m\u001b[43msuper\u001b[49m()\u001b[38;5;241m.\u001b[39mp()\n\u001b[1;32m      5\u001b[0m \u001b[38;5;66;03m# NO -> 'SmartPhone' object has no attribute 'super' It finds the func inside the child which is not we are looking to do\u001b[39;00m\n",
      "\u001b[0;31mAttributeError\u001b[0m: 'SmartPhone' object has no attribute 'super'"
     ]
    }
   ],
   "source": [
    "# can you use super outside the class\n",
    "s.super().p()\n",
    "\n",
    "\n",
    "# NO -> 'SmartPhone' object has no attribute 'super' It finds the func inside the child which is not we are looking to do"
   ]
  },
  {
   "cell_type": "code",
   "execution_count": 79,
   "id": "bd5b5b5e-656a-4cf9-a2c6-6fc41546dde5",
   "metadata": {},
   "outputs": [
    {
     "name": "stdout",
     "output_type": "stream",
     "text": [
      "INSIDE CHILD CONC\n",
      "INSIDE PARENT CONC\n",
      "INSIDE CHILD CONC\n"
     ]
    },
    {
     "ename": "AttributeError",
     "evalue": "'super' object has no attribute 'brand'",
     "output_type": "error",
     "traceback": [
      "\u001b[0;31m---------------------------------------------------------------------------\u001b[0m",
      "\u001b[0;31mAttributeError\u001b[0m                            Traceback (most recent call last)",
      "Cell \u001b[0;32mIn[79], line 20\u001b[0m\n\u001b[1;32m     17\u001b[0m         \u001b[38;5;28mprint\u001b[39m(\u001b[38;5;124m\"\u001b[39m\u001b[38;5;124mINSIDE CHILD CONC\u001b[39m\u001b[38;5;124m\"\u001b[39m)\n\u001b[1;32m     18\u001b[0m         \u001b[38;5;28mprint\u001b[39m(\u001b[38;5;28msuper\u001b[39m()\u001b[38;5;241m.\u001b[39mbrand)\n\u001b[0;32m---> 20\u001b[0m s \u001b[38;5;241m=\u001b[39m \u001b[43mSmartPhone\u001b[49m\u001b[43m(\u001b[49m\u001b[38;5;241;43m100\u001b[39;49m\u001b[43m,\u001b[49m\u001b[38;5;124;43m\"\u001b[39;49m\u001b[38;5;124;43mApple\u001b[39;49m\u001b[38;5;124;43m\"\u001b[39;49m\u001b[43m,\u001b[49m\u001b[38;5;241;43m1\u001b[39;49m\u001b[43m,\u001b[49m\u001b[38;5;124;43m\"\u001b[39;49m\u001b[38;5;124;43mIOS\u001b[39;49m\u001b[38;5;124;43m\"\u001b[39;49m\u001b[43m,\u001b[49m\u001b[38;5;241;43m12\u001b[39;49m\u001b[43m)\u001b[49m\n\u001b[1;32m     22\u001b[0m \u001b[38;5;66;03m### Inheritance SUmmary 1:29:05\u001b[39;00m\n",
      "Cell \u001b[0;32mIn[79], line 18\u001b[0m, in \u001b[0;36mSmartPhone.__init__\u001b[0;34m(self, price, brand, camera, os, ram)\u001b[0m\n\u001b[1;32m     16\u001b[0m \u001b[38;5;28mself\u001b[39m\u001b[38;5;241m.\u001b[39mram \u001b[38;5;241m=\u001b[39m ram \u001b[38;5;66;03m# and os and ram are towards the smartphone therefore keeping them here\u001b[39;00m\n\u001b[1;32m     17\u001b[0m \u001b[38;5;28mprint\u001b[39m(\u001b[38;5;124m\"\u001b[39m\u001b[38;5;124mINSIDE CHILD CONC\u001b[39m\u001b[38;5;124m\"\u001b[39m)\n\u001b[0;32m---> 18\u001b[0m \u001b[38;5;28mprint\u001b[39m(\u001b[38;5;28;43msuper\u001b[39;49m\u001b[43m(\u001b[49m\u001b[43m)\u001b[49m\u001b[38;5;241;43m.\u001b[39;49m\u001b[43mbrand\u001b[49m)\n",
      "\u001b[0;31mAttributeError\u001b[0m: 'super' object has no attribute 'brand'"
     ]
    }
   ],
   "source": [
    "# can super access parent ka data ? \n",
    "# cannot access variables of the class\n",
    "class Phone:\n",
    "    def __init__(self,price,brand,camera):\n",
    "        print(\"INSIDE PARENT CONC\")\n",
    "        self.price = price\n",
    "        self.brand = brand\n",
    "        self.camera = camera\n",
    "    def p(self):\n",
    "        print(self.brand)\n",
    "class SmartPhone(Phone):\n",
    "    def __init__(self,price,brand,camera,os,ram):\n",
    "        print(\"INSIDE CHILD CONC\")\n",
    "        super().__init__(price,brand,camera) # since phone atlarge have all these attributes there fore passing these to the parent class\n",
    "        self.os=os\n",
    "        self.ram = ram # and os and ram are towards the smartphone therefore keeping them here\n",
    "        print(\"INSIDE CHILD CONC\")\n",
    "        print(super().brand)\n",
    "\n",
    "s = SmartPhone(100,\"Apple\",1,\"IOS\",12)\n",
    "\n",
    "### Inheritance SUmmary 1:29:05\n",
    "\n",
    "\n",
    "\n"
   ]
  },
  {
   "cell_type": "markdown",
   "id": "1a2fea37-0668-44b4-9d0e-f7ca8c8ac05e",
   "metadata": {},
   "source": [
    "### Inheritance Summary\n",
    "    * A class can inherit from another class\n",
    "    * Inheritance improves code reusability\n",
    "    * Constructors, attributes, methods get inherited to the child class\n",
    "    * The parent has no access to the child class\n",
    "    * Private properties of parent are not accessible directly in child class\n",
    "    * Child class can override the attributes or methods. This is called method overriding.\n",
    "    * super() is an inbuilt funtion which is used to invoke the parent class methods and constructors"
   ]
  },
  {
   "cell_type": "markdown",
   "id": "14b500ab-ced9-4340-82c1-eb64bf28cec0",
   "metadata": {},
   "source": [
    "### Types of Inheritance\n",
    "    * Single level\n",
    "    * Multilevel Inheritance\n",
    "    * Hierarchical Inheritance\n",
    "    * Multiple Inheritance(Diamond Problem) -> Java ODes not allows itf\n",
    "    * Hybrid Inheritance\n",
    "\n",
    "    ** Diagram in the desktop"
   ]
  },
  {
   "cell_type": "code",
   "execution_count": 80,
   "id": "28bc9675-39da-42b7-a7c3-ee0afdfe0a12",
   "metadata": {},
   "outputs": [
    {
     "name": "stdout",
     "output_type": "stream",
     "text": [
      "Inside the parent `phone` class\n",
      "The price of the phone is :  10000\n"
     ]
    }
   ],
   "source": [
    "# single inheritance\n",
    "class Phone :\n",
    "    def __init__(self, price, brand, camera):\n",
    "        print(\"Inside the parent `phone` class\")\n",
    "        self.__price = price\n",
    "        self.brand = brand\n",
    "        self.camera = camera\n",
    "    def buy(self):\n",
    "        print(\"The price of the phone is : \",self.__price) # this is a getter funtion for the privatr\n",
    "class SmartPhone(Phone):\n",
    "    pass\n",
    "a = SmartPhone(10000,\"Apple\",10)\n",
    "a.buy()\n",
    "        "
   ]
  },
  {
   "cell_type": "markdown",
   "id": "41452c15-6d12-4367-b919-3e837053c5a5",
   "metadata": {},
   "source": [
    "\n",
    "\n"
   ]
  },
  {
   "cell_type": "code",
   "execution_count": 81,
   "id": "2cbe392c-afd5-40a6-8d14-3e83445d2499",
   "metadata": {},
   "outputs": [
    {
     "name": "stdout",
     "output_type": "stream",
     "text": [
      "Inside phone constructor\n",
      "Buying a phone of rupees 100000\n"
     ]
    }
   ],
   "source": [
    "# multilevel\n",
    "class Product : \n",
    "    def review(self):\n",
    "        print(\"Product customer review\")\n",
    "\n",
    "class Phone(Product):\n",
    "    def __init__(self, price, brand, camera):\n",
    "        print(\"Inside phone constructor\")\n",
    "        self.__price = price\n",
    "        self.brand = brand\n",
    "        self.camera = camera\n",
    "    def buy(self):\n",
    "        print(f\"Buying a phone of rupees {self.__price}\")\n",
    "class SmartPhone(Phone):\n",
    "    pass\n",
    "\n",
    "smart = SmartPhone(100000,\"Apple\",12)\n",
    "smart.buy()"
   ]
  },
  {
   "cell_type": "code",
   "execution_count": 82,
   "id": "d6b9e225-c1f7-4440-a180-f46323eb61c7",
   "metadata": {},
   "outputs": [],
   "source": [
    "# hierarchical -> one parent multiple childrens\n",
    "class Phone : \n",
    "    def printtest():\n",
    "        print(\"phone print\")\n",
    "class PhoneChild1(Phone):\n",
    "    def print123():\n",
    "        print(\"PhoneCHild print\")\n",
    "class Child2(Phone):\n",
    "    def piwe():\n",
    "        print(\"child222\")"
   ]
  },
  {
   "cell_type": "code",
   "execution_count": null,
   "id": "22e55426-4de2-4f4b-842d-3ada2dd31b60",
   "metadata": {},
   "outputs": [],
   "source": []
  },
  {
   "cell_type": "code",
   "execution_count": 83,
   "id": "54995b14-1fa2-428d-bf8e-06bb923e8693",
   "metadata": {},
   "outputs": [
    {
     "name": "stdout",
     "output_type": "stream",
     "text": [
      "Inside Product constructor\n",
      "Buying a phone of rupees \n",
      "Product customer review\n",
      "Inside the phone class\n"
     ]
    }
   ],
   "source": [
    "# multiple \n",
    "\n",
    "\n",
    "# this is not availble in java -> because : There can be ambiguity : \n",
    "# eg both the class you are inherting from can have the buy method\n",
    "# and if from current child class you call buy method which one will be called ? \n",
    "\n",
    "\n",
    "\n",
    "# diagram in the desktop\n",
    "class Product : \n",
    "    def __init__(self, price, brand, camera):\n",
    "        print(\"Inside Product constructor\")\n",
    "        self.__price = price\n",
    "        self.brand = brand\n",
    "        self.camera = camera\n",
    "    def inproduct(self):\n",
    "        print(\"Product customer review\")\n",
    "\n",
    "class Phone:\n",
    "    def inPhone(self):\n",
    "        print(f\"Buying a phone of rupees \")\n",
    "class SmartPhone(Phone,Product):\n",
    "    def inSmart(self):\n",
    "        print(\"Inside the phone class\")\n",
    "\n",
    "smart = SmartPhone(100000,\"Apple\",12)\n",
    "smart.inPhone()\n",
    "smart.inproduct()\n",
    "smart.inSmart()"
   ]
  },
  {
   "cell_type": "code",
   "execution_count": 84,
   "id": "719ee4bc-41b3-433a-8e62-85bc380ab02f",
   "metadata": {},
   "outputs": [
    {
     "name": "stdout",
     "output_type": "stream",
     "text": [
      "Inside Product constructor\n",
      "buy of smartphone\n"
     ]
    }
   ],
   "source": [
    "\n",
    "# Diamond Problem \n",
    "class Product : \n",
    "    def __init__(self, price, brand, camera):\n",
    "        print(\"Inside Product constructor\")\n",
    "        self.__price = price\n",
    "        self.brand = brand\n",
    "        self.camera = camera\n",
    "    def buy(self):\n",
    "        print(\"Buy of product\")\n",
    "\n",
    "class Phone:\n",
    "    def buy(self):\n",
    "        print(f\"buy of smartphone\")\n",
    "\n",
    "# Method resoution order\n",
    "# here during the inheritance decalration -> jiska naam phele aaya uska \n",
    "# method use kiya jayega\n",
    "# since `Phone is decalred \n",
    "# there fore phone ka buy method is being used here \n",
    "class SmartPhone(Phone,Product):\n",
    "    def inSmart(self):\n",
    "        print(\"Inside the phone class\")\n",
    "\n",
    "smart = SmartPhone(100000,\"Apple\",12)\n",
    "smart.buy()"
   ]
  },
  {
   "cell_type": "code",
   "execution_count": 85,
   "id": "66e5c12c-343c-4754-b36b-5f621b7bfcd1",
   "metadata": {},
   "outputs": [],
   "source": [
    "class Test : \n",
    "    def __init__(self,price):\n",
    "        self.price = price\n",
    "    def buy(self,price):        \n",
    "        print(f\"The price is {self.price}\")\n",
    "    def buy(self):\n",
    "        print(\"TEst buy\")"
   ]
  },
  {
   "cell_type": "code",
   "execution_count": 86,
   "id": "c32f6194-e051-4903-a331-2a9c0ae758ab",
   "metadata": {},
   "outputs": [
    {
     "ename": "TypeError",
     "evalue": "Test.buy() takes 1 positional argument but 2 were given",
     "output_type": "error",
     "traceback": [
      "\u001b[0;31m---------------------------------------------------------------------------\u001b[0m",
      "\u001b[0;31mTypeError\u001b[0m                                 Traceback (most recent call last)",
      "Cell \u001b[0;32mIn[86], line 2\u001b[0m\n\u001b[1;32m      1\u001b[0m a \u001b[38;5;241m=\u001b[39m Test(\u001b[38;5;241m10\u001b[39m)\n\u001b[0;32m----> 2\u001b[0m \u001b[43ma\u001b[49m\u001b[38;5;241;43m.\u001b[39;49m\u001b[43mbuy\u001b[49m\u001b[43m(\u001b[49m\u001b[38;5;241;43m10\u001b[39;49m\u001b[43m)\u001b[49m\n",
      "\u001b[0;31mTypeError\u001b[0m: Test.buy() takes 1 positional argument but 2 were given"
     ]
    }
   ],
   "source": [
    "a = Test(10)\n",
    "a.buy(10)"
   ]
  },
  {
   "cell_type": "markdown",
   "id": "59de925a-db42-41e4-ac64-e5fa713d3861",
   "metadata": {},
   "source": [
    "The error you're encountering is due to the fact that you are attempting method overloading in Python, but the language itself does not support traditional method overloading like some other languages do. In Python, the method that is defined last with a given name in a class will override any previous methods with the same name.\n",
    "\n",
    "In your case, you have defined two buy methods in your Test class, but the second one will override the first one, and you'll only be able to call the second one. This is why you're getting an error when you try to call a.buy(10), as the second buy method does not take any arguments."
   ]
  },
  {
   "cell_type": "markdown",
   "id": "0517bdf5-692a-4112-a41d-e37aa740ac3b",
   "metadata": {},
   "source": [
    "### Polymorphism\n",
    "When according to the situations things behave differently.\n",
    "Three main concepts\n",
    "\n",
    "    * Method Overriding : \n",
    "        Concept where during inheritance, the child and the parent has same method\n",
    "        so when your(child) object call the method. The child classes method\n",
    "        will be executed. This is called method overriding.\n",
    "    * Method Overloading : \n",
    "        Scenario where in a single class you have 2 methods of same name\n",
    "        But both have different behavior based upon the input\n",
    "        Above buy example\n",
    "        Advantage : The code is more clean in reading.\n",
    "        eg : class shape -> def area : here circle area\n",
    "        def area -> here rectrangle area\n",
    "        if overloading did not exist : def areaOfCircle\n",
    "        and def AreaOfReact.... too much to code \n",
    "        Readability INcreases\n",
    "\n",
    "        Python mai overloading does not work like Java\n",
    "        It always make note of the latest/last written funtion/method\n",
    "\n",
    "        In python -> method overloading is implemented using : default parameters\n",
    "    * Operator Overloading :\n",
    "        same operator is different if you give different inputs to it\n",
    "        Operator Overloading is a technique used in Object Oriented Programming             (OOP) to modify the behavior of built-in operators like \"+\", \"-\", \"*\", \"/\".         With operator overloading, we can control how these operators interact with         our custom types. Let's dive deep into the world of operator overloading            with a small piece of code written in Python."
   ]
  },
  {
   "cell_type": "code",
   "execution_count": 87,
   "id": "c5fc5b76-f875-4786-a584-ec79f4f13f16",
   "metadata": {},
   "outputs": [],
   "source": [
    "\n",
    "# Method Overloading\n",
    "class Shape():\n",
    "\n",
    "    def area(self, a,b=0):\n",
    "        if b == 0:\n",
    "            return a*a*a*a\n",
    "        else :\n",
    "            return a*b\n",
    "            "
   ]
  },
  {
   "cell_type": "code",
   "execution_count": 88,
   "id": "1337e3ff-1efe-4426-a96b-9f44edcd32ee",
   "metadata": {},
   "outputs": [
    {
     "data": {
      "text/plain": [
       "16"
      ]
     },
     "execution_count": 88,
     "metadata": {},
     "output_type": "execute_result"
    }
   ],
   "source": [
    "wew = Shape()\n",
    "wew.area(2)"
   ]
  },
  {
   "cell_type": "code",
   "execution_count": 89,
   "id": "ab4aeec7-fbf9-44df-9eac-4749ffe58e97",
   "metadata": {},
   "outputs": [
    {
     "data": {
      "text/plain": [
       "'heerehre'"
      ]
     },
     "execution_count": 89,
     "metadata": {},
     "output_type": "execute_result"
    }
   ],
   "source": [
    "# operator overloading\n",
    "\n",
    "\"heer\"+\"ehre\" # concat"
   ]
  },
  {
   "cell_type": "code",
   "execution_count": 90,
   "id": "eb171880-b713-4aff-aaee-c06d7f992914",
   "metadata": {},
   "outputs": [
    {
     "data": {
      "text/plain": [
       "277"
      ]
     },
     "execution_count": 90,
     "metadata": {},
     "output_type": "execute_result"
    }
   ],
   "source": [
    "34+243 # adding"
   ]
  },
  {
   "cell_type": "code",
   "execution_count": 91,
   "id": "db9331ec-c6c9-4135-8ff4-e11c5d6b1b17",
   "metadata": {},
   "outputs": [
    {
     "data": {
      "text/plain": [
       "[1, 23, 123, 2323, 2, 3, 23]"
      ]
     },
     "execution_count": 91,
     "metadata": {},
     "output_type": "execute_result"
    }
   ],
   "source": [
    "[1,23,123]+[2323,2,3,23] # merging"
   ]
  },
  {
   "cell_type": "code",
   "execution_count": null,
   "id": "d5a433cb-e2f8-409b-9e56-a0596d73c1e5",
   "metadata": {},
   "outputs": [],
   "source": []
  },
  {
   "cell_type": "code",
   "execution_count": 92,
   "id": "4dda784c-ecbc-44d0-a042-a77303b31fd8",
   "metadata": {},
   "outputs": [],
   "source": [
    "# operator overloading : "
   ]
  },
  {
   "cell_type": "code",
   "execution_count": 93,
   "id": "b928007c-32d6-4063-9c2e-7838271d61e1",
   "metadata": {},
   "outputs": [],
   "source": [
    "class MyList():\n",
    "    def __init__(self, values):\n",
    "        \"\"\" Initialize the list \"\"\"\n",
    "        self.values = values\n",
    "\n",
    "    def __add__(self, other_list):\n",
    "        \"\"\" Define behavior for the plus (+) operation \"\"\"\n",
    "        if isinstance(other_list, MyList):\n",
    "            result = [x + y for x,y in zip(self.values, other_list.values)]\n",
    "        else:\n",
    "            raise TypeError(\"Can only add instances of MyList\")\n",
    "        return MyList(result)"
   ]
  },
  {
   "cell_type": "code",
   "execution_count": 94,
   "id": "d3b88661-386d-4788-a754-26f18409fe95",
   "metadata": {},
   "outputs": [
    {
     "name": "stdout",
     "output_type": "stream",
     "text": [
      "Summed Lists: [5, 7, 9]\n"
     ]
    }
   ],
   "source": [
    "my_list1 = MyList([1, 2, 3])\n",
    "my_list2 = MyList([4, 5, 6])\n",
    "summed_lists = my_list1 + my_list2\n",
    "print(f\"Summed Lists: {summed_lists.values}\")"
   ]
  },
  {
   "cell_type": "code",
   "execution_count": 95,
   "id": "da3f2dfe-d1e3-43ee-9e6f-f027c8128bed",
   "metadata": {},
   "outputs": [
    {
     "data": {
      "text/plain": [
       "<__main__.MyList at 0x108323390>"
      ]
     },
     "execution_count": 95,
     "metadata": {},
     "output_type": "execute_result"
    }
   ],
   "source": [
    "summed_lists"
   ]
  },
  {
   "cell_type": "code",
   "execution_count": 96,
   "id": "3df2a775-784a-4be0-a800-f9df4a93047a",
   "metadata": {},
   "outputs": [
    {
     "name": "stdout",
     "output_type": "stream",
     "text": [
      "('apple', 3)\n",
      "('banana', 2)\n",
      "('cherry', 1)\n"
     ]
    }
   ],
   "source": [
    "list1 = ['apple', 'banana', 'cherry']\n",
    "list2 = [3, 2, 1]\n",
    "zipped = zip(list1, list2)\n",
    "for a in zipped:\n",
    "    print(a)"
   ]
  },
  {
   "cell_type": "markdown",
   "id": "69df4b44-9871-4c61-b703-9c3811490255",
   "metadata": {},
   "source": [
    "### Abstraction\n",
    "\n",
    "* It is one of the core concepts of OOP\n",
    "* The word abstraction means chupaa hua, or hidden\n",
    "* real world example : laptop chips, gpus, etc... their implementation is hidden you only need to know how to use it\n",
    "* Nature : talk on cell phone, whatsapp Chat\n",
    "\n",
    "* Software implementation example : < Abstraction can help to enforce constains> :\n",
    "   > Suppose there is Bank Project :\n",
    "   > You have 3 classes (1 bank main class and 2 child (app and web class))\n",
    "   > The main bank class invloves maintaining the database and ensuring robust tranaction\n",
    "   > Therefore the main bank class can say that ->  or can enforce constrains to the child classes that inherit it that -> only if you apply security you will be able to inherit me"
   ]
  },
  {
   "cell_type": "code",
   "execution_count": 97,
   "id": "469a9e12-6ccf-48f4-906e-4be38e79955f",
   "metadata": {},
   "outputs": [],
   "source": [
    "# eg explained\n",
    "# abstract class\n",
    "# abstract class is such that contains atleast 1 abstract method\n",
    "# Abstract method ? Those method which do not contains their inplementation\n",
    "# there are two types of methods -> abstract and concrete (have some code written)\n"
   ]
  },
  {
   "cell_type": "markdown",
   "id": "3fe689a2-12cd-4999-a09c-54c1969787e1",
   "metadata": {},
   "source": [
    "from abc import ABCMeta, abstractmethod is a Python module that provides support for abstract base classes (ABCs). In short, ABCs allow you to specify a high-level interface or protocol that derived classes must conform to.\n",
    "\n",
    "When importing abc (Abstract Base Classes), you essentially bring in the necessary tools to create and use abstract base classes. These tools include:\n",
    "\n",
    "ABCMeta: Metaclass required to create abstract base classes.\n",
    "abstractmethod: Decorator used to mark methods as abstract, requiring derived classes to provide their own implementations.\n",
    "Understanding ABCs can take time, especially if you're relatively new to Python. Don't hesitate to revisit this topic later once you've gained more experience with Python fundamentals. Meanwhile, keep exploring and learning new things! 💪✨"
   ]
  },
  {
   "cell_type": "code",
   "execution_count": 98,
   "id": "16000119-b4d5-4283-8888-f4c89359295d",
   "metadata": {},
   "outputs": [],
   "source": [
    "# exmample of abstract : \n",
    "from abc import ABC, abstractmethod\n",
    "class BankApp(ABC) : \n",
    "    # 2 methods\n",
    "    def database(self):\n",
    "        print(\"Connected to database\")\n",
    "\n",
    "    # now making the second method as the abstract method : \n",
    "    @abstractmethod\n",
    "    def security(self):\n",
    "        pass\n",
    "\n",
    "# therefore to be an abstract class there are two criteria in PYTHON : \n",
    "    #1. inherit from `ABC` class\n",
    "    #2. You class should have atlest one `@abstractmethod`\n",
    "    #`abstractmethod` -> inside of which there is no code written but,\n",
    "    #it is indicated by the `@abstractcmethod` decorator"
   ]
  },
  {
   "cell_type": "code",
   "execution_count": 99,
   "id": "b8ef863d-c1b8-4720-80e7-420594aebfb4",
   "metadata": {},
   "outputs": [
    {
     "name": "stdout",
     "output_type": "stream",
     "text": [
      "This is MobileApp\n",
      "VERY HIGHLY SECURE\n"
     ]
    }
   ],
   "source": [
    "class MobileApp(BankApp):\n",
    "    def myown(self):\n",
    "        print(\"This is MobileApp\")\n",
    "    def security(self):\n",
    "        print(\"VERY HIGHLY SECURE\")\n",
    "a = MobileApp()\n",
    "a.myown()\n",
    "a.security()"
   ]
  },
  {
   "cell_type": "code",
   "execution_count": 100,
   "id": "742bfbf0-9e39-4b2c-9d40-9e2e10e588bb",
   "metadata": {},
   "outputs": [],
   "source": [
    "# VERY IMPORTANT : SINCE THE bankApp here is an abstract class then \n",
    "# the child class inherting the abstract class must contain the \n",
    "# definition of all the abstract-method that are defined in that class\n",
    "# eg : if in above MobileApp class i dont define the security class\n",
    "# and run it -> only the class implementation -> no error\n",
    "# but if i create an object of MobileApp i will get error that will point to that\n",
    "# i need to implement the abstract method in the same class"
   ]
  },
  {
   "cell_type": "code",
   "execution_count": 101,
   "id": "8406151f-5bb8-4224-a424-e66eddb42cb9",
   "metadata": {},
   "outputs": [
    {
     "name": "stdout",
     "output_type": "stream",
     "text": [
      "Connected to database\n"
     ]
    }
   ],
   "source": [
    "# now after implementing this abstract method our MobileApp can\n",
    "# also access the database method from the abstract class\n",
    "a.database()"
   ]
  },
  {
   "cell_type": "code",
   "execution_count": 102,
   "id": "70767893-d581-468e-bd7e-98160c569218",
   "metadata": {},
   "outputs": [],
   "source": [
    "# Summary/Things to note : \n",
    "# Now the senior most programmer can ensure that the child classes \n",
    "# obey his security rules\n",
    "\n",
    "# Before dying -> the owner made some `clause` for his children for his property inheritance\n",
    "\n",
    "\n",
    "# Abstract class can have or not an concrete method\n",
    "# but it must have a abstract method\n",
    "\n",
    "# also -> ** you cannot make object of an abstract class -> cannot make object of the bank class\n"
   ]
  },
  {
   "cell_type": "code",
   "execution_count": 103,
   "id": "f1ab297e-5ccc-48e8-b1fd-769ddb45180b",
   "metadata": {},
   "outputs": [],
   "source": [
    "######### OOP Based Project #########\n",
    "# a variable type table is stored in screenshot, do write that in the notes"
   ]
  },
  {
   "cell_type": "code",
   "execution_count": 104,
   "id": "59ef7ffa-4103-48b3-b64a-060870915b8f",
   "metadata": {},
   "outputs": [
    {
     "ename": "ModuleNotFoundError",
     "evalue": "No module named 'nlpcloud'",
     "output_type": "error",
     "traceback": [
      "\u001b[0;31m---------------------------------------------------------------------------\u001b[0m",
      "\u001b[0;31mModuleNotFoundError\u001b[0m                       Traceback (most recent call last)",
      "Cell \u001b[0;32mIn[104], line 1\u001b[0m\n\u001b[0;32m----> 1\u001b[0m \u001b[38;5;28;01mimport\u001b[39;00m \u001b[38;5;21;01mnlpcloud\u001b[39;00m\n\u001b[1;32m      2\u001b[0m \u001b[38;5;28;01mclass\u001b[39;00m \u001b[38;5;21;01mNLPApp\u001b[39;00m : \n\u001b[1;32m      3\u001b[0m     \u001b[38;5;28;01mdef\u001b[39;00m \u001b[38;5;21m__init__\u001b[39m(\u001b[38;5;28mself\u001b[39m):\n",
      "\u001b[0;31mModuleNotFoundError\u001b[0m: No module named 'nlpcloud'"
     ]
    }
   ],
   "source": [
    "import nlpcloud\n",
    "class NLPApp : \n",
    "    def __init__(self):\n",
    "\n",
    "        self.__database = {} # here is where all user data is stored\n",
    "        # since used self here, ek program ke execution mai jo data hai voh rahega\n",
    "        # baki ka if executed again -> wipe out\n",
    "        self.__first_menu()\n",
    "\n",
    "    def __first_menu(self):\n",
    "        first_input = input('''\n",
    "        Hi! How would you like to proceed ? \n",
    "        1. Not a member? Register\n",
    "        2. Already a member ? Login\n",
    "        3. Exit\n",
    "        ''')\n",
    "\n",
    "        if first_input == \"1\":\n",
    "            self.__register()\n",
    "        elif first_input == \"2\":\n",
    "            self.__login()\n",
    "        else :\n",
    "            exit()\n",
    "\n",
    "    def __register(self):\n",
    "        name = input(\"Enter your name\")\n",
    "        email = input(\"Enter your email\")\n",
    "        password = input(\"Enter your password\")\n",
    "\n",
    "        if email in self.__database : \n",
    "            print(\"User Already exists\")\n",
    "        else : \n",
    "            self.__database[email] = [name,password]\n",
    "            print('Registration Successful')\n",
    "            print(self.__database)\n",
    "            self.__first_menu()\n",
    "        \n",
    "        \n",
    "    def __login(self):\n",
    "        email = input(\"Enter your email \") # we dont use self.email here since\n",
    "        # the use of this variable is purely in this and this function only\n",
    "        # and not anywhere else, therefore used this static variable\n",
    "        password = input(\"Enter your password\")\n",
    "\n",
    "        if email not in self.__database :\n",
    "            print(\"Not a user, Register First\")\n",
    "            choice_next = input('''\n",
    "            1. Register\n",
    "            2. Exit\n",
    "            Press any key to return to main menu.\n",
    "            ''')\n",
    "            if choice_next == \"1\" :\n",
    "                self.__register()\n",
    "            elif choice_next == \"2\" :\n",
    "                exit()\n",
    "            else :\n",
    "                print(\"Getting you to main menu\")\n",
    "                self.__first_menu()\n",
    "        else :\n",
    "            if self.__database[email][1] == password:\n",
    "                print(\"Success Fully logged IN\")\n",
    "                self.__second_menu()\n",
    "            else:\n",
    "                print(\"Wrong Password\")\n",
    "                self.__login()\n",
    "    \n",
    "    def __second_menu(self):\n",
    "        second_input = input('''\n",
    "        Hi! How would you like to proceed ? \n",
    "        1. NER\n",
    "        2. Language Detection\n",
    "        3. Sentiment Analysis\n",
    "        ''')\n",
    "\n",
    "        if second_input == \"1\":\n",
    "            self.__ner()\n",
    "        elif second_input == \"2\":\n",
    "            self.__langd()\n",
    "        elif second_input == \"2\":\n",
    "            self.__senta()\n",
    "        else:\n",
    "            exit()\n",
    "    def __langd(self):\n",
    "        para = input(\"Enter the paragraph\")\n",
    "        client = nlpcloud.Client(\"distilbert-base-uncased-emotion\", \"2b58d7fb9af09e617ee525e78c7766b6d8c5bb61\", gpu=False, lang=\"en\")\n",
    "        response = client.sentiment(para)\n",
    "        print(response['scored_labels'][0]['label'])\n",
    "\n",
    "        self.__second_menu()\n",
    "        \n",
    "        \n",
    "                "
   ]
  },
  {
   "cell_type": "code",
   "execution_count": 105,
   "id": "6a00ccb7-c75e-477f-a7c7-752c38694e2b",
   "metadata": {},
   "outputs": [
    {
     "ename": "NameError",
     "evalue": "name 'NLPApp' is not defined",
     "output_type": "error",
     "traceback": [
      "\u001b[0;31m---------------------------------------------------------------------------\u001b[0m",
      "\u001b[0;31mNameError\u001b[0m                                 Traceback (most recent call last)",
      "Cell \u001b[0;32mIn[105], line 1\u001b[0m\n\u001b[0;32m----> 1\u001b[0m a \u001b[38;5;241m=\u001b[39m \u001b[43mNLPApp\u001b[49m()\n",
      "\u001b[0;31mNameError\u001b[0m: name 'NLPApp' is not defined"
     ]
    }
   ],
   "source": [
    "a = NLPApp()"
   ]
  },
  {
   "cell_type": "code",
   "execution_count": 106,
   "id": "ea43419b-58af-465f-966c-46fc88aa6122",
   "metadata": {},
   "outputs": [],
   "source": [
    "a.__getstate__()"
   ]
  },
  {
   "cell_type": "code",
   "execution_count": 107,
   "id": "9d95e50c-5166-407b-a143-49cefa59ed8a",
   "metadata": {},
   "outputs": [
    {
     "data": {
      "text/plain": [
       "dict"
      ]
     },
     "execution_count": 107,
     "metadata": {},
     "output_type": "execute_result"
    }
   ],
   "source": [
    "d = {}\n",
    "d[\"we\"] = [\"w\",\"ewe\"]\n",
    "type(d)"
   ]
  },
  {
   "cell_type": "code",
   "execution_count": 108,
   "id": "48fa819b-64c1-4fbe-bf17-71f0c3476744",
   "metadata": {},
   "outputs": [
    {
     "name": "stdout",
     "output_type": "stream",
     "text": [
      "ewe\n",
      "we weeh\n"
     ]
    }
   ],
   "source": [
    "pa = \"ewe\"\n",
    "email = \"we\" \n",
    "for a,e in d.items():\n",
    "    print(d[email][1])\n",
    "    if d[email][1] == pa:\n",
    "        print(a,\"weeh\")\n",
    "    else:\n",
    "        print(a)"
   ]
  },
  {
   "cell_type": "code",
   "execution_count": null,
   "id": "1d0e6f25-7a74-4afe-a146-709e0ddbf900",
   "metadata": {},
   "outputs": [],
   "source": []
  },
  {
   "cell_type": "code",
   "execution_count": null,
   "id": "1b5e6f59-a2ea-4c6f-82e9-e517e8f31132",
   "metadata": {},
   "outputs": [],
   "source": []
  },
  {
   "cell_type": "markdown",
   "id": "dcece677-0727-4f68-b277-fae01f369dd5",
   "metadata": {},
   "source": [
    "### Interview Questions"
   ]
  },
  {
   "cell_type": "code",
   "execution_count": 109,
   "id": "4dfed6d8-00f1-4b98-ad91-115c5b9baaa3",
   "metadata": {},
   "outputs": [
    {
     "data": {
      "text/plain": [
       "{10, 13, 22, 34, 55}"
      ]
     },
     "execution_count": 109,
     "metadata": {},
     "output_type": "execute_result"
    }
   ],
   "source": [
    "#1. How does indexing work in sets ? \n",
    "\n",
    "s = {10, 34, 55, 22, 13}\n",
    "s\n",
    "# it did not print the numbers in the order which i gave it\n",
    "# Sets follow hashing"
   ]
  },
  {
   "cell_type": "code",
   "execution_count": 110,
   "id": "495d6ded-d113-4271-b103-86fe4fbbc775",
   "metadata": {},
   "outputs": [],
   "source": [
    "# Then how is indexing done ? \n",
    "    \n",
    "    # When you store the numbers in a set\n",
    "    # in backend eg : 5 numbers stored -> then -> a block of 5 continuous memeory is allocated\n",
    "# jitna baada set -> utna baada memeory location\n",
    "    # then these numbers in the set go through hashing -> hash funtions < this can be any>\n",
    "    # An the main work of hashing funtion is to find the index function\n",
    "    # Eg simple hashing funtion  : x % size\n",
    "    # set = {10,34,55,22,23}\n",
    "    # x = 10, size = 5 -> 10%5 = 0\n",
    "    # 34 % 5 = 4\n",
    "    # Now 55 % 5 = 0 -> since 10 is already at 0 -> you have 2 options : \n",
    "    # 1. <probing> Either you create a chain in LinkedList at 0 2 elements will be stored 10 and 55 chained up\n",
    "    # Or store 55 at next location to the 10 -> at 1\n",
    "# screenshot given\n",
    "    # 22%5 = 2 .......\n",
    "    \n",
    "    # therefore, without knowing the hashing function you cannot tell the indexing\n",
    "    # same is for the strings also -> screenshot -> letter -> words -> ASCII value\n",
    "# According to the type of data -> the hashing algo is used\n",
    "\n",
    "    # places where order does not matter, only the searching matters\n",
    "    # we use hashing where searching matters\n",
    "\n",
    "\n",
    "\n",
    "\n",
    "# But why are we doing so/ adv of hashing ? \n",
    "    # searching  = O(n) worst -> best is O(1) contanst time \n",
    "    # O(1) since we have the formula of hashing we can calculate where an element is located and directly go there\n"
   ]
  },
  {
   "cell_type": "code",
   "execution_count": 111,
   "id": "bacd35a3-dd86-40a3-a92b-a8919e4ffb42",
   "metadata": {},
   "outputs": [],
   "source": [
    "d = {(1,2,3):'a'}"
   ]
  },
  {
   "cell_type": "code",
   "execution_count": 112,
   "id": "63be63f2-2524-4068-a7a7-b80663a2a5f1",
   "metadata": {},
   "outputs": [
    {
     "ename": "TypeError",
     "evalue": "unhashable type: 'list'",
     "output_type": "error",
     "traceback": [
      "\u001b[0;31m---------------------------------------------------------------------------\u001b[0m",
      "\u001b[0;31mTypeError\u001b[0m                                 Traceback (most recent call last)",
      "Cell \u001b[0;32mIn[112], line 1\u001b[0m\n\u001b[0;32m----> 1\u001b[0m a \u001b[38;5;241m=\u001b[39m {[\u001b[38;5;241m1\u001b[39m,\u001b[38;5;241m2\u001b[39m,\u001b[38;5;241m3\u001b[39m]:\u001b[38;5;124m'\u001b[39m\u001b[38;5;124ma\u001b[39m\u001b[38;5;124m'\u001b[39m}\n",
      "\u001b[0;31mTypeError\u001b[0m: unhashable type: 'list'"
     ]
    }
   ],
   "source": [
    "a = {[1,2,3]:'a'}"
   ]
  },
  {
   "cell_type": "code",
   "execution_count": 113,
   "id": "24e2a97c-09f4-486c-ac1c-b86a7c2d254b",
   "metadata": {},
   "outputs": [],
   "source": [
    "# Q2. Why can't dictionary key be a mutable datatype\n",
    "\n",
    "# since key in dictionary -> go though a hashing funtion for their indeixing to be determined\n",
    "# and if that key is mutable -> this means that key can change -> and if key values change -> inside its own alloted memeory -> you have to send it to hash funtion -> and diff values then\n",
    "# then all new value new to be calculated/ hashing value for each and every element -> becomes combersome\n",
    "\n",
    "# dictionary -> key -> hashing funtion -> indeixing done\n",
    "# so if keys are mutable then for one change in the one key -> again the entire hahsing funtion is requred to run for all the keys since it is possible that\n",
    "# Due to that change the changes key correspinding value have to be placed in another index where already existing element is stored -> then you have to use the hashing funtion for this element also -> ongoing for all element\n",
    "# an this becomes hetic\n",
    "\n",
    "# 2 screenshot given"
   ]
  },
  {
   "cell_type": "code",
   "execution_count": 114,
   "id": "c76f0c6b-b15d-458b-a7f5-692448651cfb",
   "metadata": {},
   "outputs": [
    {
     "data": {
      "text/plain": [
       "[(0, 23), (1, 232), (2, 3), (3, 21), (4, 23), (5, 12), (6, 3)]"
      ]
     },
     "execution_count": 114,
     "metadata": {},
     "output_type": "execute_result"
    }
   ],
   "source": [
    "# Q3. Eunumerate\n",
    "# The enumerate() method adds a counter to an iterable and returns it ( the enumerate object)\n",
    "\n",
    "L = [23,232,3,21,23,12,3]\n",
    "list(enumerate(L))\n"
   ]
  },
  {
   "cell_type": "code",
   "execution_count": 115,
   "id": "9e0fbce8-5424-4195-ad75-d810f807c753",
   "metadata": {},
   "outputs": [
    {
     "data": {
      "text/plain": [
       "[(10, 23), (11, 232), (12, 3), (13, 21), (14, 23), (15, 12), (16, 3)]"
      ]
     },
     "execution_count": 115,
     "metadata": {},
     "output_type": "execute_result"
    }
   ],
   "source": [
    "list(enumerate(L,start = 10))\n",
    "\n",
    "# It is a utility funtion that can just be used as a counter"
   ]
  },
  {
   "cell_type": "code",
   "execution_count": null,
   "id": "4a9462a4-8d30-4a72-8c78-a6338ee8fb86",
   "metadata": {},
   "outputs": [],
   "source": []
  },
  {
   "cell_type": "code",
   "execution_count": 116,
   "id": "9a3aa8df-45aa-443e-b726-0dbc469249da",
   "metadata": {},
   "outputs": [
    {
     "data": {
      "text/plain": [
       "[('wewewe', 2), ('awewe', 23)]"
      ]
     },
     "execution_count": 116,
     "metadata": {},
     "output_type": "execute_result"
    }
   ],
   "source": [
    "#Q3. Arrange pair in asceding order but on the basis of second item\n",
    "L = [(\"awewe\",23),(\"wewewe\",2)]\n",
    "L.sort(key = lambda x : x[1])\n",
    "L\n",
    "\n",
    "# This is how you sort on the basis of the second key\n",
    "\n",
    "L = [(\"awewe\",23),(\"wewewe\",2)]\n",
    "L.sort(key = lambda x : x[1], reverse = False)\n",
    "L\n",
    "\n",
    "\n"
   ]
  },
  {
   "cell_type": "code",
   "execution_count": 117,
   "id": "552ee75f-ac4f-4499-8502-c5bd9c2fbb76",
   "metadata": {},
   "outputs": [
    {
     "data": {
      "text/plain": [
       "[('awewe', 23), ('wewewe', 2)]"
      ]
     },
     "execution_count": 117,
     "metadata": {},
     "output_type": "execute_result"
    }
   ],
   "source": [
    "sorted(L)"
   ]
  },
  {
   "cell_type": "code",
   "execution_count": 118,
   "id": "0bf79ba9-7af7-4fe1-920b-b9617f115e85",
   "metadata": {},
   "outputs": [
    {
     "data": {
      "text/plain": [
       "[('wewewe', 2), ('awewe', 23)]"
      ]
     },
     "execution_count": 118,
     "metadata": {},
     "output_type": "execute_result"
    }
   ],
   "source": [
    "sorted(L,key = lambda x : x[1] )"
   ]
  },
  {
   "cell_type": "markdown",
   "id": "c1aa31ea-a268-494f-92f0-95122f9db25f",
   "metadata": {},
   "source": [
    "### Q4. Destructor\n",
    "\n",
    "In Python, classes typically define methods known as constructors and destructors. Constructors initialize objects, while destructors clean up resources associated with objects once they go out of scope.\n",
    "\n",
    "Python handles garbage collection automatically, so you usually don't need to worry about implementing explicit destructors. However, if you're working with external resources like files, databases, or network connections, you might want to manually release them when done."
   ]
  },
  {
   "cell_type": "code",
   "execution_count": 119,
   "id": "8a4b1591-c214-4778-8397-8a52bd19b8ce",
   "metadata": {},
   "outputs": [
    {
     "name": "stdout",
     "output_type": "stream",
     "text": [
      "Constructor called\n",
      "Destructor called\n"
     ]
    }
   ],
   "source": [
    "class Example():\n",
    "    def __init__(self):\n",
    "        print(\"Constructor called\")\n",
    "    def __del__(self):\n",
    "        print(\"Destructor called\")\n",
    "\n",
    "onj = Example()\n",
    "del onj ### frees up object from the memory\n",
    "\n",
    "# generally, you do not need to use destructor in python, since\n",
    "# python has its down garbage collector -> \n",
    "# But in C++ it is very important since memory handling is done  by the progammer itself\n",
    "\n",
    "# But there is one use in python  : \n",
    "# We can write configuration related  code : if you have connected to a database\n",
    "# in your code, you can turn off that or can close file or close internet, bluetooth\n",
    "# Generally things that you have opened in the constructor can be closed here\n",
    "\n",
    "\n",
    "# Important : Till all objects are not deleted, constructor is not called8"
   ]
  },
  {
   "cell_type": "code",
   "execution_count": 120,
   "id": "c4ae0e8f-0605-4d7b-a687-982b6961d098",
   "metadata": {},
   "outputs": [
    {
     "name": "stdout",
     "output_type": "stream",
     "text": [
      "['_Test__awe', '__class__', '__delattr__', '__dict__', '__dir__', '__doc__', '__eq__', '__format__', '__ge__', '__getattribute__', '__getstate__', '__gt__', '__hash__', '__init__', '__init_subclass__', '__le__', '__lt__', '__module__', '__ne__', '__new__', '__reduce__', '__reduce_ex__', '__repr__', '__setattr__', '__sizeof__', '__str__', '__subclasshook__', '__weakref__', '_var', 'foo', 'greet']\n"
     ]
    }
   ],
   "source": [
    "#Q5. dir/ isinstance/ issubclass\n",
    "\n",
    "# dir\n",
    "\n",
    "class Test : \n",
    "    def __init__(self):\n",
    "        self.foo = 12\n",
    "        self._var = 3\n",
    "        self.__awe = 12\n",
    "    def greet(self):\n",
    "        print(\"Hey!\")\n",
    "t = Test()\n",
    "print(dir(t))\n",
    "\n",
    "# dir gives all the magic method as well as the methods and attricbutes that the \n",
    "# particular object has\n",
    "\n",
    "# Eg : our private attribute -> self.__awe -> stored as -> _Test__awe in the memory\n",
    "# ALso in python this is called `name mangling`\n",
    "\n",
    "\n"
   ]
  },
  {
   "cell_type": "code",
   "execution_count": 121,
   "id": "0a12ba52-f0f8-4ecd-8dd8-c4157cb00fac",
   "metadata": {},
   "outputs": [
    {
     "data": {
      "text/plain": [
       "True"
      ]
     },
     "execution_count": 121,
     "metadata": {},
     "output_type": "execute_result"
    }
   ],
   "source": [
    "# isinstance\n",
    "\n",
    "# a simple method that tells that if an object is an instance of a class or not\n",
    "isinstance(t,Test)\n",
    "#isinstance(obj,ClassName)"
   ]
  },
  {
   "cell_type": "code",
   "execution_count": 122,
   "id": "26d5f497-6175-4fe5-a3f8-588a44723ac0",
   "metadata": {},
   "outputs": [
    {
     "data": {
      "text/plain": [
       "True"
      ]
     },
     "execution_count": 122,
     "metadata": {},
     "output_type": "execute_result"
    }
   ],
   "source": [
    "#issubclass\n",
    "class A : \n",
    "    pass\n",
    "class B(A):\n",
    "    pass\n",
    "\n",
    "issubclass(B,A)\n",
    "# the above statement is read as -> is B subclass of A or not"
   ]
  },
  {
   "cell_type": "code",
   "execution_count": 123,
   "id": "333d5d47-96fa-47a0-9105-4283ed982d15",
   "metadata": {},
   "outputs": [],
   "source": [
    "# Q6. Diamond Problem\n",
    "\n",
    "# Its an Ambiguity Problem\n",
    "# Check the Screenshot"
   ]
  },
  {
   "cell_type": "code",
   "execution_count": 124,
   "id": "92131823-0449-459f-b359-e56e0f7faaaf",
   "metadata": {},
   "outputs": [],
   "source": [
    "#Q7. What is the meaning of single and double underscores in Python variable and method names\n",
    "\n",
    "# in another .ipynb notebook"
   ]
  },
  {
   "cell_type": "code",
   "execution_count": 125,
   "id": "d7b19be3-1dfb-405a-aefd-23b7663667de",
   "metadata": {},
   "outputs": [
    {
     "name": "stdout",
     "output_type": "stream",
     "text": [
      "Hello\n",
      "Hello\n",
      "'Hello'\n"
     ]
    }
   ],
   "source": [
    "# Q8. What is difference between MAGIC METHOD (REPR vs STR)\n",
    "#REPR = representation\n",
    "\n",
    "a = \"Hello\"\n",
    "print(a)\n",
    "print(str(a))\n",
    "print(repr(a)) # single quotes can be seen -> very subtle difference\n",
    "\n",
    "\n"
   ]
  },
  {
   "cell_type": "code",
   "execution_count": 126,
   "id": "c7d566c2-0cd1-4e9d-8de9-4e829c2a76a6",
   "metadata": {},
   "outputs": [
    {
     "name": "stdout",
     "output_type": "stream",
     "text": [
      "2024-02-13 03:09:56.942917\n",
      "2024-02-13 03:09:56.942917\n"
     ]
    }
   ],
   "source": [
    "import datetime\n",
    "\n",
    "a = datetime.datetime.now()\n",
    "b = str(a)\n",
    "\n",
    "\n",
    "print(str(a))\n",
    "print(str(b))"
   ]
  },
  {
   "cell_type": "code",
   "execution_count": 127,
   "id": "30ab730f-1076-4425-928b-5d1d5466f411",
   "metadata": {},
   "outputs": [
    {
     "name": "stdout",
     "output_type": "stream",
     "text": [
      "datetime.datetime(2024, 2, 13, 3, 9, 56, 942917)\n"
     ]
    }
   ],
   "source": [
    "print(repr(a))"
   ]
  },
  {
   "cell_type": "code",
   "execution_count": 129,
   "id": "42e529f7-cd55-4fdd-8bef-f96ecda6ff5b",
   "metadata": {},
   "outputs": [
    {
     "name": "stdout",
     "output_type": "stream",
     "text": [
      "'2024-02-13 03:09:56.942917'\n"
     ]
    }
   ],
   "source": [
    "print(repr(b))\n",
    "\n",
    "# a was datetime object\n",
    "# b was string of datetime object"
   ]
  },
  {
   "cell_type": "code",
   "execution_count": null,
   "id": "2b1890a2-0085-4bb2-af18-47436a1818cc",
   "metadata": {},
   "outputs": [],
   "source": [
    "# Conclusion\n",
    "\n",
    "# Both repr and str have same funtion to show(print krke dikhai) me how something is looking\n",
    "# repr actually helps during debugging\n",
    "# repr- shows technical details\n",
    "# str - it simplifies and shows thing\n",
    "# Since string function is created for users\n",
    "# Whereas repr - helpful to show output to the programmer\n",
    "# When you call print you call the str function"
   ]
  },
  {
   "cell_type": "code",
   "execution_count": 130,
   "id": "6644ffb6-b370-4bc2-8c25-3a1c48cbf14a",
   "metadata": {},
   "outputs": [
    {
     "name": "stdout",
     "output_type": "stream",
     "text": [
      "Class A\n",
      "Class A\n"
     ]
    }
   ],
   "source": [
    "#Q.. How can objects be stored in sets even though they are mutable\n",
    "\n",
    "class A : \n",
    "    def __init__(self):\n",
    "        print(\"Class A\")\n",
    "a = A()\n",
    "bas = A()\n",
    "aer = {a,bas}"
   ]
  },
  {
   "cell_type": "markdown",
   "id": "75228ccf-48b4-4f93-9c7e-1885983ee53a",
   "metadata": {},
   "source": [
    "Python doesn't test for mutable objects, it tests for hashable objects.\n",
    "\n",
    "Custom class instances are by default hashable. That's fine because the default `__eq__` implementation for such classes only tests for instance identity and the hash is based of the same information.\n",
    "\n",
    "In other words, it doesn't matter that you alter the state of your instance attributes, because the identity of an instance is immutable anyway.\n",
    "\n",
    "As soon as you implement a `__hash__` and `__eq__` method that take instance state into account you might be in trouble and should stop mutating that state. Only then would a custom class instance no longer be suitable for storing in a dictionary or set."
   ]
  },
  {
   "cell_type": "code",
   "execution_count": 136,
   "id": "a1e15df0-c427-47e3-81d3-69ce3e5582da",
   "metadata": {},
   "outputs": [
    {
     "data": {
      "text/plain": [
       "<method-wrapper '__hash__' of A object at 0x1083a2f90>"
      ]
     },
     "execution_count": 136,
     "metadata": {},
     "output_type": "execute_result"
    }
   ],
   "source": [
    "### NOTE : \n",
    "\n",
    "# Whenever you create a class -> there is a magic method inside of it `__hash__`\n",
    "# Due to this now your objects become hashable\n",
    "# ASLO IMPRTANT : list also contains this `__hash__` but this magiv funtion inside \n",
    "# the list do not return any integer value therefore it is not included in sets\n",
    "dir(a)\n",
    "a.__hash__"
   ]
  },
  {
   "cell_type": "markdown",
   "id": "fc01cd03-abb3-4bb1-ba73-eea583cbbde8",
   "metadata": {},
   "source": [
    "### Why do list have __hash__ then ? \n",
    "\n",
    "Technically speaking, lists do have a __hash__ method, but it's disabled intentionally to prevent direct inclusion in sets. This decision was likely taken to avoid potential pitfalls and encourage best practices.\n",
    "\n",
    "Keep in mind that this restriction applies only to direct inclusion in sets. You can still generate hash values for individual list elements using the hash() function, but it's crucial to remember that mutating the list afterwards could render the generated hash value obsolete.\n",
    "\n",
    "So, while lists technically possess a __hash__ method, its functionality is limited to facilitate indirect uses, such as generating hash values for individual elements, rather than direct inclusion in sets. 😊"
   ]
  },
  {
   "cell_type": "code",
   "execution_count": 139,
   "id": "c9f66db5-892f-4f6f-825d-0ace3d7b5113",
   "metadata": {},
   "outputs": [
    {
     "name": "stdout",
     "output_type": "stream",
     "text": [
      "Class A\n",
      "Class A\n"
     ]
    },
    {
     "ename": "TypeError",
     "evalue": "__hash__ method should return an integer",
     "output_type": "error",
     "traceback": [
      "\u001b[0;31m---------------------------------------------------------------------------\u001b[0m",
      "\u001b[0;31mTypeError\u001b[0m                                 Traceback (most recent call last)",
      "Cell \u001b[0;32mIn[139], line 11\u001b[0m\n\u001b[1;32m      9\u001b[0m a \u001b[38;5;241m=\u001b[39m A()\n\u001b[1;32m     10\u001b[0m bas \u001b[38;5;241m=\u001b[39m A()\n\u001b[0;32m---> 11\u001b[0m aer \u001b[38;5;241m=\u001b[39m {a,bas}\n\u001b[1;32m     13\u001b[0m \u001b[38;5;66;03m# i can override the magic hash funtion and now it will not do anything now\u001b[39;00m\n",
      "\u001b[0;31mTypeError\u001b[0m: __hash__ method should return an integer"
     ]
    }
   ],
   "source": [
    "# Conclustion : \n",
    "# Every class has hashable method -> if it returns a integer then\n",
    "# it can be used in sets or else not\n",
    "\n",
    "class A : \n",
    "    def __init__(self):\n",
    "        print(\"Class A\")\n",
    "\n",
    "    def __hash__(self):\n",
    "        pass\n",
    "a = A()\n",
    "bas = A()\n",
    "aer = {a,bas}\n",
    "\n",
    "# i can override the magic hash funtion and now it will not do anything now"
   ]
  },
  {
   "cell_type": "code",
   "execution_count": 140,
   "id": "97118eb5-99ba-4ae8-8324-9fe8dde94cd6",
   "metadata": {},
   "outputs": [
    {
     "ename": "TypeError",
     "evalue": "'NoneType' object is not callable",
     "output_type": "error",
     "traceback": [
      "\u001b[0;31m---------------------------------------------------------------------------\u001b[0m",
      "\u001b[0;31mTypeError\u001b[0m                                 Traceback (most recent call last)",
      "Cell \u001b[0;32mIn[140], line 2\u001b[0m\n\u001b[1;32m      1\u001b[0m L \u001b[38;5;241m=\u001b[39m [\u001b[38;5;241m1\u001b[39m,\u001b[38;5;241m2\u001b[39m,\u001b[38;5;241m3\u001b[39m,\u001b[38;5;241m3\u001b[39m]\n\u001b[0;32m----> 2\u001b[0m \u001b[38;5;28mprint\u001b[39m(\u001b[43mL\u001b[49m\u001b[38;5;241;43m.\u001b[39;49m\u001b[38;5;21;43m__hash__\u001b[39;49m\u001b[43m(\u001b[49m\u001b[43m)\u001b[49m)\n",
      "\u001b[0;31mTypeError\u001b[0m: 'NoneType' object is not callable"
     ]
    }
   ],
   "source": [
    "L = [1,2,3,3]\n",
    "print(L.__hash__())\n",
    "\n",
    "# see that its `NoneType` Object"
   ]
  },
  {
   "cell_type": "code",
   "execution_count": 142,
   "id": "f0f33d1b-4a16-45ff-8b57-bd4681aa17b9",
   "metadata": {},
   "outputs": [
    {
     "data": {
      "text/plain": [
       "(2842179252064684812, 1521683888159824094)"
      ]
     },
     "execution_count": 142,
     "metadata": {},
     "output_type": "execute_result"
    }
   ],
   "source": [
    "hash(\"323232323\"),hash(\"awewe\")\n",
    "# hash has to return an integer"
   ]
  },
  {
   "cell_type": "code",
   "execution_count": 143,
   "id": "0cb60537-073a-48ad-b16e-1de1f332715e",
   "metadata": {},
   "outputs": [
    {
     "ename": "TypeError",
     "evalue": "unhashable type: 'list'",
     "output_type": "error",
     "traceback": [
      "\u001b[0;31m---------------------------------------------------------------------------\u001b[0m",
      "\u001b[0;31mTypeError\u001b[0m                                 Traceback (most recent call last)",
      "Cell \u001b[0;32mIn[143], line 1\u001b[0m\n\u001b[0;32m----> 1\u001b[0m \u001b[38;5;28;43mhash\u001b[39;49m\u001b[43m(\u001b[49m\u001b[43m[\u001b[49m\u001b[38;5;241;43m23\u001b[39;49m\u001b[43m,\u001b[49m\u001b[38;5;241;43m23\u001b[39;49m\u001b[43m,\u001b[49m\u001b[38;5;241;43m23\u001b[39;49m\u001b[43m]\u001b[49m\u001b[43m)\u001b[49m\n",
      "\u001b[0;31mTypeError\u001b[0m: unhashable type: 'list'"
     ]
    }
   ],
   "source": [
    "hash([23,23,23])"
   ]
  },
  {
   "cell_type": "code",
   "execution_count": null,
   "id": "ffdad6d9-8a06-4faf-9677-cbe215918229",
   "metadata": {},
   "outputs": [],
   "source": []
  }
 ],
 "metadata": {
  "kernelspec": {
   "display_name": "Python 3 (ipykernel)",
   "language": "python",
   "name": "python3"
  },
  "language_info": {
   "codemirror_mode": {
    "name": "ipython",
    "version": 3
   },
   "file_extension": ".py",
   "mimetype": "text/x-python",
   "name": "python",
   "nbconvert_exporter": "python",
   "pygments_lexer": "ipython3",
   "version": "3.11.4"
  }
 },
 "nbformat": 4,
 "nbformat_minor": 5
}
