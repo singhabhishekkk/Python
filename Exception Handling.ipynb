{
 "cells": [
  {
   "cell_type": "markdown",
   "id": "c4d8a9b3-013e-4175-a8b1-0c93a8377ee8",
   "metadata": {},
   "source": [
    "### Exception Handling"
   ]
  },
  {
   "cell_type": "markdown",
   "id": "83156d19-6bb9-496a-9233-0553876ebdc7",
   "metadata": {},
   "source": [
    "There are 2 stages where error may happen in a program : \n",
    "\n",
    "    * During compilation ( When you are converting your high level code to machine understand-able code) -> Synatax Error\n",
    "    \n",
    "    * During Execution ( Actually running it inside the ram) -> Exceptions"
   ]
  },
  {
   "cell_type": "markdown",
   "id": "6f9035c6-3be1-43fa-bcc7-33f68fee3c3f",
   "metadata": {},
   "source": [
    "### Syntax Error\n",
    "\n",
    "    * Something in the program is not written according to the program grammer\n",
    "    * Error is raised by the interpreter/compiler\n",
    "    * You can solve it by rectifying the program"
   ]
  },
  {
   "cell_type": "code",
   "execution_count": 1,
   "id": "e2ffd10c-398a-40ca-88ad-27dc0c241bf9",
   "metadata": {},
   "outputs": [
    {
     "ename": "SyntaxError",
     "evalue": "Missing parentheses in call to 'print'. Did you mean print(...)? (932957618.py, line 2)",
     "output_type": "error",
     "traceback": [
      "\u001b[0;36m  Cell \u001b[0;32mIn[1], line 2\u001b[0;36m\u001b[0m\n\u001b[0;31m    print \"hello world\"\u001b[0m\n\u001b[0m    ^\u001b[0m\n\u001b[0;31mSyntaxError\u001b[0m\u001b[0;31m:\u001b[0m Missing parentheses in call to 'print'. Did you mean print(...)?\n"
     ]
    }
   ],
   "source": [
    "# example of syntax error : \n",
    "print \"hello world\""
   ]
  },
  {
   "cell_type": "markdown",
   "id": "e8c4ea87-1c6c-40d4-85d5-abb5698914b7",
   "metadata": {},
   "source": [
    "Other examples of syntax error : \n",
    "\n",
    "    * Leaving symbols like colon,brackets\n",
    "    * Misspelling a keyword\n",
    "    * Incorrect indentation (mostly in Python)\n",
    "    * empty if/else/loops/class/funtions\n",
    "All these error are known as Syntax Error"
   ]
  },
  {
   "cell_type": "markdown",
   "id": "512f615a-4cde-4e7c-ae5b-65722e472903",
   "metadata": {},
   "source": [
    "Errors in Python defined : "
   ]
  },
  {
   "cell_type": "code",
   "execution_count": 2,
   "id": "a9275841-cfc4-4501-86f5-72932e77f8e3",
   "metadata": {},
   "outputs": [
    {
     "ename": "IndexError",
     "evalue": "list index out of range",
     "output_type": "error",
     "traceback": [
      "\u001b[0;31m---------------------------------------------------------------------------\u001b[0m",
      "\u001b[0;31mIndexError\u001b[0m                                Traceback (most recent call last)",
      "Cell \u001b[0;32mIn[2], line 5\u001b[0m\n\u001b[1;32m      1\u001b[0m \u001b[38;5;66;03m# Index Error - \u001b[39;00m\n\u001b[1;32m      2\u001b[0m \u001b[38;5;66;03m# The IndexError is thrown when trying to access an items at an invalid Index token\u001b[39;00m\n\u001b[1;32m      4\u001b[0m L \u001b[38;5;241m=\u001b[39m [\u001b[38;5;241m1\u001b[39m,\u001b[38;5;241m2\u001b[39m,\u001b[38;5;241m3\u001b[39m]\n\u001b[0;32m----> 5\u001b[0m \u001b[43mL\u001b[49m\u001b[43m[\u001b[49m\u001b[38;5;241;43m1000\u001b[39;49m\u001b[43m]\u001b[49m\n",
      "\u001b[0;31mIndexError\u001b[0m: list index out of range"
     ]
    }
   ],
   "source": [
    "# Index Error - \n",
    "# The IndexError is thrown when trying to access an items at an invalid Index token\n",
    "\n",
    "L = [1,2,3]\n",
    "L# [1000]"
   ]
  },
  {
   "cell_type": "code",
   "execution_count": 13,
   "id": "7c12ca7a-63a1-4037-87cf-2aa46dadc78a",
   "metadata": {},
   "outputs": [
    {
     "ename": "NameError",
     "evalue": "name 'mathe' is not defined",
     "output_type": "error",
     "traceback": [
      "\u001b[0;31m---------------------------------------------------------------------------\u001b[0m",
      "\u001b[0;31mNameError\u001b[0m                                 Traceback (most recent call last)",
      "Cell \u001b[0;32mIn[13], line 6\u001b[0m\n\u001b[1;32m      4\u001b[0m \u001b[38;5;28;01mimport\u001b[39;00m \u001b[38;5;21;01mmath\u001b[39;00m\n\u001b[1;32m      5\u001b[0m math\u001b[38;5;241m.\u001b[39mfloor(\u001b[38;5;241m5.9\u001b[39m)\n\u001b[0;32m----> 6\u001b[0m \u001b[43mmathe\u001b[49m\u001b[38;5;241m.\u001b[39mciel(\u001b[38;5;241m3.3\u001b[39m)\n",
      "\u001b[0;31mNameError\u001b[0m: name 'mathe' is not defined"
     ]
    }
   ],
   "source": [
    "# ModuleNotFoundError\n",
    "# The Module not found error is thrown if module is not found\n",
    "\n",
    "import math\n",
    "math.floor(5.9)\n",
    "mathe.ciel(3.3)"
   ]
  },
  {
   "cell_type": "code",
   "execution_count": 15,
   "id": "aeb7c28b-3dd6-4514-9509-e87fda223e70",
   "metadata": {},
   "outputs": [
    {
     "ename": "KeyError",
     "evalue": "'age'",
     "output_type": "error",
     "traceback": [
      "\u001b[0;31m---------------------------------------------------------------------------\u001b[0m",
      "\u001b[0;31mKeyError\u001b[0m                                  Traceback (most recent call last)",
      "Cell \u001b[0;32mIn[15], line 5\u001b[0m\n\u001b[1;32m      1\u001b[0m \u001b[38;5;66;03m# KeyError\u001b[39;00m\n\u001b[1;32m      2\u001b[0m \u001b[38;5;66;03m# The keyError is thrown when a key is not found\u001b[39;00m\n\u001b[1;32m      4\u001b[0m d \u001b[38;5;241m=\u001b[39m {\u001b[38;5;124m\"\u001b[39m\u001b[38;5;124mname\u001b[39m\u001b[38;5;124m\"\u001b[39m:\u001b[38;5;124m'\u001b[39m\u001b[38;5;124mAbhishek\u001b[39m\u001b[38;5;124m'\u001b[39m}\n\u001b[0;32m----> 5\u001b[0m \u001b[43md\u001b[49m\u001b[43m[\u001b[49m\u001b[38;5;124;43m'\u001b[39;49m\u001b[38;5;124;43mage\u001b[39;49m\u001b[38;5;124;43m'\u001b[39;49m\u001b[43m]\u001b[49m\n",
      "\u001b[0;31mKeyError\u001b[0m: 'age'"
     ]
    }
   ],
   "source": [
    "# KeyError\n",
    "# The keyError is thrown when a key is not found\n",
    "\n",
    "d = {\"name\":'Abhishek'}\n",
    "d['age']"
   ]
  },
  {
   "cell_type": "code",
   "execution_count": 16,
   "id": "328da1a1-7764-40cd-876f-cd2e4e054636",
   "metadata": {},
   "outputs": [
    {
     "ename": "TypeError",
     "evalue": "can only concatenate str (not \"int\") to str",
     "output_type": "error",
     "traceback": [
      "\u001b[0;31m---------------------------------------------------------------------------\u001b[0m",
      "\u001b[0;31mTypeError\u001b[0m                                 Traceback (most recent call last)",
      "Cell \u001b[0;32mIn[16], line 3\u001b[0m\n\u001b[1;32m      1\u001b[0m \u001b[38;5;66;03m# TypeError\u001b[39;00m\n\u001b[1;32m      2\u001b[0m \u001b[38;5;66;03m# the type error is thrown when as operation or funtion is applied to an object of an inappropriate type\u001b[39;00m\n\u001b[0;32m----> 3\u001b[0m \u001b[38;5;124;43m\"\u001b[39;49m\u001b[38;5;124;43mabc\u001b[39;49m\u001b[38;5;124;43m\"\u001b[39;49m\u001b[43m \u001b[49m\u001b[38;5;241;43m+\u001b[39;49m\u001b[43m \u001b[49m\u001b[38;5;241;43m2\u001b[39;49m\n",
      "\u001b[0;31mTypeError\u001b[0m: can only concatenate str (not \"int\") to str"
     ]
    }
   ],
   "source": [
    "# TypeError\n",
    "# the type error is thrown when as operation or funtion is applied to an object of an inappropriate type\n",
    "\"abc\" + 2"
   ]
  },
  {
   "cell_type": "code",
   "execution_count": 20,
   "id": "2cb0ecf4-1b3b-4ecf-9256-e458a44630d3",
   "metadata": {},
   "outputs": [
    {
     "ename": "ValueError",
     "evalue": "invalid literal for int() with base 10: 'a'",
     "output_type": "error",
     "traceback": [
      "\u001b[0;31m---------------------------------------------------------------------------\u001b[0m",
      "\u001b[0;31mValueError\u001b[0m                                Traceback (most recent call last)",
      "Cell \u001b[0;32mIn[20], line 5\u001b[0m\n\u001b[1;32m      1\u001b[0m \u001b[38;5;66;03m# ValueError\u001b[39;00m\n\u001b[1;32m      2\u001b[0m \u001b[38;5;66;03m# value error is thrown when a funtion's argument is of an inappropriate type.\u001b[39;00m\n\u001b[1;32m      4\u001b[0m \u001b[38;5;28mint\u001b[39m(\u001b[38;5;241m23.93\u001b[39m)\n\u001b[0;32m----> 5\u001b[0m \u001b[38;5;28;43mint\u001b[39;49m\u001b[43m(\u001b[49m\u001b[38;5;124;43m\"\u001b[39;49m\u001b[38;5;124;43ma\u001b[39;49m\u001b[38;5;124;43m\"\u001b[39;49m\u001b[43m)\u001b[49m\n",
      "\u001b[0;31mValueError\u001b[0m: invalid literal for int() with base 10: 'a'"
     ]
    }
   ],
   "source": [
    "# ValueError\n",
    "# value error is thrown when a funtion's argument is of an inappropriate type.\n",
    "\n",
    "int(23.93)\n",
    "int(\"a\")"
   ]
  },
  {
   "cell_type": "code",
   "execution_count": 21,
   "id": "a12b5f5b-0f36-4f15-b5d5-645426869753",
   "metadata": {},
   "outputs": [
    {
     "ename": "NameError",
     "evalue": "name 'undfined_variable' is not defined",
     "output_type": "error",
     "traceback": [
      "\u001b[0;31m---------------------------------------------------------------------------\u001b[0m",
      "\u001b[0;31mNameError\u001b[0m                                 Traceback (most recent call last)",
      "Cell \u001b[0;32mIn[21], line 3\u001b[0m\n\u001b[1;32m      1\u001b[0m \u001b[38;5;66;03m# NameError\u001b[39;00m\n\u001b[1;32m      2\u001b[0m \u001b[38;5;66;03m# The NameError is thrown when am object could not be found\u001b[39;00m\n\u001b[0;32m----> 3\u001b[0m \u001b[38;5;28mprint\u001b[39m(\u001b[43mundfined_variable\u001b[49m)\n",
      "\u001b[0;31mNameError\u001b[0m: name 'undfined_variable' is not defined"
     ]
    }
   ],
   "source": [
    "# NameError\n",
    "# The NameError is thrown when am object could not be found\n",
    "print(undfined_variable)"
   ]
  },
  {
   "cell_type": "code",
   "execution_count": 22,
   "id": "e65067c0-6400-4240-8ec1-6a0b13706b86",
   "metadata": {},
   "outputs": [
    {
     "ename": "AttributeError",
     "evalue": "'list' object has no attribute 'upper'",
     "output_type": "error",
     "traceback": [
      "\u001b[0;31m---------------------------------------------------------------------------\u001b[0m",
      "\u001b[0;31mAttributeError\u001b[0m                            Traceback (most recent call last)",
      "Cell \u001b[0;32mIn[22], line 3\u001b[0m\n\u001b[1;32m      1\u001b[0m \u001b[38;5;66;03m# AttributeError\u001b[39;00m\n\u001b[1;32m      2\u001b[0m L \u001b[38;5;241m=\u001b[39m [\u001b[38;5;241m1\u001b[39m,\u001b[38;5;241m2\u001b[39m,\u001b[38;5;241m3\u001b[39m]\n\u001b[0;32m----> 3\u001b[0m \u001b[43mL\u001b[49m\u001b[38;5;241;43m.\u001b[39;49m\u001b[43mupper\u001b[49m()\n",
      "\u001b[0;31mAttributeError\u001b[0m: 'list' object has no attribute 'upper'"
     ]
    }
   ],
   "source": [
    "# AttributeError\n",
    "L = [1,2,3]\n",
    "L.upper()"
   ]
  },
  {
   "cell_type": "markdown",
   "id": "54b7b8bb-a45b-42ab-9db5-3b07706f51af",
   "metadata": {},
   "source": [
    "### Exceptions\n",
    "    These Occur when the program is executing.\n",
    "    If things go worong during the execution of the program (runtime). It generally happens when something unforeseen has happened.\n",
    "    Execeptions are scenarioes where logical error takes places,\n",
    "    These cannot be caught by or detected by the compiler, since it is not the language or syntax that you wrote was incorrect.\n",
    "    Eg : taking 2 numbers and dividing them -> and user gave 2nd no = 0 -> not problem in syntax -> but a logical error during the exception of the program.\n",
    "\n",
    "        * Exception is raised by the python runtime\n",
    "        * you have to takle it on the fly\n",
    "\n",
    "    Examples : \n",
    "        * Memory OverFlow\n",
    "        * Divide by 0 -> logical error\n",
    "        * Database error\n",
    "\n",
    "### why is it important to handle exceptions ? \n",
    "    Whenever the error in Python occurs, we get a error message which is called Stacktrace. \n",
    "    Stactrace -> tells us about: \n",
    "        1. What type of error has occured\n",
    "        2. Describes a little about the error\n",
    "        3. Mentions the line which has cause the error\n",
    "        4. Tells you the file name\n",
    "    This is Python's mechanism to talk to the programmer about the issue. which is a good thing -> but not when this message is displayed to the user.\n",
    "    This harms the user-experience also its a security issue -> since the error has sensitive info such as my file name on the server and what code i have written.\n",
    "    Conclusion : \n",
    "        1. User Experince takes a hit\n",
    "        2. Security -> i do not want to display this much information on the surface level."
   ]
  },
  {
   "cell_type": "code",
   "execution_count": 24,
   "id": "f270dade-1a99-4574-a5af-83311d089b5a",
   "metadata": {},
   "outputs": [],
   "source": [
    "# how to handle exception\n",
    "#  --> Try except block\n",
    "\n",
    "# Whenever you feel that a certain peice of code can cause error to your program\n",
    "# you put that code in : Try Block\n",
    "\n",
    "# and if the error occurs due to the code in the try block : you put the \n",
    "# alternative code in the : Except Block\n"
   ]
  },
  {
   "cell_type": "code",
   "execution_count": 26,
   "id": "164bc94f-b4ca-4f14-b45a-58ee3d44fdd9",
   "metadata": {},
   "outputs": [],
   "source": [
    "# Example\n",
    "with open(\"sample.txt\",'w') as f : \n",
    "    f.write(\"Hello World\")"
   ]
  },
  {
   "cell_type": "code",
   "execution_count": 29,
   "id": "c8aea7a7-7ec7-488f-9c35-8e0e45dc090f",
   "metadata": {},
   "outputs": [
    {
     "name": "stdout",
     "output_type": "stream",
     "text": [
      "Sorry the file cannot be found\n"
     ]
    }
   ],
   "source": [
    "# try :\n",
    "\n",
    "try : \n",
    "    with open('s123ample.txt','r') as f : \n",
    "        print(f.read())\n",
    "except : \n",
    "    print(\"Sorry the file cannot be found\")\n",
    "\n",
    "# Experienced Programmer tip : \n",
    "    # whenever you open a external resource in your code -> file,db,connection,..\n",
    "    # write that code in try except block\n",
    "\n",
    "\n"
   ]
  },
  {
   "cell_type": "code",
   "execution_count": 35,
   "id": "8267fd57-6873-4030-93ce-335a26a5e601",
   "metadata": {},
   "outputs": [
    {
     "name": "stdout",
     "output_type": "stream",
     "text": [
      "Some error\n"
     ]
    }
   ],
   "source": [
    "# catching specific exception\n",
    "try : \n",
    "    with open('sample.txt','r') as f : \n",
    "        a = f.read()\n",
    "        print(b)\n",
    "except : \n",
    "    print('Some error')"
   ]
  },
  {
   "cell_type": "code",
   "execution_count": 36,
   "id": "2d2a0889-2b66-4b59-b2c9-c57c3fb273a4",
   "metadata": {},
   "outputs": [],
   "source": [
    "# In all the government websites -> in any case of error -> \n",
    "# only one message is printed\n",
    "\n",
    "# which is not correct -> you always need to inform the user \n",
    "# due to what the error has been generated"
   ]
  },
  {
   "cell_type": "code",
   "execution_count": 40,
   "id": "bfd9c4c2-8aed-4c73-91b4-56c315e5e4dc",
   "metadata": {},
   "outputs": [
    {
     "name": "stdout",
     "output_type": "stream",
     "text": [
      "File not found\n"
     ]
    }
   ],
   "source": [
    "# To view what error can a piece of code give : \n",
    "# use Exception.with_traceback\n",
    "try : \n",
    "    with open('samp23le.txt','r') as f : \n",
    "        a = f.read()\n",
    "        print(b)\n",
    "except FileNotFoundError : \n",
    "    print(\"File not found\")\n",
    "except NameError : \n",
    "    print(\"Cannot find the variable/ Variable not defined\")\n",
    "except Exception as e: \n",
    "    print('Some error : ',e.with_traceback)"
   ]
  },
  {
   "cell_type": "code",
   "execution_count": 43,
   "id": "42c08406-af0f-4ecf-a537-e35cc43cd3f5",
   "metadata": {},
   "outputs": [
    {
     "name": "stdout",
     "output_type": "stream",
     "text": [
      "File not found\n"
     ]
    }
   ],
   "source": [
    "try:\n",
    "    with open('sampl23e.txt', 'r') as f:\n",
    "        a = f.read()\n",
    "        print(b)\n",
    "except FileNotFoundError:\n",
    "    print(\"File not found\")\n",
    "except NameError:\n",
    "    print(\"Cannot find the variable/Variable not defined\")\n",
    "except Exception as e: # This is the generic exception -> if no exception was caught\n",
    "    print('Some error:', e)\n",
    "\n",
    "# Generic Block should be at last -> other-wise it can takeOver your specific error"
   ]
  },
  {
   "cell_type": "code",
   "execution_count": 53,
   "id": "aff2053b-97ec-4c12-87a3-7ef57cd5be8a",
   "metadata": {},
   "outputs": [
    {
     "name": "stdout",
     "output_type": "stream",
     "text": [
      "[\n",
      "    1,\n",
      "    23,\n",
      "    34,\n",
      "    34,\n",
      "    23\n",
      "]\n"
     ]
    }
   ],
   "source": [
    "# else block\n",
    "\n",
    "try : \n",
    "    f = open('sample1.txt','r')\n",
    "\n",
    "except FileNotFoundError :\n",
    "    print(\"File cannot be found\")\n",
    "except Exception :\n",
    "    print(\"Error undetectable\")\n",
    "\n",
    "# What if there is no error in try block -> what piece of code you want to \n",
    "# Execute then -> you put in else block\n",
    "\n",
    "else : \n",
    "    print(f.read())\n",
    "    f.close()\n",
    "\n",
    "\n",
    "# you put code that you are super-sure would run after the try block runs successfully\n",
    "# If try does not runs -> encounters error -> then except block will run -> \n",
    "# -> not the else block"
   ]
  },
  {
   "cell_type": "code",
   "execution_count": 54,
   "id": "8240ab0f-a1da-4530-8ac9-5a0e1354b89e",
   "metadata": {},
   "outputs": [
    {
     "name": "stdout",
     "output_type": "stream",
     "text": [
      "[\n",
      "    1,\n",
      "    23,\n",
      "    34,\n",
      "    34,\n",
      "    23\n",
      "]\n",
      "Thank you\n"
     ]
    }
   ],
   "source": [
    "# Finally\n",
    "try : \n",
    "    f = open('sample1.txt','r')\n",
    "\n",
    "except FileNotFoundError :\n",
    "    print(\"File cannot be found\")\n",
    "except Exception :\n",
    "    print(\"Error undetectable\")\n",
    "else : \n",
    "    print(f.read())\n",
    "    f.close()\n",
    "\n",
    "# No matter what runs after try block -> except or else\n",
    "# But finally runs always no matter what\n",
    "\n",
    "finally : \n",
    "    print(\"Thank you\")\n",
    "# Reason -> there is a chance where the code execution stops\n",
    "# It may be possible that you already have an active connection going on\n",
    "# such as db connection, so here in finally you generally stop those connections\n",
    "# To prevent hacking \n"
   ]
  },
  {
   "cell_type": "code",
   "execution_count": 55,
   "id": "b59ba2e9-2c9e-497c-bafe-5ac2a18d383d",
   "metadata": {},
   "outputs": [
    {
     "name": "stdout",
     "output_type": "stream",
     "text": [
      "zsh:1: command not found: image\n"
     ]
    }
   ],
   "source": [
    "# Raise \n",
    "\n",
    "# In Python programming, exceptions are raised when errors occur at runtime\n",
    "# We can also manually raise exceptions using the raise keyword\n",
    "\n",
    "# We can optionally pass values to the exception to calrify why that exception was raised\n",
    "\n",
    "# benefit : \n",
    "\n",
    "\n",
    "# IN java : \n",
    "    # try => try\n",
    "    # Except -> catch\n",
    "    # raise -> throw"
   ]
  },
  {
   "cell_type": "code",
   "execution_count": 58,
   "id": "2c4f2eef-0adc-45d8-a8c2-d8ee6e386dff",
   "metadata": {},
   "outputs": [
    {
     "ename": "NameError",
     "evalue": "Was just testing raise",
     "output_type": "error",
     "traceback": [
      "\u001b[0;31m---------------------------------------------------------------------------\u001b[0m",
      "\u001b[0;31mNameError\u001b[0m                                 Traceback (most recent call last)",
      "Cell \u001b[0;32mIn[58], line 1\u001b[0m\n\u001b[0;32m----> 1\u001b[0m \u001b[38;5;28;01mraise\u001b[39;00m \u001b[38;5;167;01mNameError\u001b[39;00m(\u001b[38;5;124m\"\u001b[39m\u001b[38;5;124mWas just testing raise\u001b[39m\u001b[38;5;124m\"\u001b[39m)\n\u001b[1;32m      2\u001b[0m \u001b[38;5;28;01mraise\u001b[39;00m \u001b[38;5;167;01mZeroDivisionError\u001b[39;00m(\u001b[38;5;124m\"\u001b[39m\u001b[38;5;124mWas just testing raise\u001b[39m\u001b[38;5;124m\"\u001b[39m)\n",
      "\u001b[0;31mNameError\u001b[0m: Was just testing raise"
     ]
    }
   ],
   "source": [
    "raise NameError(\"Was just testing raise\")\n",
    "raise ZeroDivisionError(\"Was just testing raise\")"
   ]
  },
  {
   "cell_type": "code",
   "execution_count": null,
   "id": "6c25da56-8c3a-408b-bdec-3cee2c6effd8",
   "metadata": {},
   "outputs": [],
   "source": [
    "# Exception are called implemented in Python"
   ]
  },
  {
   "cell_type": "code",
   "execution_count": 59,
   "id": "1849f1a1-5fab-46fb-956b-663ecdd27f87",
   "metadata": {},
   "outputs": [
    {
     "name": "stdout",
     "output_type": "stream",
     "text": [
      "Current Balance 9990\n"
     ]
    }
   ],
   "source": [
    "class Bank : \n",
    "\n",
    "    def __init__(self,balance):\n",
    "        self.balance = balance\n",
    "\n",
    "    def withdraw(self,amount) : \n",
    "        self.amount = amount\n",
    "        if amount < 0 : \n",
    "            raise Exception(\"Amount cannot be negative\")\n",
    "        if self.amount > self.balance :\n",
    "            raise Exception(\"insufficient Funds\")\n",
    "        self.balance = self.balance - amount\n",
    "\n",
    "obj = Bank(10000)\n",
    "\n",
    "try : \n",
    "    obj.withdraw(10)\n",
    "except Exception as e :\n",
    "    print(e)\n",
    "else : \n",
    "    print(\"Current Balance\",obj.balance)"
   ]
  },
  {
   "cell_type": "code",
   "execution_count": 64,
   "id": "47b3d59a-feae-445d-8bca-55d41948a32d",
   "metadata": {},
   "outputs": [
    {
     "name": "stdout",
     "output_type": "stream",
     "text": [
      "insufficient Funds\n"
     ]
    }
   ],
   "source": [
    "# Creating Custom Exceptions \n",
    "\n",
    "# Whenever you create your custom exception -> you have to inherit the\n",
    "# Exception class -> otherwise you woun't be able to use raise\n",
    "# since raise is child of exception\n",
    "\n",
    "# Reason/ UseCase : Scenario -> in test block : in google if user is not loggin\n",
    "# from the same device -> then in the custom exception -> logout from all the devices\n",
    "# therfore fundamentally -> if apart from just printing message you want \n",
    "# to do something locally -> you create custom funtions\n",
    "\n",
    "\n",
    "class MyException(Exception) :\n",
    "    def __init__(self,message):\n",
    "        print(message)\n",
    "\n",
    "class Bank : \n",
    "\n",
    "    def __init__(self,balance):\n",
    "        self.balance = balance\n",
    "    \n",
    "    def withdraw(self,amount) : \n",
    "        self.amount = amount\n",
    "        if amount < 0 : \n",
    "            raise MyException(\"Amount cannot be negative\")\n",
    "        if self.amount > self.balance :\n",
    "            raise MyException(\"insufficient Funds\")\n",
    "        self.balance = self.balance - amount\n",
    "\n",
    "obj = Bank(10000)\n",
    "\n",
    "try : \n",
    "    obj.withdraw(10000000)\n",
    "except MyException as e :\n",
    "    pass\n",
    "else : \n",
    "    print(\"Current Balance\",obj.balance) "
   ]
  },
  {
   "cell_type": "code",
   "execution_count": 68,
   "id": "cfe72b9b-ca64-4d8b-908e-a94d6f92bf4a",
   "metadata": {},
   "outputs": [
    {
     "name": "stdout",
     "output_type": "stream",
     "text": [
      "message\n",
      "Logout from all devices\n",
      "Database Connection Lost\n"
     ]
    }
   ],
   "source": [
    "class SecurityError(Exception) : \n",
    "    def __init__(self,message):\n",
    "        print(\"message\")\n",
    "\n",
    "    def logout(self):\n",
    "        print(\"Logout from all devices\")\n",
    "    \n",
    "\n",
    "\n",
    "\n",
    "\n",
    "\n",
    "class Google : \n",
    "    def __init__(self,name,email,device):\n",
    "        self.name = name\n",
    "        self.email = email\n",
    "        self.device = device\n",
    "\n",
    "    def login(self,name,email,device) : \n",
    "        self.name = name\n",
    "        self.email = email\n",
    "        if device != self.device : \n",
    "            raise SecurityError('Error Occured')\n",
    "        if email == self.email and name == self.name : \n",
    "            print(\"Welcome\")\n",
    "        else : \n",
    "            raise LoginError(\"Password Incorrect \")\n",
    "\n",
    "obj = Google(\"Abhishek\",'hack','Windows')\n",
    "\n",
    "try : \n",
    "    obj.login(\"Abhishek\",'mac',\"MacOS\")\n",
    "except SecurityError as e : \n",
    "    e.logout()\n",
    "else : \n",
    "    print(self.name)\n",
    "finally : \n",
    "    print(\"Database Connection Lost\")"
   ]
  },
  {
   "cell_type": "code",
   "execution_count": null,
   "id": "70781f74-3075-4717-a409-0e8baaae40f4",
   "metadata": {},
   "outputs": [],
   "source": []
  }
 ],
 "metadata": {
  "kernelspec": {
   "display_name": "Python 3 (ipykernel)",
   "language": "python",
   "name": "python3"
  },
  "language_info": {
   "codemirror_mode": {
    "name": "ipython",
    "version": 3
   },
   "file_extension": ".py",
   "mimetype": "text/x-python",
   "name": "python",
   "nbconvert_exporter": "python",
   "pygments_lexer": "ipython3",
   "version": "3.11.4"
  }
 },
 "nbformat": 4,
 "nbformat_minor": 5
}
