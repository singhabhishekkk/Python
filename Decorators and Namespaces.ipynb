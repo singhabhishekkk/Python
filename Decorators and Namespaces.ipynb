{
 "cells": [
  {
   "cell_type": "markdown",
   "id": "c8a64667-037c-4129-b75b-1ed4fafee07e",
   "metadata": {},
   "source": [
    "### Namespaces\n",
    "\n",
    "A namespaces is a space that holds names (identifiers).\n",
    "\n",
    "Programmatically speaking, namespaces are dictionary of identifiers (keys) and their objects (values)\n",
    "Eg., a = 2, b = 3 -> becomes {a:2,b:3}\n",
    "\n",
    "Identifiers -> name of (variable, function, class )\n",
    "\n",
    "### There are 4 types of namespaces/ dictionaries : \n",
    "    * Builtin\n",
    "    * Global\n",
    "    * Enclosing\n",
    "    * Local\n",
    "\n",
    "namespaces -> is just a dictonary where the variables are the key and values of the variables are the values of the dictionary.\n",
    "And where those dictonary/ namespace is accessible are called their scope\n",
    "Name space is a dictionary.\n",
    "\n",
    "Scope and LEGB (LOCAL-Enclosing-Global-BuiltIn)  : <screenshot - provided> -> there are 2 scopes in the photo - 1. main program scope and then 2. the funtion \n",
    "\n",
    "    A scope is a textual region of a program where a namespace is directly accessible.\n",
    "\n",
    "    LEGB RULE : The interpreter searches for a name from inside out : \n",
    "        looking in the local -> enclosing -> gloabl and finally the built-in scope.\n",
    "        IF the interpreter doesn't find the name in any of these locations, then Python raises a NameError exception.\n",
    "    "
   ]
  },
  {
   "cell_type": "code",
   "execution_count": 1,
   "id": "1f23a570-c064-4348-971f-5a2000aa5b57",
   "metadata": {},
   "outputs": [],
   "source": [
    "# eg : print(a)\n",
    "\n",
    "# the interpreter searches for the variable`a` according to the LEGB rule"
   ]
  },
  {
   "cell_type": "code",
   "execution_count": 9,
   "id": "b3bf8d90-f364-40a3-911e-de8eb4b29be4",
   "metadata": {
    "scrolled": true
   },
   "outputs": [
    {
     "name": "stdout",
     "output_type": "stream",
     "text": [
      "3\n",
      "2\n"
     ]
    },
    {
     "data": {
      "text/plain": [
       "23"
      ]
     },
     "execution_count": 9,
     "metadata": {},
     "output_type": "execute_result"
    }
   ],
   "source": [
    "# Local and global scope\n",
    "\n",
    "a = 2 # -> Global variable/ Scope\n",
    "\n",
    "def temp():# -> part of global scope\n",
    "    b = 3 # Local variable/ scope\n",
    "    print(b)\n",
    "\n",
    "temp()\n",
    "print(a)\n",
    "\n",
    "# where main program is executed is known as global scope\n",
    "# and where the funtion is executed it is known as local scope\n",
    "\n",
    "\n",
    "# therefore it is possible to have 2 variables with the same name\n",
    "# if i have them in 2 difference namespaces\n",
    "\n",
    "\n",
    "# but if you put both the same named variable in one scope\n",
    "\n",
    "#Keys in a dictionary must be unique. If you try to assign multiple values to the same key, only the last assigned value will be kept.\n",
    "\n",
    "# since identifiers : value -> namespace -> dictonary\n",
    "# there fore the value of second variable is the actual value\n",
    "d = {'a':2,'a':23}\n",
    "d['a']"
   ]
  },
  {
   "cell_type": "code",
   "execution_count": 11,
   "id": "6ec957f0-23f7-4917-900f-76abfa65e0d8",
   "metadata": {},
   "outputs": [
    {
     "name": "stdout",
     "output_type": "stream",
     "text": [
      "2\n"
     ]
    }
   ],
   "source": [
    "a = 2\n",
    "\n",
    "def temp() : \n",
    "    print(a)\n",
    "temp()\n",
    "\n",
    "# since the interpreter follows the LEGB rule -> \n",
    "# it checked the local scope first -> not found\n",
    "# then the enclosing scope for `a` -> not found\n",
    "# then it checked global scope for `a` -> found ---"
   ]
  },
  {
   "cell_type": "code",
   "execution_count": 16,
   "id": "39285a9a-c06c-4b84-960f-7a8a042b99c2",
   "metadata": {},
   "outputs": [
    {
     "ename": "UnboundLocalError",
     "evalue": "cannot access local variable 'a' where it is not associated with a value",
     "output_type": "error",
     "traceback": [
      "\u001b[0;31m---------------------------------------------------------------------------\u001b[0m",
      "\u001b[0;31mUnboundLocalError\u001b[0m                         Traceback (most recent call last)",
      "Cell \u001b[0;32mIn[16], line 8\u001b[0m\n\u001b[1;32m      6\u001b[0m     a \u001b[38;5;241m=\u001b[39m a\u001b[38;5;241m+\u001b[39m\u001b[38;5;241m1\u001b[39m\n\u001b[1;32m      7\u001b[0m     \u001b[38;5;28mprint\u001b[39m(a)\n\u001b[0;32m----> 8\u001b[0m \u001b[43mtemp\u001b[49m\u001b[43m(\u001b[49m\u001b[43m)\u001b[49m\n",
      "Cell \u001b[0;32mIn[16], line 6\u001b[0m, in \u001b[0;36mtemp\u001b[0;34m()\u001b[0m\n\u001b[1;32m      5\u001b[0m \u001b[38;5;28;01mdef\u001b[39;00m \u001b[38;5;21mtemp\u001b[39m() : \n\u001b[0;32m----> 6\u001b[0m     a \u001b[38;5;241m=\u001b[39m \u001b[43ma\u001b[49m\u001b[38;5;241m+\u001b[39m\u001b[38;5;241m1\u001b[39m\n\u001b[1;32m      7\u001b[0m     \u001b[38;5;28mprint\u001b[39m(a)\n",
      "\u001b[0;31mUnboundLocalError\u001b[0m: cannot access local variable 'a' where it is not associated with a value"
     ]
    }
   ],
   "source": [
    "# editing the global from local\n",
    "\n",
    "a = 2\n",
    "\n",
    "def temp() : \n",
    "    a = a+1\n",
    "    print(a)\n",
    "temp()"
   ]
  },
  {
   "cell_type": "code",
   "execution_count": 19,
   "id": "a375b1d2-1e49-4a07-87dc-b76c38839332",
   "metadata": {},
   "outputs": [
    {
     "name": "stdout",
     "output_type": "stream",
     "text": [
      "3\n",
      "3\n"
     ]
    }
   ],
   "source": [
    "\n",
    "a = 2\n",
    "\n",
    "def temp() : \n",
    "    global a # tells the interpreter that you want to make changes to the global variable\n",
    "    # but you should not do this -> it may happen that there are several other funtions\n",
    "    # that are dependent on this global vriable -> which may get affected\n",
    "    a = a+1\n",
    "    print(a)\n",
    "temp()\n",
    "print(a)"
   ]
  },
  {
   "cell_type": "code",
   "execution_count": 21,
   "id": "cf8e9b3d-7be8-4ea2-b17b-a0da21c4fe52",
   "metadata": {},
   "outputs": [
    {
     "name": "stdout",
     "output_type": "stream",
     "text": [
      "1\n",
      "1\n"
     ]
    }
   ],
   "source": [
    "def temp(): \n",
    "    global  # if the global variable does not exists\n",
    "    # it can create a global variable in the global scope -> from the local scope\n",
    "    a = 1\n",
    "    print(a)\n",
    "temp()\n",
    "print(a)"
   ]
  },
  {
   "cell_type": "code",
   "execution_count": 24,
   "id": "c3aff93e-2594-4a85-aacf-6db47cf1b63b",
   "metadata": {},
   "outputs": [
    {
     "name": "stdout",
     "output_type": "stream",
     "text": [
      "3\n",
      "3\n"
     ]
    },
    {
     "ename": "NameError",
     "evalue": "name 'z' is not defined",
     "output_type": "error",
     "traceback": [
      "\u001b[0;31m---------------------------------------------------------------------------\u001b[0m",
      "\u001b[0;31mNameError\u001b[0m                                 Traceback (most recent call last)",
      "Cell \u001b[0;32mIn[24], line 9\u001b[0m\n\u001b[1;32m      5\u001b[0m temp(\u001b[38;5;241m3\u001b[39m)\n\u001b[1;32m      6\u001b[0m \u001b[38;5;28mprint\u001b[39m(a)\n\u001b[0;32m----> 9\u001b[0m \u001b[38;5;28mprint\u001b[39m(\u001b[43mz\u001b[49m)\n",
      "\u001b[0;31mNameError\u001b[0m: name 'z' is not defined"
     ]
    }
   ],
   "source": [
    "def temp(z): # z here is a local variable\n",
    "    # any parameter of a funtion is a local variable\n",
    "    print(z)\n",
    "a = 3\n",
    "temp(3)\n",
    "print(a)\n",
    "\n",
    "\n",
    "print(z)"
   ]
  },
  {
   "cell_type": "code",
   "execution_count": 25,
   "id": "1a755faf-d629-4b2d-85ed-cf45b42acc4d",
   "metadata": {},
   "outputs": [
    {
     "ename": "SyntaxError",
     "evalue": "name 'a' is assigned to before global declaration (4072243278.py, line 4)",
     "output_type": "error",
     "traceback": [
      "\u001b[0;36m  Cell \u001b[0;32mIn[25], line 4\u001b[0;36m\u001b[0m\n\u001b[0;31m    global a\u001b[0m\n\u001b[0m    ^\u001b[0m\n\u001b[0;31mSyntaxError\u001b[0m\u001b[0;31m:\u001b[0m name 'a' is assigned to before global declaration\n"
     ]
    }
   ],
   "source": [
    "a = 1\n",
    "def temp():\n",
    "    a = 34\n",
    "    global a\n",
    "    a = 23\n",
    "    print(a)\n",
    "print(a)"
   ]
  },
  {
   "cell_type": "code",
   "execution_count": 26,
   "id": "36f447bf-df2e-451f-a85f-684aa4ac8e1b",
   "metadata": {},
   "outputs": [
    {
     "name": "stdout",
     "output_type": "stream",
     "text": [
      "Hello\n"
     ]
    }
   ],
   "source": [
    "# Built in scope\n",
    "\n",
    "print('Hello') # example of built in scope\n",
    "\n"
   ]
  },
  {
   "cell_type": "code",
   "execution_count": 28,
   "id": "4392a6b5-004e-44e4-a203-8eff4374c6e0",
   "metadata": {},
   "outputs": [
    {
     "name": "stdout",
     "output_type": "stream",
     "text": [
      "['ArithmeticError', 'AssertionError', 'AttributeError', 'BaseException', 'BaseExceptionGroup', 'BlockingIOError', 'BrokenPipeError', 'BufferError', 'BytesWarning', 'ChildProcessError', 'ConnectionAbortedError', 'ConnectionError', 'ConnectionRefusedError', 'ConnectionResetError', 'DeprecationWarning', 'EOFError', 'Ellipsis', 'EncodingWarning', 'EnvironmentError', 'Exception', 'ExceptionGroup', 'False', 'FileExistsError', 'FileNotFoundError', 'FloatingPointError', 'FutureWarning', 'GeneratorExit', 'IOError', 'ImportError', 'ImportWarning', 'IndentationError', 'IndexError', 'InterruptedError', 'IsADirectoryError', 'KeyError', 'KeyboardInterrupt', 'LookupError', 'MemoryError', 'ModuleNotFoundError', 'NameError', 'None', 'NotADirectoryError', 'NotImplemented', 'NotImplementedError', 'OSError', 'OverflowError', 'PendingDeprecationWarning', 'PermissionError', 'ProcessLookupError', 'RecursionError', 'ReferenceError', 'ResourceWarning', 'RuntimeError', 'RuntimeWarning', 'StopAsyncIteration', 'StopIteration', 'SyntaxError', 'SyntaxWarning', 'SystemError', 'SystemExit', 'TabError', 'TimeoutError', 'True', 'TypeError', 'UnboundLocalError', 'UnicodeDecodeError', 'UnicodeEncodeError', 'UnicodeError', 'UnicodeTranslateError', 'UnicodeWarning', 'UserWarning', 'ValueError', 'Warning', 'ZeroDivisionError', '__IPYTHON__', '__build_class__', '__debug__', '__doc__', '__import__', '__loader__', '__name__', '__package__', '__spec__', 'abs', 'aiter', 'all', 'anext', 'any', 'ascii', 'bin', 'bool', 'breakpoint', 'bytearray', 'bytes', 'callable', 'chr', 'classmethod', 'compile', 'complex', 'copyright', 'credits', 'delattr', 'dict', 'dir', 'display', 'divmod', 'enumerate', 'eval', 'exec', 'execfile', 'filter', 'float', 'format', 'frozenset', 'get_ipython', 'getattr', 'globals', 'hasattr', 'hash', 'help', 'hex', 'id', 'input', 'int', 'isinstance', 'issubclass', 'iter', 'len', 'license', 'list', 'locals', 'map', 'max', 'memoryview', 'min', 'next', 'object', 'oct', 'open', 'ord', 'pow', 'print', 'property', 'range', 'repr', 'reversed', 'round', 'runfile', 'set', 'setattr', 'slice', 'sorted', 'staticmethod', 'str', 'sum', 'super', 'tuple', 'type', 'vars', 'zip']\n"
     ]
    }
   ],
   "source": [
    "import builtins\n",
    "print(dir(builtins)) # to see all the builtins\n",
    "\n",
    "\n",
    "# IN exception handling we can write : raise NameError\n",
    "# we did not define what is NameError but we could use it since\n",
    "# it was inside my built in scope"
   ]
  },
  {
   "cell_type": "code",
   "execution_count": 1,
   "id": "7d3cb4e2-aa72-46e1-949c-9547ba487d9c",
   "metadata": {
    "scrolled": true
   },
   "outputs": [
    {
     "name": "stdout",
     "output_type": "stream",
     "text": [
      "3\n",
      "Hello world\n",
      "Hello world\n",
      "232323234234234\n"
     ]
    }
   ],
   "source": [
    "# you can also overr-ride the built ins \n",
    "L = [1,2,3]\n",
    "print(max(L)) # works since as of now funtion has not been created in the global\n",
    "# order of the program execution is the key here\n",
    "def max(x):\n",
    "    print(\"Hello world\")\n",
    "    return 232323234234234\n",
    "\n",
    "max(L)  # using the LEGB Rule\n",
    "min(L)\n",
    "a = max(L)\n",
    "print(a)"
   ]
  },
  {
   "cell_type": "code",
   "execution_count": 13,
   "id": "a7184545-0369-463b-9e2a-84aec5f151c9",
   "metadata": {},
   "outputs": [
    {
     "name": "stdout",
     "output_type": "stream",
     "text": [
      "Main\n",
      "Inner Function\n",
      "Outer Funtion\n"
     ]
    }
   ],
   "source": [
    "# Enclosing Scope\n",
    "# this is seen in nested funtions\n",
    "\n",
    "def outer():\n",
    "    def inner():\n",
    "        print(\"Inner Function\")\n",
    "    inner()\n",
    "    print(\"Outer Funtion\")\n",
    "\n",
    "print(\"Main\")\n",
    "outer()\n",
    "\n",
    "\n",
    "# here outerfunction scope is the enclosing scope or non local scope\n",
    "# for inner funtion outer funtion scope is the enclosing scope"
   ]
  },
  {
   "cell_type": "code",
   "execution_count": 14,
   "id": "26e09d23-4dc9-4ef7-956c-209244b916b3",
   "metadata": {},
   "outputs": [
    {
     "name": "stdout",
     "output_type": "stream",
     "text": [
      "Main\n"
     ]
    },
    {
     "ename": "UnboundLocalError",
     "evalue": "cannot access local variable 'a' where it is not associated with a value",
     "output_type": "error",
     "traceback": [
      "\u001b[0;31m---------------------------------------------------------------------------\u001b[0m",
      "\u001b[0;31mUnboundLocalError\u001b[0m                         Traceback (most recent call last)",
      "Cell \u001b[0;32mIn[14], line 10\u001b[0m\n\u001b[1;32m      7\u001b[0m     \u001b[38;5;28mprint\u001b[39m(\u001b[38;5;124m\"\u001b[39m\u001b[38;5;124mOuter Funtion\u001b[39m\u001b[38;5;124m\"\u001b[39m)\n\u001b[1;32m      9\u001b[0m \u001b[38;5;28mprint\u001b[39m(\u001b[38;5;124m\"\u001b[39m\u001b[38;5;124mMain\u001b[39m\u001b[38;5;124m\"\u001b[39m)\n\u001b[0;32m---> 10\u001b[0m \u001b[43mouter\u001b[49m\u001b[43m(\u001b[49m\u001b[43m)\u001b[49m\n",
      "Cell \u001b[0;32mIn[14], line 6\u001b[0m, in \u001b[0;36mouter\u001b[0;34m()\u001b[0m\n\u001b[1;32m      4\u001b[0m     a \u001b[38;5;241m=\u001b[39m a\u001b[38;5;241m+\u001b[39m\u001b[38;5;241m1\u001b[39m\n\u001b[1;32m      5\u001b[0m     \u001b[38;5;28mprint\u001b[39m(\u001b[38;5;124m\"\u001b[39m\u001b[38;5;124mInner Function\u001b[39m\u001b[38;5;124m\"\u001b[39m)\n\u001b[0;32m----> 6\u001b[0m \u001b[43minner\u001b[49m\u001b[43m(\u001b[49m\u001b[43m)\u001b[49m\n\u001b[1;32m      7\u001b[0m \u001b[38;5;28mprint\u001b[39m(\u001b[38;5;124m\"\u001b[39m\u001b[38;5;124mOuter Funtion\u001b[39m\u001b[38;5;124m\"\u001b[39m)\n",
      "Cell \u001b[0;32mIn[14], line 4\u001b[0m, in \u001b[0;36mouter.<locals>.inner\u001b[0;34m()\u001b[0m\n\u001b[1;32m      3\u001b[0m \u001b[38;5;28;01mdef\u001b[39;00m \u001b[38;5;21minner\u001b[39m():\n\u001b[0;32m----> 4\u001b[0m     a \u001b[38;5;241m=\u001b[39m \u001b[43ma\u001b[49m\u001b[38;5;241m+\u001b[39m\u001b[38;5;241m1\u001b[39m\n\u001b[1;32m      5\u001b[0m     \u001b[38;5;28mprint\u001b[39m(\u001b[38;5;124m\"\u001b[39m\u001b[38;5;124mInner Function\u001b[39m\u001b[38;5;124m\"\u001b[39m)\n",
      "\u001b[0;31mUnboundLocalError\u001b[0m: cannot access local variable 'a' where it is not associated with a value"
     ]
    }
   ],
   "source": [
    "def outer():\n",
    "    a = 1\n",
    "    def inner():\n",
    "        a = a+1\n",
    "        print(\"Inner Function\")\n",
    "    inner()\n",
    "    print(\"Outer Funtion\")\n",
    "\n",
    "print(\"Main\")\n",
    "outer()"
   ]
  },
  {
   "cell_type": "code",
   "execution_count": 17,
   "id": "c5ceb569-9ab7-4de3-a770-725df5fc7212",
   "metadata": {},
   "outputs": [
    {
     "name": "stdout",
     "output_type": "stream",
     "text": [
      "Main\n",
      "Inner Function\n",
      "2\n",
      "Outer Funtion\n",
      "2\n"
     ]
    }
   ],
   "source": [
    "def outer():\n",
    "    a = 1\n",
    "    def inner():\n",
    "        nonlocal a # to change enclosing scope variables\n",
    "        a = a+1\n",
    "        print(\"Inner Function\")\n",
    "        print(a)\n",
    "    inner()\n",
    "    print(\"Outer Funtion\")\n",
    "    print(a)\n",
    "\n",
    "print(\"Main\")\n",
    "outer()\n",
    "\n",
    "\n",
    "# if - else do not create scopes"
   ]
  },
  {
   "cell_type": "code",
   "execution_count": 18,
   "id": "b0e1abb9-ec3e-4ce3-afda-eadacc171407",
   "metadata": {},
   "outputs": [],
   "source": [
    "# LEGB rule -> philosophy\n",
    "# local room\n",
    "# enclosing room entire house\n",
    "# global -> world\n",
    "# built in -> inner self what god has given you"
   ]
  },
  {
   "cell_type": "code",
   "execution_count": null,
   "id": "b47d4d8e-4a05-40fa-8e1b-b9305bfbf78e",
   "metadata": {},
   "outputs": [],
   "source": []
  },
  {
   "cell_type": "code",
   "execution_count": null,
   "id": "57f12c3b-8063-48e6-88c2-a6b6741d38ec",
   "metadata": {},
   "outputs": [],
   "source": []
  },
  {
   "cell_type": "markdown",
   "id": "e17c276b-a153-44fb-9da1-64af65b38149",
   "metadata": {},
   "source": [
    "### Decorators\n",
    "\n",
    "\n",
    "A decorator in Python is a funtion\n",
    "\n",
    "that recieves another funtion as input\n",
    "\n",
    "and adds some funtionality (decoration) to it\n",
    "\n",
    "and returns it\n",
    "\n",
    "\n",
    "\n",
    "\n",
    "This can happend only because, Python funtion are first class citizens.\n",
    "\n",
    "#### First class citizen ? \n",
    "    These are object in a programming language, to which you can perform all the operations. You can store them, delete them, give input in an funtion, funtion can output them.\n",
    "\n",
    "\n",
    "#### There are two types of decorators available in Python :\n",
    "\n",
    "        1. Built - in Decorators like @staticmethod, @classmethod, @abstractmethod, @property etc.. @app in flask\n",
    "        2. User-defined decorators that we progrmamers can create according to our needs."
   ]
  },
  {
   "cell_type": "code",
   "execution_count": 13,
   "id": "16719a1c-672b-4b3a-a605-1f532fd9ead3",
   "metadata": {},
   "outputs": [
    {
     "name": "stdout",
     "output_type": "stream",
     "text": [
      "Wooha\n"
     ]
    }
   ],
   "source": [
    "# Python funtion are first class citizen\n",
    "\n",
    "def fun():\n",
    "    print(\"Wooha\")\n",
    "    def a():\n",
    "        a = 1\n",
    "        print(a)\n",
    "def fundad(a):\n",
    "    a()\n",
    "\n",
    "\n",
    "fundad(fun)"
   ]
  },
  {
   "cell_type": "code",
   "execution_count": 14,
   "id": "992566c0-202f-44ab-99d8-ac892f05bf7b",
   "metadata": {},
   "outputs": [
    {
     "data": {
      "text/plain": [
       "64"
      ]
     },
     "execution_count": 14,
     "metadata": {},
     "output_type": "execute_result"
    }
   ],
   "source": [
    "def modify1(func,num):\n",
    "    return func(num)\n",
    "\n",
    "def cube(num):\n",
    "    return num*num*num\n",
    "\n",
    "modify1(cube,4)\n",
    "\n",
    "\n",
    "# giving one funtion another function as input"
   ]
  },
  {
   "cell_type": "code",
   "execution_count": 18,
   "id": "35f7f2a3-f3ec-48af-b32a-f6931adbe62e",
   "metadata": {},
   "outputs": [
    {
     "name": "stdout",
     "output_type": "stream",
     "text": [
      "*********\n",
      "Hello\n",
      "*********\n"
     ]
    }
   ],
   "source": [
    "# simple decorator example\n",
    "\n",
    "def my_Dec(func):\n",
    "    def wrapper():\n",
    "        print(\"*********\")\n",
    "        func()\n",
    "        print('*********')\n",
    "    return wrapper\n",
    "\n",
    "\n",
    "def hello():\n",
    "    print(\"Hello\")\n",
    "\n",
    "a = my_Dec(hello) # palatke i am getting a funtion, since the return type is a wrapper funtion\n",
    "# that funtion i will store in a variable\n",
    "a()\n",
    "\n",
    "\n",
    "# The interesting part is that wrapper can still access the func() funtion\n",
    "# even after the decorator funtion my_Dec() is over\n",
    "\n",
    "# see conceptually the after my_Dec has done exection all the variables of that funtion\n",
    "# should have been removed from the scope and wrapper should not have been able to access the func() \n",
    "# which is taken from the my_Dec argument\n",
    "\n",
    "\n",
    "# but after the outer func is done executing -> the inner func still has address of the outer func\n",
    "\n",
    "\n",
    "\n",
    "\n",
    "# this property is called closure -> after the outer func has died, the inner func can still access\n",
    "# the properties of outer func\n",
    "\n",
    "#Closure in Python refers to a function that retains references to variables from its enclosing scope,\n",
    "#which are stored in the heap memory, enabling the function to access and modify those variables even after the enclosing scope has finished executing."
   ]
  },
  {
   "cell_type": "code",
   "execution_count": 21,
   "id": "e2cc82c2-43e2-4be5-9a64-3f991ea88a3c",
   "metadata": {},
   "outputs": [
    {
     "name": "stdout",
     "output_type": "stream",
     "text": [
      "Hello\n"
     ]
    }
   ],
   "source": [
    "# since first class citizen therefore can store funtions in list also\n",
    "\n",
    "a = [hello(),cube(12)]\n",
    "a[0]"
   ]
  },
  {
   "cell_type": "code",
   "execution_count": 22,
   "id": "b57d012c-ac7b-4155-ab60-77dc73e79d66",
   "metadata": {},
   "outputs": [
    {
     "data": {
      "text/plain": [
       "1728"
      ]
     },
     "execution_count": 22,
     "metadata": {},
     "output_type": "execute_result"
    }
   ],
   "source": [
    "a[1]"
   ]
  },
  {
   "cell_type": "code",
   "execution_count": 24,
   "id": "5709486c-7e3b-4b00-adcd-f810a0ddd443",
   "metadata": {},
   "outputs": [
    {
     "name": "stdout",
     "output_type": "stream",
     "text": [
      "*********\n",
      "Hello\n",
      "*********\n"
     ]
    }
   ],
   "source": [
    "# better and shortcut syntax of Decorators of the same example above\n",
    "def my_Dec(func):\n",
    "    def wrapper():\n",
    "        print(\"*********\")\n",
    "        func()\n",
    "        print('*********')\n",
    "    return wrapper\n",
    "\n",
    "@my_Dec\n",
    "def hello():\n",
    "    print(\"Hello\")\n",
    "\n",
    "hello()"
   ]
  },
  {
   "cell_type": "code",
   "execution_count": 144,
   "id": "c5b51536-9d18-4008-81cc-5e83e9dca4c7",
   "metadata": {},
   "outputs": [],
   "source": [
    "# meaning-ful decorator\n",
    "\n",
    "# a decorator that will print execution time of a funtion\n",
    "\n",
    "import time\n",
    "\n",
    "def timer(func):\n",
    "    def wrapper(*args):\n",
    "        start = time.time()\n",
    "        func(*args)\n",
    "        print(\"wekwhekhw\",func)\n",
    "        print(f\"TIme taken by function :{func.__name__} is {time.time()-start} seconds \")\n",
    "    return wrapper"
   ]
  },
  {
   "cell_type": "code",
   "execution_count": 145,
   "id": "aa5c1073-42af-41a2-865f-57b3ea2f3686",
   "metadata": {},
   "outputs": [],
   "source": [
    "@timer\n",
    "def loo(a):\n",
    "    temp = a\n",
    "    for i in range(0,a):\n",
    "        e = temp + 1\n",
    "        temp = temp + 1\n",
    "        print(e)"
   ]
  },
  {
   "cell_type": "code",
   "execution_count": 146,
   "id": "c8a60e4f-239f-48e8-8cd3-73ba6ae18f87",
   "metadata": {},
   "outputs": [
    {
     "name": "stdout",
     "output_type": "stream",
     "text": [
      "214\n",
      "215\n",
      "216\n",
      "217\n",
      "218\n",
      "219\n",
      "220\n",
      "221\n",
      "222\n",
      "223\n",
      "224\n",
      "225\n",
      "226\n",
      "227\n",
      "228\n",
      "229\n",
      "230\n",
      "231\n",
      "232\n",
      "233\n",
      "234\n",
      "235\n",
      "236\n",
      "237\n",
      "238\n",
      "239\n",
      "240\n",
      "241\n",
      "242\n",
      "243\n",
      "244\n",
      "245\n",
      "246\n",
      "247\n",
      "248\n",
      "249\n",
      "250\n",
      "251\n",
      "252\n",
      "253\n",
      "254\n",
      "255\n",
      "256\n",
      "257\n",
      "258\n",
      "259\n",
      "260\n",
      "261\n",
      "262\n",
      "263\n",
      "264\n",
      "265\n",
      "266\n",
      "267\n",
      "268\n",
      "269\n",
      "270\n",
      "271\n",
      "272\n",
      "273\n",
      "274\n",
      "275\n",
      "276\n",
      "277\n",
      "278\n",
      "279\n",
      "280\n",
      "281\n",
      "282\n",
      "283\n",
      "284\n",
      "285\n",
      "286\n",
      "287\n",
      "288\n",
      "289\n",
      "290\n",
      "291\n",
      "292\n",
      "293\n",
      "294\n",
      "295\n",
      "296\n",
      "297\n",
      "298\n",
      "299\n",
      "300\n",
      "301\n",
      "302\n",
      "303\n",
      "304\n",
      "305\n",
      "306\n",
      "307\n",
      "308\n",
      "309\n",
      "310\n",
      "311\n",
      "312\n",
      "313\n",
      "314\n",
      "315\n",
      "316\n",
      "317\n",
      "318\n",
      "319\n",
      "320\n",
      "321\n",
      "322\n",
      "323\n",
      "324\n",
      "325\n",
      "326\n",
      "327\n",
      "328\n",
      "329\n",
      "330\n",
      "331\n",
      "332\n",
      "333\n",
      "334\n",
      "335\n",
      "336\n",
      "337\n",
      "338\n",
      "339\n",
      "340\n",
      "341\n",
      "342\n",
      "343\n",
      "344\n",
      "345\n",
      "346\n",
      "347\n",
      "348\n",
      "349\n",
      "350\n",
      "351\n",
      "352\n",
      "353\n",
      "354\n",
      "355\n",
      "356\n",
      "357\n",
      "358\n",
      "359\n",
      "360\n",
      "361\n",
      "362\n",
      "363\n",
      "364\n",
      "365\n",
      "366\n",
      "367\n",
      "368\n",
      "369\n",
      "370\n",
      "371\n",
      "372\n",
      "373\n",
      "374\n",
      "375\n",
      "376\n",
      "377\n",
      "378\n",
      "379\n",
      "380\n",
      "381\n",
      "382\n",
      "383\n",
      "384\n",
      "385\n",
      "386\n",
      "387\n",
      "388\n",
      "389\n",
      "390\n",
      "391\n",
      "392\n",
      "393\n",
      "394\n",
      "395\n",
      "396\n",
      "397\n",
      "398\n",
      "399\n",
      "400\n",
      "401\n",
      "402\n",
      "403\n",
      "404\n",
      "405\n",
      "406\n",
      "407\n",
      "408\n",
      "409\n",
      "410\n",
      "411\n",
      "412\n",
      "413\n",
      "414\n",
      "415\n",
      "416\n",
      "417\n",
      "418\n",
      "419\n",
      "420\n",
      "421\n",
      "422\n",
      "423\n",
      "424\n",
      "425\n",
      "426\n",
      "wekwhekhw <function loo at 0x10a7b3240>\n",
      "TIme taken by function :loo is 0.0012950897216796875 seconds \n"
     ]
    }
   ],
   "source": [
    "loo(213)"
   ]
  },
  {
   "cell_type": "code",
   "execution_count": 149,
   "id": "30e8ef77-69ff-4e90-99d4-64d753ed6dba",
   "metadata": {},
   "outputs": [
    {
     "name": "stdout",
     "output_type": "stream",
     "text": [
      "<class 'int'>\n"
     ]
    }
   ],
   "source": [
    "# decorators with argument\n",
    "\n",
    "# checks if the argument's datatype in the funtion is correct or not\n",
    "\n",
    "\n",
    "def sanity_check(data_type):\n",
    "    print(data_type)\n",
    "    def outer_w(func):\n",
    "         def inner_w(*args):\n",
    "             if type(args[0]) == data_type:\n",
    "                 func(*args)\n",
    "             else : \n",
    "                 raise TypeError\n",
    "         return inner_w\n",
    "    return outer_w\n",
    "@sanity_check(int)\n",
    "def add(a,b):\n",
    "    print(a+b)"
   ]
  },
  {
   "cell_type": "code",
   "execution_count": 150,
   "id": "df90c046-e92f-4e8f-9cc8-4257180a18c7",
   "metadata": {},
   "outputs": [
    {
     "name": "stdout",
     "output_type": "stream",
     "text": [
      "1244\n"
     ]
    }
   ],
   "source": [
    "add(1232,12)"
   ]
  },
  {
   "cell_type": "markdown",
   "id": "e180905e-114e-46ff-bb47-e237972cee1d",
   "metadata": {},
   "source": [
    "How it is that the function add is accessible to outer_w when it is not accessible and not passed to sanity_check as argument\n",
    "\n",
    "\n",
    "The outer_w function doesn't need direct access to the add function. Its purpose is to create a new function (inner_w) that will wrap around the add function.\n",
    "When you apply the @sanity_check(int) decorator above the definition of the add function, here's what happens behind the scenes:\n",
    "The sanity_check function receives the integer parameter int and prints it.\n",
    "Since there isn't much happening in the body of the sanity_check function except printing the parameter, it effectively does nothing but returning the nested outer_w function without modifying it.\n",
    "After evaluating the expression @sanity_check(int), the result becomes a callable object representing the outer_w function.\n",
    "Now, since the @decorator syntax is essentially shorthand for applying the decorator function to the following function definition, the next step is to pass the add function as an argument to the outer_w function.\n",
    "Within the outer_w function, the func parameter represents the add function itself. You could rename it to make things clearer: def outer_w(original_function): ....\n",
    "The outer_w function defines and returns the inner_w function, which wraps around the add function.\n",
    "Finally, the add identifier is reassigned to point to the newly created inner_w function instead of pointing to the original add function.\n",
    "To summarize, the add function is never directly accessed by the outer_w function. Instead, the add function is passed as an argument to the outer_w function through the decoration process.\n",
    "\n",
    "\n",
    "\n",
    "\n",
    "Step 1: We define the sanity_check decorator, which takes a single argument (data_type).\n",
    "\n",
    "def sanity_check(data_type):\n",
    "    # Code omitted...\n",
    "Step 2: We apply the @sanity_check(int) decorator above the definition of the add function. This causes the sanity_check function to be executed immediately, receiving the integer parameter int:\n",
    "\n",
    "@sanity_check(int)\n",
    "def add(a, b):\n",
    "    # Code omitted...\n",
    "Step 3: As part of the execution of the sanity_check function, the print(data_type) statement executes, resulting in the output \"int\".\n",
    "\n",
    "Step 4: Next, the sanity_check function returns the outer_w function, which serves as a wrapper around the add function. Note that the outer_w function hasn't been invoked yet.\n",
    "\n",
    "Step 5: Due to the way decorators work in Python, the add function is replaced with the outer_w function. Essentially, the add function now points to the outer_w function.\n",
    "\n",
    "Step 6: Whenever someone tries to invoke the add function, they're actually invoking the outer_w function. The outer_w function accepts a function (func) as an argument and returns the inner_w function.\n",
    "\n",
    "Step 7: The inner_w function performs some validation checks before eventually delegating control back to the original add function.\n",
    "\n",
    "By breaking down these steps, I hope it helps clarify why the add function remains accessible despite not being explicitly passed to the sanity_check decorator. 😊"
   ]
  },
  {
   "cell_type": "code",
   "execution_count": 151,
   "id": "a3e8188b-eda5-42ef-92f8-6fd67b47becd",
   "metadata": {},
   "outputs": [],
   "source": [
    "# Function (add) -> dcorator (sanity..) ko milta hai -> decorator returns wrapper (outer_w)\n",
    "# you call the wrapper "
   ]
  },
  {
   "cell_type": "markdown",
   "id": "066504d1-f267-4968-9ebe-9285dea25c43",
   "metadata": {},
   "source": [
    "Ah, yes! Without explicitly passing the wrapped function (add) as an argument to the sanity_check decorator, how is it possible for the outer_w function to receive it? ❓\n",
    "\n",
    "Well, the answer lies in the magic of Python's decorator syntax. 🪄\n",
    "\n",
    "When you declare a function with the @<decorator> notation, Python implicitly translates it to the following form:\n",
    "\n",
    "def add(a,b):\n",
    "    print(a+b)\n",
    "\n",
    "add = sanity_check(int)(add)\n",
    "Notice how the add function is assigned to the result of the sanity_check(int)(add) expression. This expression involves three components:\n",
    "\n",
    "The sanity_check decorator, which takes the integer int as an argument.\n",
    "The (add) portion, indicating that the add function is passed as an argument to the sanity_check decorator.\n",
    "The final assignment operator (=) assigns the result of the whole operation to the add function.\n",
    "Essentially, the @sanity_check(int) decorator notation is a convenient shortcut for manually assigning the result of the decorator evaluation to the add function. Behind the scenes, Python is taking care of the details, including passing the wrapped function (add) to the outer_w function. 😁"
   ]
  },
  {
   "cell_type": "code",
   "execution_count": null,
   "id": "a24fe32a-6fd3-4ca9-8214-eee8ffae73b2",
   "metadata": {},
   "outputs": [],
   "source": []
  }
 ],
 "metadata": {
  "kernelspec": {
   "display_name": "Python 3 (ipykernel)",
   "language": "python",
   "name": "python3"
  },
  "language_info": {
   "codemirror_mode": {
    "name": "ipython",
    "version": 3
   },
   "file_extension": ".py",
   "mimetype": "text/x-python",
   "name": "python",
   "nbconvert_exporter": "python",
   "pygments_lexer": "ipython3",
   "version": "3.11.4"
  }
 },
 "nbformat": 4,
 "nbformat_minor": 5
}
