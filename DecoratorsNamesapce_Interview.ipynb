{
 "cells": [
  {
   "cell_type": "markdown",
   "id": "6d2d9915-fb94-49fa-b68a-62db83b8d612",
   "metadata": {},
   "source": [
    "### Interview Question "
   ]
  },
  {
   "cell_type": "code",
   "execution_count": 1,
   "id": "104a2130-9034-491f-96a5-22b1dc80b954",
   "metadata": {},
   "outputs": [],
   "source": [
    "# 1. What do you mean by __name__ = '__main__'"
   ]
  },
  {
   "cell_type": "markdown",
   "id": "c4a4da29-3dbe-43e0-990e-560f93bdc088",
   "metadata": {},
   "source": [
    "### What is a Module ? \n",
    "\n",
    "Any file with an extension of .py is called a module in Python.\n",
    "\n",
    "Any independent piece of python code is called a module.\n",
    "\n",
    "Whenever we execute a program, it's module name is `__main__` and this name is stored in the special variable `__name__`\n"
   ]
  },
  {
   "cell_type": "code",
   "execution_count": 10,
   "id": "ad0a5a72-6701-4c8c-a0cc-cd5a33150119",
   "metadata": {},
   "outputs": [
    {
     "name": "stdout",
     "output_type": "stream",
     "text": [
      "hello\n",
      "__main__\n",
      "1\n",
      "4\n",
      "9\n",
      "16\n",
      "25\n",
      "36\n",
      "49\n",
      "64\n",
      "81\n",
      "100\n"
     ]
    }
   ],
   "source": [
    "def display():\n",
    "    print(\"hello\")\n",
    "\n",
    "display()\n",
    "print(__name__) # whenever you print __name__ in python otuput is __main__\n",
    "# python ka interpretor -> currently jo file execute hota hai\n",
    "# usko voh __main__ bulata hai\n",
    "# and it stores the information in __name__\n",
    "\n",
    "# and whenever you import a file/ module -> import modu as e\n",
    "# and do : e.__name__ -> you get name of that file --> modu\n",
    "\n",
    "\n",
    "# benefit : \n",
    "\n",
    "\n",
    "# when you import a file -> all the code esentially comes in the import line\n",
    "# just a simple ctrl + a and ctlr + v\n",
    "# what if i only want to use a funtion and not the for loop that is written after that funtion\n",
    "# because when you run your code which has the import statement\n",
    "# entire imported module code will run \n",
    "\n",
    "# therefore : you can avoid this scenario\n",
    "\n",
    "## in the module that is imported do : \n",
    "\n",
    "def square(n):\n",
    "    print(n*n)\n",
    "\n",
    "\n",
    "# effectively this a blocking syntax -> this hides few piece of code from \n",
    "# the files importing your code\n",
    "if __name__ == '__main__':\n",
    "    for i in range(1,11):\n",
    "        square(i)"
   ]
  },
  {
   "cell_type": "code",
   "execution_count": 7,
   "id": "d70a96e3-70aa-43f6-86fb-52a225e54421",
   "metadata": {},
   "outputs": [
    {
     "data": {
      "text/plain": [
       "'display'"
      ]
     },
     "execution_count": 7,
     "metadata": {},
     "output_type": "execute_result"
    }
   ],
   "source": [
    "display.__name__"
   ]
  },
  {
   "cell_type": "code",
   "execution_count": 8,
   "id": "10612b44-368e-4dbf-b491-49341a612055",
   "metadata": {},
   "outputs": [
    {
     "data": {
      "text/plain": [
       "'time'"
      ]
     },
     "execution_count": 8,
     "metadata": {},
     "output_type": "execute_result"
    }
   ],
   "source": [
    "import time\n",
    "time.__name__"
   ]
  },
  {
   "cell_type": "code",
   "execution_count": 11,
   "id": "4d6c3840-a36e-4802-9bd3-01c80dac2898",
   "metadata": {},
   "outputs": [
    {
     "name": "stdout",
     "output_type": "stream",
     "text": [
      "1\n",
      "4\n",
      "9\n",
      "16\n",
      "25\n",
      "36\n",
      "49\n",
      "64\n",
      "81\n",
      "100\n"
     ]
    }
   ],
   "source": [
    "## What if i dont want to hide, and i want to provide optionallity \n",
    "# if a user wants -> he can access my code\n",
    "\n",
    "\n",
    "def square(n):\n",
    "    print(n*n)\n",
    "\n",
    "def main():\n",
    "    for i in range(1,11):\n",
    "        square(i)\n",
    "    \n",
    "if __name__ == '__main__':\n",
    "    main()"
   ]
  },
  {
   "cell_type": "markdown",
   "id": "f907d807-d305-4d97-bda6-e2b7f3394aad",
   "metadata": {},
   "source": [
    "### Importing a module\n",
    "\n",
    "    1. But what is the need to import a module ? \n",
    "        To maintain code modularity, so that it is easy to manage and maintain code.\n",
    "        Also to promote code reusability.\n",
    "        \n",
    "    2. How to import a module\n",
    "\n",
    "        import <module-name>\n",
    "        "
   ]
  },
  {
   "cell_type": "markdown",
   "id": "58282670-d5fa-4ec6-871c-e80ead468780",
   "metadata": {},
   "source": [
    "### Variations of import Statements\n"
   ]
  },
  {
   "cell_type": "code",
   "execution_count": 12,
   "id": "22da6e86-fea8-42bd-bf0e-deabd47474e2",
   "metadata": {},
   "outputs": [],
   "source": [
    "# Normal\n",
    "import math\n",
    "import random"
   ]
  },
  {
   "cell_type": "code",
   "execution_count": 13,
   "id": "e53f33cc-3e14-4651-91c3-b0230c97e88b",
   "metadata": {},
   "outputs": [],
   "source": [
    "# clubbing together\n",
    "import math, random"
   ]
  },
  {
   "cell_type": "code",
   "execution_count": 17,
   "id": "f977e722-81c7-4f01-95ab-6eeaba64dbca",
   "metadata": {},
   "outputs": [
    {
     "ename": "NameError",
     "evalue": "name 'ceil' is not defined",
     "output_type": "error",
     "traceback": [
      "\u001b[0;31m---------------------------------------------------------------------------\u001b[0m",
      "\u001b[0;31mNameError\u001b[0m                                 Traceback (most recent call last)",
      "Cell \u001b[0;32mIn[17], line 5\u001b[0m\n\u001b[1;32m      2\u001b[0m \u001b[38;5;28;01mfrom\u001b[39;00m \u001b[38;5;21;01mmath\u001b[39;00m \u001b[38;5;28;01mimport\u001b[39;00m factorial\n\u001b[1;32m      4\u001b[0m factorial(\u001b[38;5;241m4\u001b[39m)\n\u001b[0;32m----> 5\u001b[0m \u001b[43mceil\u001b[49m(\u001b[38;5;241m8.2\u001b[39m)\n\u001b[1;32m      8\u001b[0m \u001b[38;5;66;03m# you import this way when : \u001b[39;00m\n\u001b[1;32m      9\u001b[0m \u001b[38;5;66;03m# you are super-sensitive about the size of the file\u001b[39;00m\n\u001b[1;32m     10\u001b[0m \u001b[38;5;66;03m# and you want to deploy the file to the server \u001b[39;00m\n\u001b[1;32m     11\u001b[0m \u001b[38;5;66;03m# a way to reduce memory\u001b[39;00m\n",
      "\u001b[0;31mNameError\u001b[0m: name 'ceil' is not defined"
     ]
    }
   ],
   "source": [
    "# importing specific names/ funtions from modules\n",
    "from math import factorial\n",
    "\n",
    "factorial(4)\n",
    "ceil(8.2)\n",
    "\n",
    "\n",
    "# you import this way when : \n",
    "# you are super-sensitive about the size of the file\n",
    "# and you want to deploy the file to the server \n",
    "# a way to reduce memory"
   ]
  },
  {
   "cell_type": "code",
   "execution_count": 18,
   "id": "3c37f852-40de-49eb-bfa1-1ea5d8cb20d9",
   "metadata": {},
   "outputs": [],
   "source": [
    "# renaming modules\n",
    "import numpy as np"
   ]
  },
  {
   "cell_type": "markdown",
   "id": "8333a7c1-6525-4c19-b70f-8b51a82244ff",
   "metadata": {},
   "source": [
    "### Order of exection od module\n"
   ]
  },
  {
   "cell_type": "code",
   "execution_count": 19,
   "id": "1485bfdd-94c9-4473-9f26-f0c0cb4d8230",
   "metadata": {},
   "outputs": [
    {
     "name": "stdout",
     "output_type": "stream",
     "text": [
      "/Users/singhabhishekkk/Local Code/Python\n",
      "/Library/Frameworks/Python.framework/Versions/3.11/lib/python311.zip\n",
      "/Library/Frameworks/Python.framework/Versions/3.11/lib/python3.11\n",
      "/Library/Frameworks/Python.framework/Versions/3.11/lib/python3.11/lib-dynload\n",
      "\n",
      "/Library/Frameworks/Python.framework/Versions/3.11/lib/python3.11/site-packages\n"
     ]
    }
   ],
   "source": [
    "import sys\n",
    "for p in sys.path : \n",
    "    print(p)\n",
    "\n",
    "# this gives you path where python looks for modules when you import them"
   ]
  },
  {
   "cell_type": "code",
   "execution_count": null,
   "id": "f89be60f-1ed9-4a30-8831-65599faab860",
   "metadata": {},
   "outputs": [],
   "source": []
  },
  {
   "cell_type": "markdown",
   "id": "44829f58-71f8-44fe-98d2-a5d8141ddba4",
   "metadata": {},
   "source": [
    "### What are packages in Python\n",
    "A package in python is a directory containing similar sub packages and modules.\n",
    "\n",
    "    1. A particular directory is treated as package if it has `__inint__.py` file in it\n",
    "    2. The `__init__.py` file may be empty or contain some initialization code related to the package\n",
    "\n",
    "Package (Folder) which has `__inint__.py` file -> in which files (modules) are stored."
   ]
  },
  {
   "cell_type": "markdown",
   "id": "4354a6a8-e1c2-4354-87c1-26b260fd28e5",
   "metadata": {},
   "source": [
    "### What are 3rd party packages ? \n",
    "    1. The Python community created packages and makes it available for other programmers\n",
    "    2. PyPi -> Python package index\n",
    "    3. you can upload your own packages\n",
    "    4. You can also install packages from PyPi and install using pip\n",
    "    5. pip is a package manager utility\n",
    "    6. It is automatically installed with python"
   ]
  },
  {
   "cell_type": "code",
   "execution_count": null,
   "id": "06adb500-6d82-4377-8168-ad2e35e832b7",
   "metadata": {},
   "outputs": [],
   "source": []
  }
 ],
 "metadata": {
  "kernelspec": {
   "display_name": "Python 3 (ipykernel)",
   "language": "python",
   "name": "python3"
  },
  "language_info": {
   "codemirror_mode": {
    "name": "ipython",
    "version": 3
   },
   "file_extension": ".py",
   "mimetype": "text/x-python",
   "name": "python",
   "nbconvert_exporter": "python",
   "pygments_lexer": "ipython3",
   "version": "3.11.4"
  }
 },
 "nbformat": 4,
 "nbformat_minor": 5
}
