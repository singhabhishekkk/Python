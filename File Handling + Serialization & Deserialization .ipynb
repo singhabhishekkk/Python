{
 "cells": [
  {
   "cell_type": "markdown",
   "id": "b2befce2-c2c9-4c84-aa43-7cafb66b2d40",
   "metadata": {},
   "source": [
    "### Some Theory\n",
    "Types of data used for I/O : \n",
    "\n",
    "    1. Text - '1234' as a sequence of unicode chars\n",
    "    2. Binary - 1234 as a sequnce of byytes of its binary equivalent (1s and 0s)\n",
    "\n",
    "Hence there are 2 files to deal with :\n",
    "\n",
    "    1. text files - All program fiels are text files \n",
    "    2. Binary files - Images,music,video,exe files\n",
    "    \n",
    "    "
   ]
  },
  {
   "cell_type": "markdown",
   "id": "9f37a4c4-a401-48f2-9395-dfd40011defb",
   "metadata": {},
   "source": [
    "### How File I/O is done in most programming languages\n",
    "\n",
    "1. Open a File\n",
    "2. Read/Write data eg : movie watching is reading a file. Editing the same is writing a file\n",
    "4. Close the file"
   ]
  },
  {
   "cell_type": "code",
   "execution_count": 6,
   "id": "4cc6053a-bc88-4901-a2b2-8d47a9daf59d",
   "metadata": {},
   "outputs": [],
   "source": [
    "# Writing to a text file .txt\n",
    "# case 1 - if the file is not present\n",
    "f = open(\"sample.txt\",\"w\") # this is a file handler object, in writing mode\n",
    "f.write('From the Program') \n",
    "#when you use the write() method to write data to the file, it returns the number of characters that were written.\n",
    "f.close()\n",
    "\n",
    "#f.write(\"Test\") this statement will not work since file is closed\n",
    "# The error message is : `ValueError : I/O operation on closed file`"
   ]
  },
  {
   "cell_type": "code",
   "execution_count": 12,
   "id": "1c277724-1c04-4684-9306-6b5e59affc89",
   "metadata": {},
   "outputs": [
    {
     "name": "stdout",
     "output_type": "stream",
     "text": [
      "Line 1 \n",
      " Line 2\n",
      " Line 3\n"
     ]
    }
   ],
   "source": [
    "with open(\"sample.txt\",\"r\") as f : \n",
    "    print(f.read())"
   ]
  },
  {
   "cell_type": "code",
   "execution_count": 9,
   "id": "01d8c543-ad67-40a2-bc19-9690d1ca4b5b",
   "metadata": {},
   "outputs": [
    {
     "data": {
      "text/plain": [
       "8"
      ]
     },
     "execution_count": 9,
     "metadata": {},
     "output_type": "execute_result"
    }
   ],
   "source": [
    "# Write multiline strings\n",
    "f = open(\"sample1.txt\",\"w\")\n",
    "f.write(\"Line 1 \\n Line 2\")\n",
    "f.write(\"\\n Line 3\")"
   ]
  },
  {
   "cell_type": "code",
   "execution_count": 11,
   "id": "eb9618a1-4e18-40b7-b335-00898a99b1a1",
   "metadata": {},
   "outputs": [
    {
     "ename": "UnsupportedOperation",
     "evalue": "not readable",
     "output_type": "error",
     "traceback": [
      "\u001b[0;31m---------------------------------------------------------------------------\u001b[0m",
      "\u001b[0;31mUnsupportedOperation\u001b[0m                      Traceback (most recent call last)",
      "Cell \u001b[0;32mIn[11], line 1\u001b[0m\n\u001b[0;32m----> 1\u001b[0m \u001b[38;5;28mprint\u001b[39m(\u001b[43mf\u001b[49m\u001b[38;5;241;43m.\u001b[39;49m\u001b[43mread\u001b[49m\u001b[43m(\u001b[49m\u001b[43m)\u001b[49m)\n",
      "\u001b[0;31mUnsupportedOperation\u001b[0m: not readable"
     ]
    }
   ],
   "source": [
    "print(f.read())"
   ]
  },
  {
   "cell_type": "code",
   "execution_count": 13,
   "id": "adfea18c-4c83-43f2-b4c4-b736c1609786",
   "metadata": {},
   "outputs": [],
   "source": [
    "# above throws error since the file is opened in writing mode and therefore\n",
    "# you cannot read from it"
   ]
  },
  {
   "cell_type": "code",
   "execution_count": null,
   "id": "3aed49ba-4938-4c2c-8e45-655077a53b54",
   "metadata": {},
   "outputs": [],
   "source": []
  },
  {
   "cell_type": "code",
   "execution_count": 20,
   "id": "bf8f2d2e-42ed-4508-a5d4-9d862be20a84",
   "metadata": {},
   "outputs": [],
   "source": [
    "# Case 2 - if the file is already present\n",
    "f = open('sample1.txt','w')\n",
    "f.write(\"New String\")\n",
    "f.close()"
   ]
  },
  {
   "cell_type": "code",
   "execution_count": 18,
   "id": "a4a63916-a917-4669-bf32-769bdbc45a1e",
   "metadata": {},
   "outputs": [
    {
     "name": "stdout",
     "output_type": "stream",
     "text": [
      "New String\n"
     ]
    }
   ],
   "source": [
    "with open(\"sample1.txt\") as f : \n",
    "    print(f.read())"
   ]
  },
  {
   "cell_type": "code",
   "execution_count": 17,
   "id": "0f84f994-114f-4b60-a977-57f32a1dea7d",
   "metadata": {},
   "outputs": [],
   "source": [
    "# thing to learn - if you write contents to a new file,\n",
    "# previous all content are erased and new content replaces it"
   ]
  },
  {
   "cell_type": "code",
   "execution_count": 27,
   "id": "34fa3127-5e50-4492-9eb9-99510e87460e",
   "metadata": {},
   "outputs": [],
   "source": [
    "# How exaclty open() works ? \n",
    "\n",
    "# A file is basically a simple file stored in your hardrive\n",
    "# Not in your ram -> ROM\n",
    "# and when you write open(\"sample.txt\",\"w\") -> python picks this file from harddrive\n",
    "# and places this in your ram -> in the buffer memory\n",
    "# And in buffer memory your file is read character-by-character right from the first character\n",
    "# So from the open() until the close() the file remains in the buffer memory\n",
    "# after close() -> file gets removed from the buffer memory and gets stored in hardrive\n",
    "# therefore the close() documentation says -> flush and close the IO object\n",
    "\n",
    "\n",
    "# i think open() would be a class \n",
    "\n",
    "\n",
    "\n",
    "\n",
    "\n",
    "\n",
    "\n",
    "\n",
    "# Rough Idea"
   ]
  },
  {
   "cell_type": "markdown",
   "id": "ed2b6959-a175-4e98-8208-5b40295c3661",
   "metadata": {},
   "source": [
    "### Note the deafult open() opens the file in read mode\n",
    "\n",
    "More : The open() function in Python is not implemented as a Python class. Instead, it's a built-in function provided by the Python interpreter. Its implementation resides in the CPython source code, and it's written in the C programming language."
   ]
  },
  {
   "cell_type": "code",
   "execution_count": null,
   "id": "326b73ed-ef25-4138-bba3-59ba597a6469",
   "metadata": {},
   "outputs": [],
   "source": []
  },
  {
   "cell_type": "code",
   "execution_count": 25,
   "id": "225fb172-e5ca-4d3a-b48b-c960371bab12",
   "metadata": {},
   "outputs": [
    {
     "data": {
      "text/plain": [
       "18"
      ]
     },
     "execution_count": 25,
     "metadata": {},
     "output_type": "execute_result"
    }
   ],
   "source": [
    "# Problem with `w` mode : \n",
    "\n",
    "# if you wite to existing file using w mode, the existing data gets erased and new \n",
    "# data replaces it\n",
    "# I want to preserve the existing content\n",
    "\n",
    "# Introduction to append mode\n",
    "f = open('sample1.txt',\"a\")\n",
    "f.write(\"wlejhkwjehkwbruwhe\n",
    "f.close()"
   ]
  },
  {
   "cell_type": "code",
   "execution_count": 26,
   "id": "0862f82c-0b18-4b6b-8b68-58f3dd6739c0",
   "metadata": {},
   "outputs": [
    {
     "name": "stdout",
     "output_type": "stream",
     "text": [
      "New Stringwlejhkwjehkwbruwhe\n"
     ]
    }
   ],
   "source": [
    "with open(\"sample1.txt\") as f:\n",
    "    print(f.read())"
   ]
  },
  {
   "cell_type": "code",
   "execution_count": 72,
   "id": "a7a5b7ac-c63d-40cf-862d-33dc0ad56c66",
   "metadata": {},
   "outputs": [],
   "source": [
    "# Write lines at once\n",
    "\n",
    "L = [\"hello\",\"Hi\",\"weqwbrjq3bre\"]\n",
    "for i  in L:\n",
    "    L[L.index(i)] = i + '\\n'\n",
    "\n",
    "\n",
    "    \n"
   ]
  },
  {
   "cell_type": "markdown",
   "id": "f138368a-cd92-4476-ae26-aaa3c0ceb820",
   "metadata": {},
   "source": [
    "Can also be \n",
    "\n",
    "\n",
    "for i in range(len(L)):\n",
    "\n",
    "\n",
    "\n",
    "    L[i] = i+'\\n'"
   ]
  },
  {
   "cell_type": "code",
   "execution_count": 70,
   "id": "e4eb013d-ada4-4c18-b883-dc4bc86ecfed",
   "metadata": {},
   "outputs": [],
   "source": [
    "f = open('sample.txt','w')\n",
    "f.writelines(L) # effective way of writing lines into a file -> passing a list that contains sentences"
   ]
  },
  {
   "cell_type": "code",
   "execution_count": 71,
   "id": "20e7fe39-76c0-414d-be01-385a83a429b8",
   "metadata": {},
   "outputs": [
    {
     "name": "stdout",
     "output_type": "stream",
     "text": [
      "hello\n",
      "Hi\n",
      "weqwbrjq3bre\n",
      "\n"
     ]
    }
   ],
   "source": [
    "f.close()\n",
    "with open(\"sample.txt\") as f:\n",
    "    print(f.read())"
   ]
  },
  {
   "cell_type": "code",
   "execution_count": 44,
   "id": "5c3f51f8-f82b-4a2e-8d8b-21f9918354b2",
   "metadata": {},
   "outputs": [],
   "source": [
    "# WHY Do we do f.close()\n",
    "\n",
    "# since open() loads the file in memory, after your work has been done\n",
    "# you need to flush that file out of the meomory since the file can be of many more GBS\n",
    "# and the file stays there till garbage collector comes and removes it"
   ]
  },
  {
   "cell_type": "markdown",
   "id": "55fc4405-e843-4068-9be0-3c7597815e5e",
   "metadata": {},
   "source": [
    "### Reading from a File"
   ]
  },
  {
   "cell_type": "code",
   "execution_count": 45,
   "id": "1e9ca9a8-6a4f-4806-8496-de7c15c8e078",
   "metadata": {},
   "outputs": [
    {
     "name": "stdout",
     "output_type": "stream",
     "text": [
      "hello\n",
      "Hi\n",
      "weqwbrjq3bre\n",
      "\n"
     ]
    }
   ],
   "source": [
    "# Read : \n",
    "\n",
    "f = open('sample.txt','r') \n",
    "s= f.read()\n",
    "print(s)"
   ]
  },
  {
   "cell_type": "code",
   "execution_count": 46,
   "id": "bdc81962-18a0-45dd-ab13-c2249ca2ac11",
   "metadata": {},
   "outputs": [],
   "source": [
    "# NOTE : textual file understand noting but strings\n",
    "# numbers, set, list, dictionary -> all are string here\n"
   ]
  },
  {
   "cell_type": "code",
   "execution_count": 48,
   "id": "7eec81cf-3b32-4bbb-970a-03ffac6bfba1",
   "metadata": {},
   "outputs": [
    {
     "name": "stdout",
     "output_type": "stream",
     "text": [
      "hello\n",
      "Hi\n",
      "w\n"
     ]
    }
   ],
   "source": [
    "# Reading upto n chars\n",
    "\n",
    "f = open('sample.txt','r') \n",
    "s= f.read(10)\n",
    "print(s)\n",
    "f.close()"
   ]
  },
  {
   "cell_type": "code",
   "execution_count": 53,
   "id": "b3d40fd1-3d5d-4fc1-ab81-5fd72fcb2fbb",
   "metadata": {},
   "outputs": [
    {
     "name": "stdout",
     "output_type": "stream",
     "text": [
      "hello\n",
      "Hi\n"
     ]
    }
   ],
   "source": [
    "# readline() -> to read line by line :\n",
    "f = open('sample.txt','r') \n",
    "s= f.readline()\n",
    "print(s,end=\"\")\n",
    "s= f.readline()\n",
    "print(s,end=\"\")"
   ]
  },
  {
   "cell_type": "code",
   "execution_count": null,
   "id": "94c06fe9-4b7f-4910-b4e6-d27f759b0c58",
   "metadata": {},
   "outputs": [],
   "source": [
    "# when do you use readline and read\n",
    "\n",
    "# readline -> when file has lot of content and you do not want to load all the thing that the \n",
    "# file has into the memory \n",
    "# Therefore load line by line content into python\n",
    "\n",
    "# memory load optimization is the key\n",
    "\n",
    "\n",
    "# But how do i know how many time i have to use readline, that is\n",
    "# how do i know how many lines are inside the file : BELOW SOLUTION"
   ]
  },
  {
   "cell_type": "code",
   "execution_count": 95,
   "id": "4ce36d67-58eb-40a2-9e3a-54512e9767a3",
   "metadata": {},
   "outputs": [
    {
     "name": "stdout",
     "output_type": "stream",
     "text": [
      "hello\n",
      "Hi\n",
      "weqwbrjq3bre\n"
     ]
    }
   ],
   "source": [
    "# reading entire using readline\n",
    "f = open('sample.txt')\n",
    "lines = f.readline()\n",
    "\n",
    "while lines != \"\":\n",
    "    print(lines,end=\"\")\n",
    "    lines = f.readline()\n",
    "f.close()\n"
   ]
  },
  {
   "cell_type": "code",
   "execution_count": 96,
   "id": "2e0967ad-a23b-4b43-894c-2a5bda2bcb82",
   "metadata": {},
   "outputs": [
    {
     "name": "stdout",
     "output_type": "stream",
     "text": [
      "hello\n",
      "Hi\n",
      "weqwbrjq3bre\n",
      "\n"
     ]
    }
   ],
   "source": [
    "with open(\"sample.txt\") as f:\n",
    "    print(f.read())"
   ]
  },
  {
   "cell_type": "markdown",
   "id": "1c973c97-c9b9-47c7-bc15-c33ce238c063",
   "metadata": {},
   "source": [
    "### Using Context Manager (With) \n",
    "\n",
    "    * it's a good idea to close a file after usage as it will free up the resouces\n",
    "    * If we dont close it, garbage collector would close it\n",
    "    *  `with` keyword closes the file as soon as the usage is over "
   ]
  },
  {
   "cell_type": "code",
   "execution_count": 97,
   "id": "efaa5268-1f15-4d38-8d68-a7144bf86b94",
   "metadata": {},
   "outputs": [],
   "source": [
    "# with \n",
    "\n",
    "with open('sample.txt',\"w\") as f : \n",
    "    f.write('With keyword')\n",
    "\n",
    "\n",
    "# here with the with keyword the file closes automatically after the task has \n",
    "# been executed"
   ]
  },
  {
   "cell_type": "code",
   "execution_count": 98,
   "id": "65babd86-c17c-4bee-b210-0a54749c6c96",
   "metadata": {},
   "outputs": [
    {
     "name": "stdout",
     "output_type": "stream",
     "text": [
      "With keyword\n"
     ]
    }
   ],
   "source": [
    "# try f.read() now\n",
    "with open('sample.txt') as f:\n",
    "    print(f.read())"
   ]
  },
  {
   "cell_type": "code",
   "execution_count": 100,
   "id": "c0a63152-5c50-4444-826a-5de1ab3c496e",
   "metadata": {},
   "outputs": [
    {
     "name": "stdout",
     "output_type": "stream",
     "text": [
      "With \n",
      "keywo\n"
     ]
    }
   ],
   "source": [
    "# moving within a file -> 10 char then 10 char\n",
    "\n",
    "with open('sample.txt') as f : \n",
    "    print(f.read(5))\n",
    "    print(f.read(5))"
   ]
  },
  {
   "cell_type": "markdown",
   "id": "ab5faf58-5880-4c7c-b8e2-ebeae75fd4cb",
   "metadata": {},
   "source": [
    "###\n",
    "Here what happends is that there is a buffer that tracks all the time, that how many characters has been processed.\n",
    "\n",
    "Advantage/Use of this technique : \n",
    "\n",
    "    * IF there is a big file, you need not load the entire file at one go. You can load the file in chunks."
   ]
  },
  {
   "cell_type": "code",
   "execution_count": 101,
   "id": "7180c1a2-e1c2-4de6-985d-dd577a3e7c6e",
   "metadata": {},
   "outputs": [],
   "source": [
    "big_L = ['hello world' for i in range(1000)]"
   ]
  },
  {
   "cell_type": "code",
   "execution_count": 103,
   "id": "44cb5e13-cab9-4ed6-9690-dba9331856b5",
   "metadata": {},
   "outputs": [],
   "source": [
    "with open('bigtext.txt','w') as f : \n",
    "    f.writelines(big_L)"
   ]
  },
  {
   "cell_type": "code",
   "execution_count": 111,
   "id": "dcae4e45-039a-4b3c-8b2d-e7bed7cbf993",
   "metadata": {},
   "outputs": [
    {
     "ename": "SyntaxError",
     "evalue": "incomplete input (1134889255.py, line 8)",
     "output_type": "error",
     "traceback": [
      "\u001b[0;36m  Cell \u001b[0;32mIn[111], line 8\u001b[0;36m\u001b[0m\n\u001b[0;31m    \u001b[0m\n\u001b[0m    ^\u001b[0m\n\u001b[0;31mSyntaxError\u001b[0m\u001b[0;31m:\u001b[0m incomplete input\n"
     ]
    }
   ],
   "source": [
    "# now load this file in chunks\n",
    "\n",
    "with open('bigtext.txt','r') as f : \n",
    "    chunk = 100\n",
    "\n",
    "    while len(f.read(chunk)) > 0 : # while the current chunk is not exhausted\n",
    "        #print(f.read(chunk)) # print the current chunck\n",
    "      "
   ]
  },
  {
   "cell_type": "code",
   "execution_count": 113,
   "id": "c46716db-c7f9-4dee-8ec5-31e00035c115",
   "metadata": {},
   "outputs": [
    {
     "name": "stdout",
     "output_type": "stream",
     "text": [
      "With keywo\n",
      "10\n"
     ]
    }
   ],
   "source": [
    "# seek and tell function \n",
    "\n",
    "with open('sample.txt') as f : \n",
    "    print(f.read(10))\n",
    "    print(f.tell())\n",
    "# NOTE : whitespaces are being counted in the buffer\n",
    "\n",
    "# tell -> Tells you the location of your buffer\n",
    "# f.read(10) -> prints the content from 0 to 9 and then\n",
    "# f.tell() tells me the current position of my buffer which is 10"
   ]
  },
  {
   "cell_type": "code",
   "execution_count": 119,
   "id": "e8d6a155-d1ec-4001-a4cb-6782ab8bb35b",
   "metadata": {},
   "outputs": [
    {
     "name": "stdout",
     "output_type": "stream",
     "text": [
      "With keywo\n",
      "10\n",
      "0\n",
      "With keywo\n"
     ]
    }
   ],
   "source": [
    "with open('sample.txt') as f : \n",
    "    print(f.read(10))\n",
    "    print(f.tell())\n",
    "    f.seek(0) # (seek changes the location of the buffer to your desired location\n",
    "    print(f.tell())\n",
    "    print(f.read(10))"
   ]
  },
  {
   "cell_type": "code",
   "execution_count": 127,
   "id": "2657f680-5005-42c9-b744-046ca5d2ee3b",
   "metadata": {},
   "outputs": [],
   "source": [
    "# seek with write\n",
    "with open('sample.txt','w') as f : \n",
    "    f.write(\"Hello\")\n",
    "    f.seek(0)\n",
    "    f.write('Xa')\n",
    " "
   ]
  },
  {
   "cell_type": "code",
   "execution_count": 128,
   "id": "941ef3cc-2fa7-49fa-8f31-706aad6feb1b",
   "metadata": {},
   "outputs": [
    {
     "name": "stdout",
     "output_type": "stream",
     "text": [
      "Xallo\n"
     ]
    }
   ],
   "source": [
    "with open('sample.txt','r') as f : \n",
    "    print(f.read())\n"
   ]
  },
  {
   "cell_type": "code",
   "execution_count": null,
   "id": "7219688f-35a4-42c2-8d1f-e563c79f9f1d",
   "metadata": {},
   "outputs": [],
   "source": []
  },
  {
   "cell_type": "markdown",
   "id": "dd4cb887-79d1-42b9-b422-ce9e133d67b9",
   "metadata": {},
   "source": [
    "### Problems with working in text mode\n",
    "\n",
    "    * Can't work with binary files like image\n",
    "    * Not good for other data types like int/float/list/tuples"
   ]
  },
  {
   "cell_type": "code",
   "execution_count": 134,
   "id": "3d82e8d2-b742-4dba-bfc8-4d61d7a351ab",
   "metadata": {},
   "outputs": [
    {
     "ename": "UnicodeDecodeError",
     "evalue": "'utf-8' codec can't decode byte 0x89 in position 0: invalid start byte",
     "output_type": "error",
     "traceback": [
      "\u001b[0;31m---------------------------------------------------------------------------\u001b[0m",
      "\u001b[0;31mUnicodeDecodeError\u001b[0m                        Traceback (most recent call last)",
      "Cell \u001b[0;32mIn[134], line 4\u001b[0m\n\u001b[1;32m      1\u001b[0m \u001b[38;5;66;03m# working with binary file\u001b[39;00m\n\u001b[1;32m      3\u001b[0m \u001b[38;5;28;01mwith\u001b[39;00m \u001b[38;5;28mopen\u001b[39m(\u001b[38;5;124m'\u001b[39m\u001b[38;5;124msample_image.png\u001b[39m\u001b[38;5;124m'\u001b[39m,\u001b[38;5;124m\"\u001b[39m\u001b[38;5;124mr\u001b[39m\u001b[38;5;124m\"\u001b[39m) \u001b[38;5;28;01mas\u001b[39;00m f : \n\u001b[0;32m----> 4\u001b[0m     \u001b[38;5;28mprint\u001b[39m(\u001b[43mf\u001b[49m\u001b[38;5;241;43m.\u001b[39;49m\u001b[43mread\u001b[49m\u001b[43m(\u001b[49m\u001b[43m)\u001b[49m)\n",
      "File \u001b[0;32m<frozen codecs>:322\u001b[0m, in \u001b[0;36mdecode\u001b[0;34m(self, input, final)\u001b[0m\n",
      "\u001b[0;31mUnicodeDecodeError\u001b[0m: 'utf-8' codec can't decode byte 0x89 in position 0: invalid start byte"
     ]
    }
   ],
   "source": [
    "# working with binary file\n",
    "\n",
    "with open('sample_image.png',\"r\") as f : \n",
    "    print(f.read())"
   ]
  },
  {
   "cell_type": "code",
   "execution_count": 135,
   "id": "01449415-dcf8-4580-8696-e051f52bdc7a",
   "metadata": {},
   "outputs": [],
   "source": [
    "# since the file is binary and the the open() in python uses utf-8 encoding to read the file and is not \n",
    "#able to decode this file\n",
    "\n",
    "\n",
    "# solution \n",
    "\n",
    "with open('sample_image.png',\"rb\") as f : \n",
    "    with open('sample_imageCOPY.png','wb') as wf : \n",
    "        wf.write(f.read())\n",
    "\n",
    "\n",
    "# here the mode has to be read binary and write binary mode rd and md"
   ]
  },
  {
   "cell_type": "code",
   "execution_count": 137,
   "id": "64c2f51f-de88-4a5e-a214-06596821f073",
   "metadata": {},
   "outputs": [
    {
     "ename": "TypeError",
     "evalue": "write() argument must be str, not int",
     "output_type": "error",
     "traceback": [
      "\u001b[0;31m---------------------------------------------------------------------------\u001b[0m",
      "\u001b[0;31mTypeError\u001b[0m                                 Traceback (most recent call last)",
      "Cell \u001b[0;32mIn[137], line 4\u001b[0m\n\u001b[1;32m      1\u001b[0m \u001b[38;5;66;03m# working with other data types\u001b[39;00m\n\u001b[1;32m      3\u001b[0m \u001b[38;5;28;01mwith\u001b[39;00m \u001b[38;5;28mopen\u001b[39m(\u001b[38;5;124m'\u001b[39m\u001b[38;5;124msample.txt\u001b[39m\u001b[38;5;124m'\u001b[39m,\u001b[38;5;124m'\u001b[39m\u001b[38;5;124mw\u001b[39m\u001b[38;5;124m'\u001b[39m) \u001b[38;5;28;01mas\u001b[39;00m f : \n\u001b[0;32m----> 4\u001b[0m     \u001b[43mf\u001b[49m\u001b[38;5;241;43m.\u001b[39;49m\u001b[43mwrite\u001b[49m\u001b[43m(\u001b[49m\u001b[38;5;241;43m2\u001b[39;49m\u001b[43m)\u001b[49m\n",
      "\u001b[0;31mTypeError\u001b[0m: write() argument must be str, not int"
     ]
    }
   ],
   "source": [
    "# working with other data types\n",
    "\n",
    "with open('sample.txt','w') as f : \n",
    "    f.write(2)"
   ]
  },
  {
   "cell_type": "code",
   "execution_count": 138,
   "id": "b21c06e6-8dd3-43b3-a146-0d14e8b51997",
   "metadata": {},
   "outputs": [],
   "source": [
    "with open('sample.txt','w') as f : \n",
    "    f.write('2')\n",
    "# you have to put it as string -> no other data type is allowed"
   ]
  },
  {
   "cell_type": "code",
   "execution_count": 140,
   "id": "7002aabc-638e-4e4c-892c-558280b6693b",
   "metadata": {},
   "outputs": [
    {
     "name": "stdout",
     "output_type": "stream",
     "text": [
      "4\n"
     ]
    }
   ],
   "source": [
    "with open('sample.txt','r') as f : \n",
    "    print(int(f.read())+2)\n",
    "# have to use typeconversion"
   ]
  },
  {
   "cell_type": "code",
   "execution_count": 141,
   "id": "21f311cd-9d38-4964-ac58-506a30793273",
   "metadata": {},
   "outputs": [
    {
     "ename": "TypeError",
     "evalue": "write() argument must be str, not dict",
     "output_type": "error",
     "traceback": [
      "\u001b[0;31m---------------------------------------------------------------------------\u001b[0m",
      "\u001b[0;31mTypeError\u001b[0m                                 Traceback (most recent call last)",
      "Cell \u001b[0;32mIn[141], line 9\u001b[0m\n\u001b[1;32m      3\u001b[0m d \u001b[38;5;241m=\u001b[39m {\n\u001b[1;32m      4\u001b[0m     \u001b[38;5;124m\"\u001b[39m\u001b[38;5;124mname\u001b[39m\u001b[38;5;124m\"\u001b[39m : \u001b[38;5;124m\"\u001b[39m\u001b[38;5;124mnitish\u001b[39m\u001b[38;5;124m\"\u001b[39m,\n\u001b[1;32m      5\u001b[0m     \u001b[38;5;124m\"\u001b[39m\u001b[38;5;124mgender\u001b[39m\u001b[38;5;124m\"\u001b[39m : \u001b[38;5;124m\"\u001b[39m\u001b[38;5;124mmale\u001b[39m\u001b[38;5;124m\"\u001b[39m\n\u001b[1;32m      6\u001b[0m }\n\u001b[1;32m      8\u001b[0m \u001b[38;5;28;01mwith\u001b[39;00m \u001b[38;5;28mopen\u001b[39m(\u001b[38;5;124m'\u001b[39m\u001b[38;5;124msample.txt\u001b[39m\u001b[38;5;124m'\u001b[39m,\u001b[38;5;124m'\u001b[39m\u001b[38;5;124mw\u001b[39m\u001b[38;5;124m'\u001b[39m) \u001b[38;5;28;01mas\u001b[39;00m f : \n\u001b[0;32m----> 9\u001b[0m     \u001b[43mf\u001b[49m\u001b[38;5;241;43m.\u001b[39;49m\u001b[43mwrite\u001b[49m\u001b[43m(\u001b[49m\u001b[43md\u001b[49m\u001b[43m)\u001b[49m\n",
      "\u001b[0;31mTypeError\u001b[0m: write() argument must be str, not dict"
     ]
    }
   ],
   "source": [
    "# more complex datatype\n",
    "\n",
    "d = {\n",
    "    \"name\" : \"nitish\",\n",
    "    \"gender\" : \"male\"\n",
    "}\n",
    "\n",
    "with open('sample.txt','w') as f : \n",
    "    f.write(d)"
   ]
  },
  {
   "cell_type": "code",
   "execution_count": 144,
   "id": "7a2a51fb-45c2-459c-82f7-69fa83236c73",
   "metadata": {},
   "outputs": [],
   "source": [
    "with open('sample.txt','w') as f : \n",
    "    f.write(str(d))\n",
    "\n",
    "# have to convert it to String"
   ]
  },
  {
   "cell_type": "code",
   "execution_count": 145,
   "id": "1844f214-618d-43b4-9e49-6b851b625270",
   "metadata": {},
   "outputs": [
    {
     "name": "stdout",
     "output_type": "stream",
     "text": [
      "{'name': 'nitish', 'gender': 'male'}\n"
     ]
    }
   ],
   "source": [
    "with open('sample.txt') as f : \n",
    "    print(f.read())"
   ]
  },
  {
   "cell_type": "code",
   "execution_count": 146,
   "id": "96794481-17e9-4911-ba20-b09b48e1b685",
   "metadata": {},
   "outputs": [
    {
     "ename": "ValueError",
     "evalue": "dictionary update sequence element #0 has length 1; 2 is required",
     "output_type": "error",
     "traceback": [
      "\u001b[0;31m---------------------------------------------------------------------------\u001b[0m",
      "\u001b[0;31mValueError\u001b[0m                                Traceback (most recent call last)",
      "Cell \u001b[0;32mIn[146], line 2\u001b[0m\n\u001b[1;32m      1\u001b[0m \u001b[38;5;28;01mwith\u001b[39;00m \u001b[38;5;28mopen\u001b[39m(\u001b[38;5;124m'\u001b[39m\u001b[38;5;124msample.txt\u001b[39m\u001b[38;5;124m'\u001b[39m) \u001b[38;5;28;01mas\u001b[39;00m f : \n\u001b[0;32m----> 2\u001b[0m     \u001b[38;5;28mprint\u001b[39m(\u001b[38;5;28;43mdict\u001b[39;49m\u001b[43m(\u001b[49m\u001b[43mf\u001b[49m\u001b[38;5;241;43m.\u001b[39;49m\u001b[43mread\u001b[49m\u001b[43m(\u001b[49m\u001b[43m)\u001b[49m\u001b[43m)\u001b[49m)\n",
      "\u001b[0;31mValueError\u001b[0m: dictionary update sequence element #0 has length 1; 2 is required"
     ]
    }
   ],
   "source": [
    "with open('sample.txt') as f : \n",
    "    print(dict(f.read()))"
   ]
  },
  {
   "cell_type": "code",
   "execution_count": 147,
   "id": "6906ec94-795c-454c-ae2b-573ba4ecb799",
   "metadata": {},
   "outputs": [],
   "source": [
    "# This is to show that once you enter a dictionary to a file, you will not get\n",
    "# dictionary back\n",
    "# complex datatype cannot be stored in a .txt file"
   ]
  },
  {
   "cell_type": "code",
   "execution_count": null,
   "id": "78edc5ec-2da7-4a49-b319-c9ff35caff51",
   "metadata": {},
   "outputs": [],
   "source": []
  },
  {
   "cell_type": "markdown",
   "id": "552ffe87-c63a-4a7d-95c8-b3c72497765d",
   "metadata": {},
   "source": [
    "### Serialization and Deserialization \n",
    "\n",
    "* Serialization  : process of ocnverting python data types to JSON format\n",
    "* Deserialization : process of converting JSON to python data types"
   ]
  },
  {
   "cell_type": "markdown",
   "id": "7103528c-5cf9-4e56-8dbc-19924c700a13",
   "metadata": {},
   "source": [
    "### What is JSON ? \n",
    "\n",
    "    * JSON - JavaScript On Notation\n",
    "    * It is universal data format\n",
    "    * Every API Uses Json\n",
    "    * Understood by all programming languages\n",
    "    * just like python dictionary "
   ]
  },
  {
   "cell_type": "code",
   "execution_count": 152,
   "id": "19608041-a95b-4d38-a978-88bddee9e70c",
   "metadata": {},
   "outputs": [],
   "source": [
    "# serialization using json module\n",
    "\n",
    "# list\n",
    "import json\n",
    "\n",
    "L = [1,2,3,4]\n",
    "\n",
    "with open('sampleJ.json','w') as f:\n",
    "    json.dump(L,f)"
   ]
  },
  {
   "cell_type": "code",
   "execution_count": 153,
   "id": "0f799cbb-914e-4827-902b-7a1aa4fb43ea",
   "metadata": {},
   "outputs": [
    {
     "name": "stdout",
     "output_type": "stream",
     "text": [
      "[1, 2, 3, 4]\n"
     ]
    }
   ],
   "source": [
    "with open('sampleJ.json','r') as f:\n",
    "    print(f.read())"
   ]
  },
  {
   "cell_type": "code",
   "execution_count": 160,
   "id": "3f553bfc-6f9a-4cb5-acd8-80dd60665560",
   "metadata": {},
   "outputs": [
    {
     "name": "stdout",
     "output_type": "stream",
     "text": [
      "{\n",
      "    \"name\": \"nitish\",\n",
      "    \"gender\": \"male\"\n",
      "}\n"
     ]
    }
   ],
   "source": [
    "# dictionary \n",
    "\n",
    "d = {\n",
    "    \"name\" : \"nitish\",\n",
    "    \"gender\" : \"male\"\n",
    "}\n",
    "\n",
    "with open('sampleJ.json','w') as f:\n",
    "    json.dump(d,f,indent = 4)\n",
    "# indent = 4 since normal tab is 4 spaces\n",
    "\n",
    "with open('sampleJ.json','r') as f:\n",
    "    print(f.read())"
   ]
  },
  {
   "cell_type": "code",
   "execution_count": 163,
   "id": "1658acb9-132c-4200-a31e-3f62611e083a",
   "metadata": {},
   "outputs": [
    {
     "name": "stdout",
     "output_type": "stream",
     "text": [
      "{'name': 'nitish', 'gender': 'male'}\n",
      "<class 'dict'>\n"
     ]
    }
   ],
   "source": [
    "# Deserialization \n",
    "\n",
    "import json \n",
    "\n",
    "with open('sampleJ.json','r') as f:\n",
    "    er = json.load(f)\n",
    "    print(er)\n",
    "    print(type(er))\n",
    "    "
   ]
  },
  {
   "cell_type": "code",
   "execution_count": 159,
   "id": "136933e1-6263-40fd-b14c-c4eaf7ce304a",
   "metadata": {},
   "outputs": [
    {
     "data": {
      "text/plain": [
       "{'name': 'nitish', 'gender': 'male'}"
      ]
     },
     "execution_count": 159,
     "metadata": {},
     "output_type": "execute_result"
    }
   ],
   "source": []
  },
  {
   "cell_type": "code",
   "execution_count": null,
   "id": "d13d4373-4834-4cb1-9a95-e418077a388a",
   "metadata": {},
   "outputs": [],
   "source": []
  },
  {
   "cell_type": "markdown",
   "id": "593e2b3f-e223-4edd-a233-6a5c29fbdfe8",
   "metadata": {},
   "source": [
    "### Tuple"
   ]
  },
  {
   "cell_type": "code",
   "execution_count": 166,
   "id": "e9398218-e7a0-4bfe-af17-7f42a8179bc6",
   "metadata": {},
   "outputs": [
    {
     "name": "stdout",
     "output_type": "stream",
     "text": [
      "[\n",
      "    1,\n",
      "    23,\n",
      "    34,\n",
      "    34,\n",
      "    23\n",
      "]\n"
     ]
    }
   ],
   "source": [
    "# serialize and deserialize tuple\n",
    "\n",
    "import json\n",
    "\n",
    "t = (1,23,34,34,23)\n",
    "\n",
    "with open('sample1.txt',\"w\") as f :\n",
    "    json.dump(t,f,indent=4)\n",
    "\n",
    "with open('sample1.txt',\"r\") as f :\n",
    "    print(f.read())\n",
    "\n",
    "\n",
    "# You can see that i am getting LIST here when i dumped a tuple\n",
    "# same is applicable for deserialize"
   ]
  },
  {
   "cell_type": "markdown",
   "id": "01c00d69-9e62-4f24-9af0-050cd6f310dc",
   "metadata": {},
   "source": [
    "The reason you're getting a list when you dump a tuple using json.dump() in Python is because JSON does not have a native representation for tuples. Instead, JSON represents sequences (ordered collections of elements) as arrays, which are similar to Python lists."
   ]
  },
  {
   "cell_type": "code",
   "execution_count": 168,
   "id": "50dd5347-6473-48ba-be80-8590ddc16b20",
   "metadata": {},
   "outputs": [
    {
     "name": "stdout",
     "output_type": "stream",
     "text": [
      "{'student': ['Abhishek', 'Raju']}\n",
      "<class 'dict'>\n"
     ]
    }
   ],
   "source": [
    "# serialise and desearlise nested dict\n",
    "\n",
    "d = {\n",
    "    \"student\" : [\"Abhishek\",\"Raju\"]\n",
    "}\n",
    "\n",
    "with open(\"sample.txt\",\"w\") as f:\n",
    "    json.dump(d,f,indent = 4)\n",
    "with open(\"sample.txt\") as f : \n",
    "    e = json.load(f)\n",
    "    print(e)\n",
    "    print(type(e))"
   ]
  },
  {
   "cell_type": "markdown",
   "id": "bce9faee-5b8f-4f17-af30-5868201564a9",
   "metadata": {},
   "source": [
    "### Serialise and Deserialising a custom object"
   ]
  },
  {
   "cell_type": "code",
   "execution_count": 173,
   "id": "22924e26-b4f0-4019-9593-f391001de8cb",
   "metadata": {},
   "outputs": [],
   "source": [
    "class Person:\n",
    "    def __init__(self,fname,lname):\n",
    "        self.fname = fname\n",
    "        self.lname = lname\n",
    "        "
   ]
  },
  {
   "cell_type": "code",
   "execution_count": 174,
   "id": "d0626dbc-cb90-48e6-bd52-596bc26a054d",
   "metadata": {},
   "outputs": [],
   "source": [
    "per = Person(\"Abhishek\",\"Singh\")"
   ]
  },
  {
   "cell_type": "code",
   "execution_count": 176,
   "id": "b86a58cd-ad3b-4241-a325-0e6b7681242c",
   "metadata": {},
   "outputs": [],
   "source": [
    "# AS a string\n",
    "\n",
    "import json\n",
    "\n",
    "#with open('sample.txt',\"w\") as f : \n",
    " #   json.dump(per,f,indent = 4)\n",
    "\n",
    "\n",
    "# Error : Object of type Person is not JSON serializable : TYPEERROR"
   ]
  },
  {
   "cell_type": "code",
   "execution_count": 180,
   "id": "c83045a7-f1cb-4d4f-972b-0d84ab5f5ce0",
   "metadata": {},
   "outputs": [],
   "source": [
    "# You have to tell python how your object is serialisable\n",
    "\n",
    "def show_object(person):\n",
    "    if isinstance(person,Person):\n",
    "        return f\"  {person.fname} {person.lname} done \"\n",
    "        # or\n",
    "        # return \" {} {} done\".format(person.fname, person.lname)\n",
    "\n",
    "# Now i have to tell json, which method it should follow to print my custom object\n",
    "\n",
    "import json\n",
    "\n",
    "with open('sample.txt',\"w\") as f : \n",
    "    json.dump(per,f,indent = 4,default = show_object)\n"
   ]
  },
  {
   "cell_type": "code",
   "execution_count": 181,
   "id": "f842d216-7e2f-4704-892c-2dff3c5e9d64",
   "metadata": {},
   "outputs": [
    {
     "name": "stdout",
     "output_type": "stream",
     "text": [
      "\"  Abhishek Singh done \"\n"
     ]
    }
   ],
   "source": [
    "with open('sample.txt') as f : \n",
    "    print(f.read())"
   ]
  },
  {
   "cell_type": "code",
   "execution_count": 184,
   "id": "96dd1b2e-91d1-4756-adf5-0d52abf3de9d",
   "metadata": {},
   "outputs": [],
   "source": [
    "# serilising as a dictionary\n",
    "\n",
    "def show_object(person):\n",
    "    if isinstance(person,Person):\n",
    "        return {\"name\": person.fname + \"    \",\n",
    "                \"lastname\" : person.lname}\n",
    "\n",
    "\n",
    "import json\n",
    "\n",
    "with open('sample.txt',\"w\") as f : \n",
    "    json.dump(per,f,indent = 4,default = show_object)\n"
   ]
  },
  {
   "cell_type": "code",
   "execution_count": 188,
   "id": "bc26fb4f-1b22-4dc7-ba0e-24e654da6777",
   "metadata": {},
   "outputs": [
    {
     "name": "stdout",
     "output_type": "stream",
     "text": [
      "<class 'dict'>\n",
      "{'name': 'Abhishek    ', 'lastname': 'Singh'}\n"
     ]
    }
   ],
   "source": [
    "with open('sample.txt') as f : \n",
    "    e = json.load(f)\n",
    "    print(type(e))\n",
    "    print(e)"
   ]
  },
  {
   "cell_type": "markdown",
   "id": "981072d9-95e6-444d-bc53-ceab3c7ad4ac",
   "metadata": {},
   "source": [
    "##### What if i want to pick the object and then put it in a different file and there use it as it is there also as it was working in its own file\n",
    "\n",
    "##### Mainly Converting the object to Binary ----> Pickling"
   ]
  },
  {
   "cell_type": "markdown",
   "id": "15b0cdd1-d40d-4cb0-b586-f6e73d7a9bb6",
   "metadata": {},
   "source": [
    "### Pickling\n",
    "\n",
    "`pickling` is the process whereby a Python object hierarchy is converted into a byte stream and `unpickling` is the inverse operation whereby a byte stream (from a binary file or bytes like object) is converted back into an obejct hierarchy."
   ]
  },
  {
   "cell_type": "code",
   "execution_count": 200,
   "id": "888c68a6-01e0-4c6d-a766-bd584abece84",
   "metadata": {},
   "outputs": [],
   "source": [
    "class Person : \n",
    "\n",
    "    def __init__(self,name,age):\n",
    "        self.name = name\n",
    "        self.age = age\n",
    "\n",
    "    def display(self):\n",
    "        print(\"My name is \", self.name, \"and i am \", self.age, \"years old\")"
   ]
  },
  {
   "cell_type": "code",
   "execution_count": 201,
   "id": "c9ecbe4b-63f0-4b90-9764-49d24f53f5ad",
   "metadata": {},
   "outputs": [],
   "source": [
    "p = Person(\"Abhishek\",23)"
   ]
  },
  {
   "cell_type": "code",
   "execution_count": 202,
   "id": "1217e1e2-eba2-44fc-8bf0-75ed57fdc9f3",
   "metadata": {},
   "outputs": [],
   "source": [
    "# pickle dump\n",
    "import pickle\n",
    "\n",
    "with open('parse.pkl','wb') as f : \n",
    "    pickle.dump(p,f)\n",
    "\n",
    "# since we are writing an object therefore we will use the wb mode"
   ]
  },
  {
   "cell_type": "code",
   "execution_count": null,
   "id": "9805d647-3c34-4a0c-a269-6ac63f05f30b",
   "metadata": {},
   "outputs": [],
   "source": []
  },
  {
   "cell_type": "code",
   "execution_count": 203,
   "id": "5fbf99ee-9a1a-4f52-98ac-8a76646fb9e5",
   "metadata": {},
   "outputs": [
    {
     "data": {
      "text/plain": [
       "__main__.Person"
      ]
     },
     "execution_count": 203,
     "metadata": {},
     "output_type": "execute_result"
    }
   ],
   "source": [
    "\n",
    "import pickle\n",
    "\n",
    "with open('parse.pkl','rb') as f : \n",
    "    newr = pickle.load(f)\n",
    "\n",
    "type(newr)\n",
    "\n",
    "\n",
    "# to use this pkl file in another machine -> you need to have the __main__ method\n",
    "# in your class"
   ]
  },
  {
   "cell_type": "code",
   "execution_count": 204,
   "id": "08fc6040-ab5f-4c7b-8c32-7be30032cdc3",
   "metadata": {},
   "outputs": [
    {
     "name": "stdout",
     "output_type": "stream",
     "text": [
      "My name is  Abhishek and i am  23 years old\n"
     ]
    }
   ],
   "source": [
    "newr.display()"
   ]
  },
  {
   "cell_type": "code",
   "execution_count": null,
   "id": "f60b86ab-25c5-47fc-af50-5bd9eaacbc04",
   "metadata": {},
   "outputs": [],
   "source": []
  },
  {
   "cell_type": "markdown",
   "id": "b1577858-1970-4b49-9038-752909183f53",
   "metadata": {},
   "source": [
    "### Interview Question on JSON VS Pickle\n",
    "\n",
    "\n",
    "Question. Both pickle and json are used for serialisation and deserialisation \n",
    "then what do you use ? \n",
    "\n",
    "Answer. Pickle lets the user to store data in bianry format.\n",
    "\n",
    "Json lets the user store the data in human readable format.\n",
    "\n",
    "\n",
    "\n",
    "ALSO : When you want to retain the object's functionality and send it to another file then you use pickle. that is why in machine learning model -> trained on one machine and run on the another -> need of serialisation and deserialisation on another machine ****\n"
   ]
  },
  {
   "cell_type": "code",
   "execution_count": null,
   "id": "8912c437-1f2b-4a87-af85-b814ce431d11",
   "metadata": {},
   "outputs": [],
   "source": []
  },
  {
   "cell_type": "markdown",
   "id": "cf652a51-4882-47d3-8afb-6d24420ad894",
   "metadata": {},
   "source": [
    "### Recursion "
   ]
  },
  {
   "cell_type": "code",
   "execution_count": 210,
   "id": "e017ca19-c594-47b1-9752-1c2ef8cc4429",
   "metadata": {},
   "outputs": [],
   "source": [
    "# Multiplication program \n",
    "\n",
    "# multiplication is just repeated addition\n",
    "\n",
    "# 5 * 4 = 5+5+5+5 = 20"
   ]
  },
  {
   "cell_type": "code",
   "execution_count": 211,
   "id": "b4c88a9d-9ee5-49f6-9efb-d23192840bfc",
   "metadata": {},
   "outputs": [],
   "source": [
    "def multi(a,b):\n",
    "    result = 0\n",
    "    for i in range (b):\n",
    "        result = result + a\n",
    "    print(result)"
   ]
  },
  {
   "cell_type": "code",
   "execution_count": 214,
   "id": "ac6a50ad-6281-4003-94c0-699066a0b036",
   "metadata": {},
   "outputs": [
    {
     "name": "stdout",
     "output_type": "stream",
     "text": [
      "20\n",
      "20\n"
     ]
    },
    {
     "data": {
      "text/plain": [
       "[None, None]"
      ]
     },
     "execution_count": 214,
     "metadata": {},
     "output_type": "execute_result"
    }
   ],
   "source": [
    "[multi(5,4),multi(10,2)]"
   ]
  },
  {
   "cell_type": "code",
   "execution_count": 226,
   "id": "193863da-ff89-4472-8d5a-33615bb80dab",
   "metadata": {},
   "outputs": [],
   "source": [
    "# recursion solution \n",
    "\n",
    "\n",
    "# in recursion you have to know the base case -> whose value which you know\n",
    "# for sure\n",
    "\n",
    "# 5*4 = 5+5+5+5\n",
    "# 5 + 5 + 2*5 or\n",
    "# 5+5+5+5*1 or -> base case if b = 1 -> a*b = a\n",
    "\n",
    "\n",
    "def mulr(a,b):\n",
    "    if b ==1:\n",
    "        return a\n",
    "    else : \n",
    "        return a + mulr(a,b-1)\n",
    "\n"
   ]
  },
  {
   "cell_type": "code",
   "execution_count": 227,
   "id": "8b4a2128-5caa-4672-a78e-48a845cb4a6d",
   "metadata": {
    "scrolled": true
   },
   "outputs": [
    {
     "data": {
      "text/plain": [
       "20"
      ]
     },
     "execution_count": 227,
     "metadata": {},
     "output_type": "execute_result"
    }
   ],
   "source": [
    "mulr(5,4)"
   ]
  },
  {
   "cell_type": "code",
   "execution_count": 228,
   "id": "9aa1de35-810c-4d4f-8162-5ef716ef31a8",
   "metadata": {},
   "outputs": [],
   "source": [
    "# recursion is like stack -> first executed funtion will be out at last"
   ]
  },
  {
   "cell_type": "code",
   "execution_count": 229,
   "id": "d17df917-43fc-44c7-a4a6-33844609528d",
   "metadata": {},
   "outputs": [],
   "source": [
    "# factorial with recursion \n",
    "\n",
    "# 5! = 5*4!\n",
    "\n",
    "\n",
    "def fact(n):\n",
    "    if n == 1 :\n",
    "        return 1\n",
    "    else : \n",
    "        return n * fact(n-1)"
   ]
  },
  {
   "cell_type": "code",
   "execution_count": 230,
   "id": "988e45fc-5628-4cbe-bf9e-cc43b4dc001e",
   "metadata": {},
   "outputs": [
    {
     "data": {
      "text/plain": [
       "120"
      ]
     },
     "execution_count": 230,
     "metadata": {},
     "output_type": "execute_result"
    }
   ],
   "source": [
    "fact(5)"
   ]
  },
  {
   "cell_type": "code",
   "execution_count": 234,
   "id": "ab5f8e12-310e-4836-9fe4-79c167ee7cb6",
   "metadata": {},
   "outputs": [
    {
     "name": "stdout",
     "output_type": "stream",
     "text": [
      "This is a palindrome\n",
      "None\n"
     ]
    }
   ],
   "source": [
    "# palindrome\n",
    "\n",
    "# steps to approach/ solve a problem using recursion \n",
    "\n",
    "# 1. Find a base condition\n",
    "    # base condition is something jiska answer apko phele se paata hai\n",
    "# Here, base condition : \n",
    "# any string which has one char is palindrome\n",
    "# draw screenshot\n",
    "\n",
    "\n",
    "\n",
    "def pali(strings):\n",
    "    if len(strings) <= 1 : # to take into consideration even if the strings len = even\n",
    "        return print(\"This is a palindrome\")\n",
    "    else : \n",
    "        if strings[0] == strings[-1] : \n",
    "            pali(strings[1:-1])\n",
    "        else:\n",
    "            return print(\"Not a pali\")\n",
    "\n",
    "print(pali(\"malayalam\"))\n",
    "    "
   ]
  },
  {
   "cell_type": "code",
   "execution_count": null,
   "id": "32a506fb-d6f3-42be-80b9-5d8b6bea7cd8",
   "metadata": {},
   "outputs": [],
   "source": [
    "# Fibonnaci = rabit problem = same\n",
    "# screenshot for question \n",
    "\n"
   ]
  },
  {
   "cell_type": "code",
   "execution_count": 238,
   "id": "a04003b8-5262-41f2-bb07-94018df4eec4",
   "metadata": {},
   "outputs": [],
   "source": [
    "def fib(n):\n",
    "    if n == 0 or n ==1 : \n",
    "        return 1\n",
    "    else : \n",
    "        return fib(n-1) + fib(n-2)\n",
    "\n",
    "\n",
    "# this code has non linear behavior\n",
    "# very inefficient problem - > screenshot pyramid diagram -> 2^n time complexity"
   ]
  },
  {
   "cell_type": "code",
   "execution_count": 239,
   "id": "9e387911-7878-49b9-b964-5121bf390fe5",
   "metadata": {},
   "outputs": [
    {
     "name": "stdout",
     "output_type": "stream",
     "text": [
      "233\n"
     ]
    }
   ],
   "source": [
    "print(fib(12))"
   ]
  },
  {
   "cell_type": "code",
   "execution_count": 248,
   "id": "f65f459b-e651-4bac-a9fc-0f9b68479487",
   "metadata": {},
   "outputs": [
    {
     "data": {
      "text/plain": [
       "7778742049"
      ]
     },
     "execution_count": 248,
     "metadata": {},
     "output_type": "execute_result"
    }
   ],
   "source": [
    "# solution : \n",
    "# Not solving problem again and again \n",
    "\n",
    "# using memoization -> save some fib(2,...) data\n",
    "# same time trade off\n",
    "\n",
    "def memo(n,d):\n",
    "\n",
    "    if n in d : \n",
    "        return d[n]\n",
    "    else : \n",
    "        d[n] = memo(n-1,d) + memo(n-2,d)\n",
    "        return d[n]\n",
    "d = {0:1,1:1}\n",
    "memo(48,d)\n",
    "    "
   ]
  },
  {
   "cell_type": "code",
   "execution_count": 249,
   "id": "6ec9ae0b-c48b-4dff-89d7-4a0861033c5c",
   "metadata": {},
   "outputs": [
    {
     "data": {
      "text/plain": [
       "{0: 1,\n",
       " 1: 1,\n",
       " 2: 2,\n",
       " 3: 3,\n",
       " 4: 5,\n",
       " 5: 8,\n",
       " 6: 13,\n",
       " 7: 21,\n",
       " 8: 34,\n",
       " 9: 55,\n",
       " 10: 89,\n",
       " 11: 144,\n",
       " 12: 233,\n",
       " 13: 377,\n",
       " 14: 610,\n",
       " 15: 987,\n",
       " 16: 1597,\n",
       " 17: 2584,\n",
       " 18: 4181,\n",
       " 19: 6765,\n",
       " 20: 10946,\n",
       " 21: 17711,\n",
       " 22: 28657,\n",
       " 23: 46368,\n",
       " 24: 75025,\n",
       " 25: 121393,\n",
       " 26: 196418,\n",
       " 27: 317811,\n",
       " 28: 514229,\n",
       " 29: 832040,\n",
       " 30: 1346269,\n",
       " 31: 2178309,\n",
       " 32: 3524578,\n",
       " 33: 5702887,\n",
       " 34: 9227465,\n",
       " 35: 14930352,\n",
       " 36: 24157817,\n",
       " 37: 39088169,\n",
       " 38: 63245986,\n",
       " 39: 102334155,\n",
       " 40: 165580141,\n",
       " 41: 267914296,\n",
       " 42: 433494437,\n",
       " 43: 701408733,\n",
       " 44: 1134903170,\n",
       " 45: 1836311903,\n",
       " 46: 2971215073,\n",
       " 47: 4807526976,\n",
       " 48: 7778742049}"
      ]
     },
     "execution_count": 249,
     "metadata": {},
     "output_type": "execute_result"
    }
   ],
   "source": [
    "d"
   ]
  },
  {
   "cell_type": "code",
   "execution_count": 266,
   "id": "936c3e02-a0e3-4626-9cf7-1d4acfc40278",
   "metadata": {},
   "outputs": [
    {
     "name": "stdout",
     "output_type": "stream",
     "text": [
      "[[], [3], [2], [2, 3], [1], [1, 3], [1, 2], [1, 2, 3]]\n"
     ]
    }
   ],
   "source": [
    "def powerset(lst):\n",
    "    if len(lst) == 0:\n",
    "        return [[]]  # Base case: the power set of an empty list is a list containing the empty list\n",
    "    else:\n",
    "        rest = powerset(lst[1:])  # Recursive call to get the power set of the list excluding the first element\n",
    "        return rest + [[lst[0]] + item for item in rest]  # Combine subsets without the first element and with the first element\n",
    "\n",
    "# Example usage:\n",
    "lst = [1, 2, 3]\n",
    "print(powerset(lst))\n"
   ]
  },
  {
   "cell_type": "code",
   "execution_count": 261,
   "id": "4ad72cd5-2beb-4273-8d4e-6408c6ee8917",
   "metadata": {},
   "outputs": [
    {
     "name": "stdout",
     "output_type": "stream",
     "text": [
      "[1, ' ']\n"
     ]
    }
   ],
   "source": [
    "l = [1]\n",
    "l.append()\n",
    "print(l)"
   ]
  },
  {
   "cell_type": "code",
   "execution_count": 262,
   "id": "2795ef86-4fea-450e-b99a-f457c109a47c",
   "metadata": {},
   "outputs": [
    {
     "name": "stdout",
     "output_type": "stream",
     "text": [
      "[[1, ' '], [2, ' ']]\n"
     ]
    }
   ],
   "source": [
    "print(pow([1,2]))"
   ]
  },
  {
   "cell_type": "code",
   "execution_count": null,
   "id": "bc8f52e4-6dfc-441c-87c2-58ecf6106f3a",
   "metadata": {},
   "outputs": [],
   "source": []
  }
 ],
 "metadata": {
  "kernelspec": {
   "display_name": "Python 3 (ipykernel)",
   "language": "python",
   "name": "python3"
  },
  "language_info": {
   "codemirror_mode": {
    "name": "ipython",
    "version": 3
   },
   "file_extension": ".py",
   "mimetype": "text/x-python",
   "name": "python",
   "nbconvert_exporter": "python",
   "pygments_lexer": "ipython3",
   "version": "3.11.4"
  }
 },
 "nbformat": 4,
 "nbformat_minor": 5
}
